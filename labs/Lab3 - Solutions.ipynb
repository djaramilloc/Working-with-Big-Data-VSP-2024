{
 "cells": [
  {
   "cell_type": "markdown",
   "id": "b557d379",
   "metadata": {},
   "source": [
    "# Lab Assignment 3 -- Control Flow & Functions\n",
    "In this lab, you will complete a series of exercises related to the lecture material on control flow and functions. "
   ]
  },
  {
   "cell_type": "markdown",
   "id": "f2d3f549",
   "metadata": {},
   "source": [
    "## Exercise 1a -- Divisible by n\n",
    "Define a function called `divisible_by_n()` that takes two inputs:\n",
    "- a range\n",
    "- a single integer (the n)\n",
    "\n",
    "By default, the single integer argument should be equal to 2 if only one argument is provided.\n",
    "\n",
    "You function should return a list of all numbers in the input range that are divisible by `n`. \n",
    "\n",
    "Include a function description for your function using docstrings. \n",
    "\n",
    "**Hints**\n",
    "- You can use `%` (for modular arithmetic) or you can use `math.round()` to check if a number is divisible by 3.\n",
    "- Think about whether you should to use a `for` loop or a `while` loop."
   ]
  },
  {
   "cell_type": "code",
   "id": "a6113693",
   "metadata": {
    "ExecuteTime": {
     "end_time": "2024-07-24T17:32:44.067698Z",
     "start_time": "2024-07-24T17:32:44.051463Z"
    }
   },
   "source": [
    "# Exercise 1a\n",
    "def divisible_by_n(num_range, n=2):\n",
    "    divis_list = []\n",
    "    for num in num_range:\n",
    "        if num % n == 0:\n",
    "            divis_list.append(num)\n",
    "    return divis_list\n",
    "    "
   ],
   "outputs": [],
   "execution_count": 1
  },
  {
   "cell_type": "code",
   "id": "c8c3a0a6",
   "metadata": {
    "ExecuteTime": {
     "end_time": "2024-07-24T17:32:56.274820Z",
     "start_time": "2024-07-24T17:32:56.266651Z"
    }
   },
   "source": [
    "print(divisible_by_n(range(100), 4))"
   ],
   "outputs": [
    {
     "name": "stdout",
     "output_type": "stream",
     "text": [
      "[0, 4, 8, 12, 16, 20, 24, 28, 32, 36, 40, 44, 48, 52, 56, 60, 64, 68, 72, 76, 80, 84, 88, 92, 96]\n"
     ]
    }
   ],
   "execution_count": 2
  },
  {
   "cell_type": "markdown",
   "id": "d8d77670",
   "metadata": {},
   "source": [
    "## Exercise 1b -- Big Lists\n",
    "`%timeit` in the code below is what is known as an IPython magic function. IPython stands for Interactive Python and simply refers to a version of the Python (and other coding languages) environment that has more functionality than the standard one. In particular, this functionality makes Python easier to interact with if we want to explore data, test functions, etc. Jupyter is built on IPython. \n",
    "\n",
    "`%timeit` runs the code that follows it many times to get a sense of how long the code takes to run. Below, we use it to time how long `divide_by_n` takes on two ranges of different lengths.\n",
    "\n",
    "Run the cell and answer the following questions in a Markdown cell:\n",
    "1. Which range takes longer to get through? By how many times longer does it take? Does this make sense to you? What does it say about how the time of computation is affected by the length of the range? \n",
    "2. Would your function work with a list instead of a range? Why or why not? \n",
    "\n",
    "**Hint:** $\\mu s$ means microseconds"
   ]
  },
  {
   "cell_type": "code",
   "id": "3de20bc7",
   "metadata": {
    "ExecuteTime": {
     "end_time": "2024-07-24T17:33:41.642488Z",
     "start_time": "2024-07-24T17:33:24.415906Z"
    }
   },
   "source": [
    "# Exercise 1b -- don't edit this cell\n",
    "%timeit divisible_by_n(range(1_001), 3)\n",
    "%timeit divisible_by_n(range(10_001), 3)"
   ],
   "outputs": [
    {
     "name": "stdout",
     "output_type": "stream",
     "text": [
      "118 μs ± 15.7 μs per loop (mean ± std. dev. of 7 runs, 10,000 loops each)\n",
      "910 μs ± 15.4 μs per loop (mean ± std. dev. of 7 runs, 1,000 loops each)\n"
     ]
    }
   ],
   "execution_count": 3
  },
  {
   "cell_type": "markdown",
   "id": "d6fd32c2",
   "metadata": {},
   "source": [
    "### Response to 1b\n",
    "\n",
    "The longer range takes approximately 10 times longer as the first one. This is because the lenght of the range is about 10 times larger in the second line of code"
   ]
  },
  {
   "cell_type": "markdown",
   "id": "34af43ec",
   "metadata": {},
   "source": [
    "## Exercise 2 -- Function Objects vs. Function Calls\n",
    "`sum()` is a function that can take some iterables and return the sum of elements in that iterable. In the Markdown cell below, answer the following questions.\n",
    "1. What types is `sum`? \n",
    "2. What type is `sum([1,2,3])`? How about `sum([1,2.0,3])`? \n",
    "3. Are the types of these three objects the same or different? Why?\n",
    "4. What is the type of `print(\"hello\")`? Why?\n"
   ]
  },
  {
   "cell_type": "code",
   "id": "ce7e11cd",
   "metadata": {
    "ExecuteTime": {
     "end_time": "2024-07-24T17:35:44.387118Z",
     "start_time": "2024-07-24T17:35:44.373252Z"
    }
   },
   "source": [
    "# If needed, you can call the type function on these objects to help answer the question\n",
    "print(type(sum))\n",
    "print(type(sum([1, 2, 3])))\n",
    "print(type(sum([1, 2.0, 3])))\n",
    "print(type(print('Hello')))"
   ],
   "outputs": [
    {
     "name": "stdout",
     "output_type": "stream",
     "text": [
      "<class 'builtin_function_or_method'>\n",
      "<class 'int'>\n",
      "<class 'float'>\n",
      "Hello\n",
      "<class 'NoneType'>\n"
     ]
    }
   ],
   "execution_count": 7
  },
  {
   "cell_type": "markdown",
   "id": "708ca789",
   "metadata": {},
   "source": [
    "### Reponse to Exercise 2"
   ]
  },
  {
   "cell_type": "markdown",
   "id": "18d0aa8e",
   "metadata": {},
   "source": [
    "# Exercise 3 \n",
    "Exercise 3 is a series of six questions\n",
    "## Exercise 3a -- Factorial Function\n",
    "The factorial of an integer n (denoted n! in mathematics) is equal to itself multipled by all of the integers smaller than n. That is\n",
    "$$\n",
    "n! = n * (n-1) * (n-2) *...* 2 * 1\n",
    "$$\n",
    "where $0!$ is defined to be 1.\n",
    "\n",
    "The module `math` already has a factorial function, but you are going to build your own. In the cell below, define a function called `custom_factorial` that takes an integer as an input and returns the factorial of that integer. You must use a loop to calculate the factorial."
   ]
  },
  {
   "cell_type": "code",
   "id": "a6ae690f",
   "metadata": {
    "ExecuteTime": {
     "end_time": "2024-07-24T17:36:21.992858Z",
     "start_time": "2024-07-24T17:36:21.982873Z"
    }
   },
   "source": [
    "# Exercise 3a Code\n",
    "def custom_factorial(n):\n",
    "    out = 1\n",
    "    for num in range(1,n+1):\n",
    "        out = out * num\n",
    "    return out "
   ],
   "outputs": [],
   "execution_count": 8
  },
  {
   "cell_type": "code",
   "id": "bf8b5f15",
   "metadata": {
    "ExecuteTime": {
     "end_time": "2024-07-24T17:36:22.761119Z",
     "start_time": "2024-07-24T17:36:22.749667Z"
    }
   },
   "source": [
    "custom_factorial(5)"
   ],
   "outputs": [
    {
     "data": {
      "text/plain": [
       "120"
      ]
     },
     "execution_count": 9,
     "metadata": {},
     "output_type": "execute_result"
    }
   ],
   "execution_count": 9
  },
  {
   "cell_type": "markdown",
   "id": "6a76366f",
   "metadata": {},
   "source": [
    "## Exercise 3b -- Checking Your Work\n",
    "Using the `math` module's `factorial` function and a comparison operator, check that your function works for 10!. \n"
   ]
  },
  {
   "cell_type": "code",
   "id": "f52c5077",
   "metadata": {
    "ExecuteTime": {
     "end_time": "2024-07-24T17:36:28.245037Z",
     "start_time": "2024-07-24T17:36:28.233341Z"
    }
   },
   "source": [
    "# Exercise 3b Code\n",
    "import math\n",
    "math.factorial(10) == custom_factorial(10)"
   ],
   "outputs": [
    {
     "data": {
      "text/plain": [
       "True"
      ]
     },
     "execution_count": 10,
     "metadata": {},
     "output_type": "execute_result"
    }
   ],
   "execution_count": 10
  },
  {
   "cell_type": "markdown",
   "id": "d6933761",
   "metadata": {},
   "source": [
    "## Exercise 3c -- Nondecreasing Functions\n",
    "A function $f$ is nondecreasing when $f(x) \\geq f(y)$  if and only if $x \\geq y$. Using `matplotlib.pyplot`, and your function plot the factorial function for $n = 0, 1, 2, 3, ..., 20$. You can plot a scatter plot or a line plot. \n",
    "\n",
    "In the Markdown cell below, give another example of a nondecreasing function.\n",
    "\n",
    "**Hint:** Use a a list comprehension."
   ]
  },
  {
   "cell_type": "code",
   "id": "297f61d9",
   "metadata": {
    "ExecuteTime": {
     "end_time": "2024-07-24T17:36:47.390927Z",
     "start_time": "2024-07-24T17:36:45.262818Z"
    }
   },
   "source": [
    "# Exercise 3c Code\n",
    "import matplotlib.pyplot as plt\n",
    "x_coordinates = range(0,21)\n",
    "fact_values = [custom_factorial(x) for x in x_coordinates]\n",
    "plt.plot(x_coordinates, fact_values)"
   ],
   "outputs": [
    {
     "data": {
      "text/plain": [
       "[<matplotlib.lines.Line2D at 0x17bdbec39d0>]"
      ]
     },
     "execution_count": 11,
     "metadata": {},
     "output_type": "execute_result"
    },
    {
     "data": {
      "text/plain": [
       "<Figure size 640x480 with 1 Axes>"
      ],
      "image/png": "[encoded data removed]"
     },
     "metadata": {},
     "output_type": "display_data"
    }
   ],
   "execution_count": 11
  },
  {
   "cell_type": "markdown",
   "id": "a97e10da",
   "metadata": {},
   "source": [
    "### Response to Exercise 3c"
   ]
  },
  {
   "cell_type": "markdown",
   "id": "9f9b870c",
   "metadata": {},
   "source": [
    "## Exercise 3d -- Finding the Smallest Integer\n",
    "For a generic nondecreasing function $f$, we might be interested in finding the smallest integer $n$ such that $f(n)$ is greater than or equal to some constant $c$. In the lecture we did this with $f(n) = n^2$, which is nondecreasing for $n \\geq 0$, and $c = 12345$.\n",
    "\n",
    "Now, define a function calld `find_smallest_int` that takes a starting value `start`, a function `f`, and a constant `c` as inputs. Recognizing that these correspond to the values above, have your function return two values: the smallest integer $n$ such that $f(n) \\geq c$ and the value of $f(n)$ for that integer.\n",
    "\n",
    "**Hint:** If you're stuck, try looking at the lecture."
   ]
  },
  {
   "cell_type": "code",
   "id": "025521ae",
   "metadata": {
    "ExecuteTime": {
     "end_time": "2024-07-24T17:37:41.922792Z",
     "start_time": "2024-07-24T17:37:41.914940Z"
    }
   },
   "source": [
    "# Exercise 3d Code\n",
    "def find_smallest_int(start, f, c):\n",
    "    while f(start) < c:\n",
    "        start += 1\n",
    "        \n",
    "    return start, f(start)"
   ],
   "outputs": [],
   "execution_count": 12
  },
  {
   "cell_type": "code",
   "id": "6622a652",
   "metadata": {
    "ExecuteTime": {
     "end_time": "2024-07-24T17:37:45.760939Z",
     "start_time": "2024-07-24T17:37:45.749580Z"
    }
   },
   "source": [
    "find_smallest_int(10, lambda x: x** 2, 400)"
   ],
   "outputs": [
    {
     "data": {
      "text/plain": [
       "(20, 400)"
      ]
     },
     "execution_count": 13,
     "metadata": {},
     "output_type": "execute_result"
    }
   ],
   "execution_count": 13
  },
  {
   "cell_type": "markdown",
   "id": "c95a31db",
   "metadata": {},
   "source": [
    "## Exercise 3e -- Plugging in Your Function\n",
    "Now, use `find_smallest_int` and `custom_factorial` to find the smallest $n$ such that $n! \\geq 12,345$. Use a starting value of 0. Check your answer as we did in the lecture. \n"
   ]
  },
  {
   "cell_type": "code",
   "id": "fbb8967e",
   "metadata": {
    "ExecuteTime": {
     "end_time": "2024-07-24T17:37:56.377501Z",
     "start_time": "2024-07-24T17:37:56.367164Z"
    }
   },
   "source": [
    "# Exercise 3e Code\n",
    "find_smallest_int(0, custom_factorial, 12345)"
   ],
   "outputs": [
    {
     "data": {
      "text/plain": [
       "(8, 40320)"
      ]
     },
     "execution_count": 14,
     "metadata": {},
     "output_type": "execute_result"
    }
   ],
   "execution_count": 14
  },
  {
   "cell_type": "markdown",
   "id": "c91fbc7a",
   "metadata": {},
   "source": [
    "## Exercise 3f -- Increasing n\n",
    "Now we will time the speed and output of `find_smallest_int` with smaller and larger values of $c$ and two different functions: `custom_factorial` and and a lambda function that sqaures a single input.\n",
    "\n",
    "Answer the folowing questions in the Markdown cell below:\n",
    "1. Which function takes longer to run for a fixed value of $c$. Why do you think this is? \n",
    "2. What is the ratio between runtimes when fixing the function and varying $c$ from 1,000 to 10,000. How about 10,000 to 100,000? Compare this ratio to the ratio of smallest integers for those runs. Are they similar? Why or why not?  You will want to write some code to compare these values.\n"
   ]
  },
  {
   "cell_type": "code",
   "id": "a6081adb",
   "metadata": {
    "ExecuteTime": {
     "end_time": "2024-07-24T17:39:10.445119Z",
     "start_time": "2024-07-24T17:38:32.583792Z"
    }
   },
   "source": [
    "# Exercise 1b -- don't edit this cell\n",
    "%timeit find_smallest_int(0, custom_factorial, 1_000)\n",
    "%timeit find_smallest_int(0, custom_factorial, 10_000)\n",
    "%timeit find_smallest_int(0, custom_factorial, 100_000)\n",
    "\n",
    "\n",
    "\n",
    "%timeit find_smallest_int(0, lambda x: x ** 2, 1_000)\n",
    "%timeit find_smallest_int(0, lambda x: x ** 2, 10_000)\n",
    "%timeit find_smallest_int(0, lambda x: x ** 2, 100_000)"
   ],
   "outputs": [
    {
     "name": "stdout",
     "output_type": "stream",
     "text": [
      "6.09 μs ± 95.3 ns per loop (mean ± std. dev. of 7 runs, 100,000 loops each)\n",
      "6.38 μs ± 933 ns per loop (mean ± std. dev. of 7 runs, 100,000 loops each)\n",
      "5.75 μs ± 68.7 ns per loop (mean ± std. dev. of 7 runs, 100,000 loops each)\n",
      "5.75 μs ± 73.8 ns per loop (mean ± std. dev. of 7 runs, 100,000 loops each)\n",
      "17.3 μs ± 120 ns per loop (mean ± std. dev. of 7 runs, 100,000 loops each)\n",
      "51.7 μs ± 961 ns per loop (mean ± std. dev. of 7 runs, 10,000 loops each)\n"
     ]
    }
   ],
   "execution_count": 15
  },
  {
   "cell_type": "code",
   "id": "5e96be8e",
   "metadata": {
    "scrolled": false,
    "ExecuteTime": {
     "end_time": "2024-07-24T17:42:04.419379Z",
     "start_time": "2024-07-24T17:42:04.411064Z"
    }
   },
   "source": [
    "# Compare ratios here\n",
    "print(f\"Ratio from 1k to 10k = {6.09 / 6.38}\")\n",
    "print(f\"Ratio from 10k to 100k = {6.38 / 5.75}\")"
   ],
   "outputs": [
    {
     "name": "stdout",
     "output_type": "stream",
     "text": [
      "Ratio from 1k to 10k = 0.9545454545454546\n",
      "Ratio from 10k to 100k = 1.1095652173913044\n"
     ]
    }
   ],
   "execution_count": 17
  },
  {
   "cell_type": "code",
   "id": "e149467c",
   "metadata": {
    "ExecuteTime": {
     "end_time": "2024-07-24T17:42:39.479789Z",
     "start_time": "2024-07-24T17:42:39.463593Z"
    }
   },
   "source": [
    "print(f\"Ratio from 1k to 10k = {5.75 / 17.3}\")\n",
    "print(f\"Ratio from 10k to 100k = {17.3 / 51.7}\")"
   ],
   "outputs": [
    {
     "name": "stdout",
     "output_type": "stream",
     "text": [
      "Ratio from 1k to 10k = 0.33236994219653176\n",
      "Ratio from 10k to 100k = 0.3346228239845261\n"
     ]
    }
   ],
   "execution_count": 18
  },
  {
   "cell_type": "markdown",
   "id": "0429212c",
   "metadata": {},
   "source": [
    "### Response to Exercise 3f\n",
    "1. Fixing `c`, the function `custom_factorial` takes shorter times to run.\n",
    "2.  The ratios are approximately the same. Meaning that as we increase the number of iterations, the computation time increase in a proportional way."
   ]
  },
  {
   "cell_type": "markdown",
   "id": "2987b626",
   "metadata": {},
   "source": [
    "## Exercise 4 -- Fibonacci Sequence\n",
    "The Fibonacci Sequence is an infinite sequence of integers $X_0, X_1, X_2, X_3, ...$ defined as below\n",
    "\n",
    "$$\n",
    "X_0 = 0\n",
    "$$\n",
    "$$\n",
    "X_1 = 1\n",
    "$$\n",
    "$$\n",
    "\\hspace{3.66cm}X_t = X_{t-1} + X_{t-2} \\text{ for } t \\geq 2\n",
    "$$\n",
    "\n",
    "Below define a function called `fibo_seq` that takes $t$ as an input and returns $X_t$, the $t$-th element of the Fibonacci Sequence. \n"
   ]
  },
  {
   "cell_type": "code",
   "id": "af4f720b",
   "metadata": {
    "ExecuteTime": {
     "end_time": "2024-07-24T17:43:30.177871Z",
     "start_time": "2024-07-24T17:43:30.169794Z"
    }
   },
   "source": [
    "## Exercise 4 Code\n",
    "def fibo_seq(t):\n",
    "    x = 0\n",
    "    if t == 0:\n",
    "        return 0\n",
    "    if t == 1:\n",
    "        return 1\n",
    "    xtm2 = 0\n",
    "    xtm1 = 1\n",
    "    for t in range(2, t+1):\n",
    "        x = xtm1 + xtm2\n",
    "        xtm2 = xtm1\n",
    "        xtm1 = x\n",
    "        \n",
    "    return x\n",
    "\n",
    "    "
   ],
   "outputs": [],
   "execution_count": 19
  },
  {
   "cell_type": "code",
   "id": "76c3597e",
   "metadata": {},
   "source": [],
   "outputs": [],
   "execution_count": null
  },
  {
   "cell_type": "markdown",
   "id": "10cd6fbc",
   "metadata": {},
   "source": [
    "## Exercise 5 -- Palindrome Detector\n",
    "A palindrome is a word or phrase that is spelled the same backwards as it is forwards (ignoring spaces). Create a function called `is_palindrome` that takes a list of strings and returns a list of Boolean variables that indicate whether the respective string is a palindrome or not. **Ignore capitalization and spaces**. \n",
    "\n",
    "When you're ready, test your function out on the cell below where `palindromes` and `nonpalindromes` are defined. Your function should return `[True, True, True, True, True]` for the former and `[False, False, False]` for the latter.\n",
    "\n",
    "\n",
    "**Hints**\n",
    "- A method will help you get rid of the white space\n",
    "- Look up on Google how to reverse a string as the reverse method only exists for lists"
   ]
  },
  {
   "cell_type": "code",
   "id": "fa2d5b1a",
   "metadata": {
    "ExecuteTime": {
     "end_time": "2024-07-24T17:46:12.853734Z",
     "start_time": "2024-07-24T17:46:12.830118Z"
    }
   },
   "source": [
    "# Exercise 5 -- create is_palindrome function here\n",
    "def is_palindrome(lstr_raw):\n",
    "    lstr = [word.replace(' ', '').lower() for word in lstr_raw]\n",
    "    out = []\n",
    "    for word in lstr:\n",
    "        l0 = [l for l in word]\n",
    "        l1 = l0.copy()\n",
    "        l1.reverse()\n",
    "        \n",
    "        out.append(l0 == l1)\n",
    "    \n",
    "    return out"
   ],
   "outputs": [],
   "execution_count": 20
  },
  {
   "cell_type": "code",
   "id": "2334af93",
   "metadata": {
    "ExecuteTime": {
     "end_time": "2024-07-24T17:46:15.322131Z",
     "start_time": "2024-07-24T17:46:15.310400Z"
    }
   },
   "source": [
    "# Run this cell when you're ready -- do not edit it\n",
    "palindromes = [\"Radar\", \"Taco cat\", \"Stressed Desserts\", \"no Lemon no melon\", \"!??!!??!\"]\n",
    "nonpalindromes = [\"Hello World\", \"VSP\", \"Vancouver Canada\"]\n",
    "\n",
    "print(is_palindrome(palindromes))\n",
    "is_palindrome(nonpalindromes)"
   ],
   "outputs": [
    {
     "name": "stdout",
     "output_type": "stream",
     "text": [
      "[True, True, True, True, True]\n"
     ]
    },
    {
     "data": {
      "text/plain": [
       "[False, False, False]"
      ]
     },
     "execution_count": 21,
     "metadata": {},
     "output_type": "execute_result"
    }
   ],
   "execution_count": 21
  },
  {
   "metadata": {},
   "cell_type": "code",
   "outputs": [],
   "execution_count": null,
   "source": "",
   "id": "42aa388488604fd5"
  }
 ],
 "metadata": {
  "kernelspec": {
   "display_name": "Python 3 (ipykernel)",
   "language": "python",
   "name": "python3"
  },
  "language_info": {
   "codemirror_mode": {
    "name": "ipython",
    "version": 3
   },
   "file_extension": ".py",
   "mimetype": "text/x-python",
   "name": "python",
   "nbconvert_exporter": "python",
   "pygments_lexer": "ipython3",
   "version": "3.9.15"
  }
 },
 "nbformat": 4,
 "nbformat_minor": 5
}
