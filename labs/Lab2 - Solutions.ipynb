{
 "cells": [
  {
   "metadata": {},
   "cell_type": "markdown",
   "source": [
    "# Lab Assignment # 2 - Collections\n",
    "## Solutions"
   ],
   "id": "53bab78b0d66b246"
  },
  {
   "metadata": {},
   "cell_type": "markdown",
   "source": [
    "## Exercise 1 -- Comparison Operators\n",
    "Using `num_list` and list comprehensions, create three lists that correspond to the elements in num_list:\n",
    "1. `equal_list` whose elements should be true if the corresponding element in `num_list` is equal to 0 and false otherwise.\n",
    "2. `greater_list` whose elements should be true if the corresponding element in `num_list` is strictly greater than 0 and false otherwise.\n",
    "3. `lesser_list` whose elements should be true if the corresponding element in `num_list` is strictly less than 0 and false otherwise.\n",
    "4. Finally, using the three lists you generated, list comprehensions, and `zip()`, create `true_list` a list of length 7 where every element is true. \n",
    "\n",
    "**Hints for 4:** \n",
    "- `zip` can be used on more than two lists\n",
    "- use `or` within the list comprehension"
   ],
   "id": "c980b9461542bf99"
  },
  {
   "metadata": {
    "ExecuteTime": {
     "end_time": "2024-07-23T18:06:42.987424Z",
     "start_time": "2024-07-23T18:06:42.969702Z"
    }
   },
   "cell_type": "code",
   "source": [
    "# Exercise 1 Code\n",
    "# Don't edit the line below\n",
    "num_list = [-5, -3, -1, 0, 1, 3, 5]\n",
    "\n",
    "# your code below here\n",
    "equal_list = [True if num == 0 else False for num in num_list]\n",
    "print(\"equal_list: \", equal_list)\n",
    "greater_list = [True if num > 0 else False for num in num_list]\n",
    "print(\"greater_list: \", greater_list)\n",
    "lesser_list = [True if num < 0 else False for num in num_list]\n",
    "print(\"lesser_list: \", lesser_list)\n",
    "\n",
    "true_list = [any([e, g, l]) for e, g, l in zip(equal_list, greater_list, lesser_list)]\n",
    "print(\"true_list: \", true_list)"
   ],
   "id": "2e353f3a5c8caeb4",
   "outputs": [
    {
     "name": "stdout",
     "output_type": "stream",
     "text": [
      "equal_list:  [False, False, False, True, False, False, False]\n",
      "greater_list:  [False, False, False, False, True, True, True]\n",
      "lesser_list:  [True, True, True, False, False, False, False]\n",
      "true_list:  [True, True, True, True, True, True, True]\n"
     ]
    }
   ],
   "execution_count": 1
  },
  {
   "metadata": {},
   "cell_type": "markdown",
   "source": [
    "## Exercise 2 -- Lists\n",
    "Complete the following steps in the cells below:\n",
    "1. Add two different elements from `num_list` together so that the sum is 0. Print the result.\n",
    "2. Using `.append()`, add a 7 to the end of `num_list`\n",
    "3. Using `.insert()`, add a -7 to the start of `num_list`\n",
    "3. Change each element of `num_list` individually so that it it is equal to the list `[-4, -3, -2, -1, 0, 1, 2, 3, 4]`\n",
    "4. Use the list method `.reverse()` on `num_list` then print `num_list`. What does `.reverse()` do?  Did `.reverse()` change `num_list`?  Answer in the Markdown Cell.\n"
   ],
   "id": "af64d7ed5202ea4"
  },
  {
   "metadata": {
    "ExecuteTime": {
     "end_time": "2024-07-23T18:06:43.001271Z",
     "start_time": "2024-07-23T18:06:42.991631Z"
    }
   },
   "cell_type": "code",
   "source": [
    "# Part 1\n",
    "print(num_list[0] + num_list[-1])\n",
    "\n",
    "# Part 2\n",
    "num_list.append(7)\n",
    "\n",
    "# Part 3\n",
    "num_list.insert(0, -7)\n",
    "\n",
    "# Part 4\n",
    "for i in range(len(num_list)):\n",
    "    num_list[i] = i - 4\n",
    "print(num_list)\n",
    "\n",
    "# Part 5\n",
    "num_list.reverse()\n",
    "print(num_list)"
   ],
   "id": "d7b462dd84d7b94a",
   "outputs": [
    {
     "name": "stdout",
     "output_type": "stream",
     "text": [
      "0\n",
      "[-4, -3, -2, -1, 0, 1, 2, 3, 4]\n",
      "[4, 3, 2, 1, 0, -1, -2, -3, -4]\n"
     ]
    }
   ],
   "execution_count": 2
  },
  {
   "metadata": {},
   "cell_type": "markdown",
   "source": [
    "### Response to Exercise 2.5\n",
    "\n",
    "It modifies the order of the list. And by default it replaces the original list"
   ],
   "id": "89dc2473a4e17740"
  },
  {
   "metadata": {},
   "cell_type": "markdown",
   "source": [
    "## Exercise 3 -- Dictonaries\n",
    "First, define a dictonary called `my_dict`. It should contain four keys:\n",
    "- \"name\"\n",
    "- \"major\"\n",
    "- \"favorite artist\"\n",
    "- \"favorite food\"\n",
    "\n",
    "Fill out the values to match your name, major, etc.\n",
    "\n",
    "Using `my_dict` and string formatting, print a sentence in the cell below that says who you are, what your major is, your favorite artist, and your favorite food."
   ],
   "id": "47726a8961d2a436"
  },
  {
   "metadata": {
    "ExecuteTime": {
     "end_time": "2024-07-23T18:06:43.010579Z",
     "start_time": "2024-07-23T18:06:43.003296Z"
    }
   },
   "cell_type": "code",
   "source": [
    "# Exercise 3 Code\n",
    "my_dict = {\n",
    "    'name': 'Daniel',\n",
    "    'major': 'Economics',\n",
    "    'favorite artist': 'Green Day',\n",
    "    'favorite food': 'Encebollado'\n",
    "}\n",
    "\n",
    "print(f\"I am {my_dict['name']}, my major is {my_dict['major']}, my favorite food is {my_dict['favorite food']}, and my favorite artist is {my_dict['favorite artist']}\")"
   ],
   "id": "e61e388fab247657",
   "outputs": [
    {
     "name": "stdout",
     "output_type": "stream",
     "text": [
      "I am Daniel, my major is Economics, my favorite food is Encebollado, and my favorite artist is Green Day\n"
     ]
    }
   ],
   "execution_count": 3
  },
  {
   "metadata": {},
   "cell_type": "markdown",
   "source": [
    "## Exercise 4 -- Type Conversion\n",
    "We can use functions like `int()`, `float()`, and `str()` to convert from one type into another. Use them to complete the following tasks:\n",
    "1. Define a variable called `revenue` that is equal to price times quanitity. You can only use the strings that are already defined, the conversion functions above, and the `*` operator. \n",
    "2. Use `str()` to convert `revenue` into a string with a dollar sign in fron. Call this new variable `revenue_string` and print it. \n",
    "\n",
    "\n",
    "**Hint:** How can you remove the dollar sign before conversion?\n"
   ],
   "id": "8476f31e2c9c2da7"
  },
  {
   "metadata": {
    "ExecuteTime": {
     "end_time": "2024-07-23T18:06:43.021749Z",
     "start_time": "2024-07-23T18:06:43.013601Z"
    }
   },
   "cell_type": "code",
   "source": [
    "# Exercise 4 Code\n",
    "price_string  = \"$7.50\" # don't edit\n",
    "quantity_string = \"10\" # don't edit\n",
    "\n",
    "# your code here\n",
    "revenue = float(price_string[1:]) * int(quantity_string)\n",
    "print(revenue)\n",
    "\n",
    "revenue_string = \"$\" + str(revenue)\n",
    "print(revenue_string)"
   ],
   "id": "c0fe320082e8d0dd",
   "outputs": [
    {
     "name": "stdout",
     "output_type": "stream",
     "text": [
      "75.0\n",
      "$75.0\n"
     ]
    }
   ],
   "execution_count": 4
  },
  {
   "metadata": {},
   "cell_type": "markdown",
   "source": [
    "## Exercise 5 -- Modules and Very Basic Plotting\n",
    "Complete the following steps in the cells below:\n",
    "1. Import the `math` module and give it an alias of `mt`.\n",
    "2. Import the `matplotlib.pyplot` module and give it an alias of `plt`.\n",
    "3. Create a variable named `num_range` and set it equal to a range of numbers from 0 to 1000 (including 1000).\n",
    "4. Using `num_range` and a list comprehension, create a list called `sine_list` that is equal to `sin((pi/100) * x)` for every `x` in the range `num_range`. (**Hint:** sin and pi are objects from the math library.)\n",
    "5. Finally, using `plt`, `num_range`, and `sine_list`, generate a line plot. "
   ],
   "id": "9571d4b7f5224303"
  },
  {
   "metadata": {
    "ExecuteTime": {
     "end_time": "2024-07-23T18:06:44.118659Z",
     "start_time": "2024-07-23T18:06:43.027014Z"
    }
   },
   "cell_type": "code",
   "source": [
    "# Exercise 5 Code\n",
    "import math as mt\n",
    "import matplotlib.pyplot as plt"
   ],
   "id": "d8495aeebf9b755f",
   "outputs": [],
   "execution_count": 5
  },
  {
   "metadata": {
    "ExecuteTime": {
     "end_time": "2024-07-23T18:06:44.388915Z",
     "start_time": "2024-07-23T18:06:44.118659Z"
    }
   },
   "cell_type": "code",
   "source": [
    "num_range = range(0, 1000+1)\n",
    "sine_list = [mt.sin((mt.pi / 100) * x) for x in num_range]\n",
    "plt.plot(num_range, sine_list)"
   ],
   "id": "329bdb885f4a56c",
   "outputs": [
    {
     "data": {
      "text/plain": [
       "[<matplotlib.lines.Line2D at 0x26234f1aa10>]"
      ]
     },
     "execution_count": 6,
     "metadata": {},
     "output_type": "execute_result"
    },
    {
     "data": {
      "text/plain": [
       "<Figure size 640x480 with 1 Axes>"
      ],
      "image/png": "[encoded data removed]"
     },
     "metadata": {},
     "output_type": "display_data"
    }
   ],
   "execution_count": 6
  },
  {
   "metadata": {
    "ExecuteTime": {
     "end_time": "2024-07-23T18:06:44.397276Z",
     "start_time": "2024-07-23T18:06:44.388915Z"
    }
   },
   "cell_type": "code",
   "source": "",
   "id": "4eb62f43635b1cc5",
   "outputs": [],
   "execution_count": 6
  }
 ],
 "metadata": {
  "kernelspec": {
   "display_name": "Python 3",
   "language": "python",
   "name": "python3"
  },
  "language_info": {
   "codemirror_mode": {
    "name": "ipython",
    "version": 2
   },
   "file_extension": ".py",
   "mimetype": "text/x-python",
   "name": "python",
   "nbconvert_exporter": "python",
   "pygments_lexer": "ipython2",
   "version": "2.7.6"
  }
 },
 "nbformat": 4,
 "nbformat_minor": 5
}
