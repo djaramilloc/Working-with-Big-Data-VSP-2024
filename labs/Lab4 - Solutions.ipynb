{
 "cells": [
  {
   "cell_type": "markdown",
   "id": "61f34e69",
   "metadata": {},
   "source": [
    "# Lab Assignment 4 -- Data and Pandas\n",
    "## Solutions\n",
    "\n",
    "In this lab, you will complete a series of exercises related to the lecture material on data and Pandas using some real datasets. Each exercise will focus around a single dataset and contain multiple steps. "
   ]
  },
  {
   "cell_type": "code",
   "id": "b004e6da",
   "metadata": {
    "ExecuteTime": {
     "end_time": "2024-07-25T18:30:45.546201Z",
     "start_time": "2024-07-25T18:30:44.110026Z"
    }
   },
   "source": [
    "# We import the libraries you will need\n",
    "import math\n",
    "import pandas as pd"
   ],
   "outputs": [],
   "execution_count": 1
  },
  {
   "cell_type": "markdown",
   "id": "91a79149",
   "metadata": {},
   "source": [
    "## Exercise 1 -- Unemployment Data\n",
    "Below, we load in data on Unemployment in the United States at the State level."
   ]
  },
  {
   "cell_type": "code",
   "id": "77e4deeb",
   "metadata": {
    "ExecuteTime": {
     "end_time": "2024-07-25T18:30:45.794138Z",
     "start_time": "2024-07-25T18:30:45.549449Z"
    }
   },
   "source": [
    "# Do Not Edit\n",
    "url = \"https://datascience.quantecon.org/assets/data/state_unemployment.csv\"\n",
    "unemp = pd.read_csv(url, parse_dates=[\"Date\"])"
   ],
   "outputs": [],
   "execution_count": 2
  },
  {
   "cell_type": "markdown",
   "id": "9c01d47d",
   "metadata": {},
   "source": [
    "## Exercise 1a -- Displaying Data\n",
    "Complete the following steps:\n",
    "- In two cells below, display the top 7 rows  and the bottom 3 rows of `unemp`. \n",
    "- In the third cell, change `unemp` so its column names are strictly lowercase\n",
    "- Display the resulting DataFrame by calling `unemp` at the bottomg of the third cell.\n",
    "\n",
    "From a \"tidy\" perspective, what is an observation in this data? Explain why. Answer in the Markdown cell below."
   ]
  },
  {
   "cell_type": "code",
   "id": "f40b3c25",
   "metadata": {
    "ExecuteTime": {
     "end_time": "2024-07-25T18:30:45.819659Z",
     "start_time": "2024-07-25T18:30:45.796160Z"
    }
   },
   "source": [
    "## Exercise 1a -- Top 7\n",
    "unemp.head(7)"
   ],
   "outputs": [
    {
     "data": {
      "text/plain": [
       "        Date        state  LaborForce  UnemploymentRate\n",
       "0 2000-01-01      Alabama   2142945.0               4.7\n",
       "1 2000-01-01       Alaska    319059.0               6.3\n",
       "2 2000-01-01      Arizona   2499980.0               4.1\n",
       "3 2000-01-01     Arkansas   1264619.0               4.4\n",
       "4 2000-01-01   California  16680246.0               5.0\n",
       "5 2000-01-01     Colorado   2354671.0               2.8\n",
       "6 2000-01-01  Connecticut   1768421.0               2.8"
      ],
      "text/html": [
       "<div>\n",
       "<style scoped>\n",
       "    .dataframe tbody tr th:only-of-type {\n",
       "        vertical-align: middle;\n",
       "    }\n",
       "\n",
       "    .dataframe tbody tr th {\n",
       "        vertical-align: top;\n",
       "    }\n",
       "\n",
       "    .dataframe thead th {\n",
       "        text-align: right;\n",
       "    }\n",
       "</style>\n",
       "<table border=\"1\" class=\"dataframe\">\n",
       "  <thead>\n",
       "    <tr style=\"text-align: right;\">\n",
       "      <th></th>\n",
       "      <th>Date</th>\n",
       "      <th>state</th>\n",
       "      <th>LaborForce</th>\n",
       "      <th>UnemploymentRate</th>\n",
       "    </tr>\n",
       "  </thead>\n",
       "  <tbody>\n",
       "    <tr>\n",
       "      <th>0</th>\n",
       "      <td>2000-01-01</td>\n",
       "      <td>Alabama</td>\n",
       "      <td>2142945.0</td>\n",
       "      <td>4.7</td>\n",
       "    </tr>\n",
       "    <tr>\n",
       "      <th>1</th>\n",
       "      <td>2000-01-01</td>\n",
       "      <td>Alaska</td>\n",
       "      <td>319059.0</td>\n",
       "      <td>6.3</td>\n",
       "    </tr>\n",
       "    <tr>\n",
       "      <th>2</th>\n",
       "      <td>2000-01-01</td>\n",
       "      <td>Arizona</td>\n",
       "      <td>2499980.0</td>\n",
       "      <td>4.1</td>\n",
       "    </tr>\n",
       "    <tr>\n",
       "      <th>3</th>\n",
       "      <td>2000-01-01</td>\n",
       "      <td>Arkansas</td>\n",
       "      <td>1264619.0</td>\n",
       "      <td>4.4</td>\n",
       "    </tr>\n",
       "    <tr>\n",
       "      <th>4</th>\n",
       "      <td>2000-01-01</td>\n",
       "      <td>California</td>\n",
       "      <td>16680246.0</td>\n",
       "      <td>5.0</td>\n",
       "    </tr>\n",
       "    <tr>\n",
       "      <th>5</th>\n",
       "      <td>2000-01-01</td>\n",
       "      <td>Colorado</td>\n",
       "      <td>2354671.0</td>\n",
       "      <td>2.8</td>\n",
       "    </tr>\n",
       "    <tr>\n",
       "      <th>6</th>\n",
       "      <td>2000-01-01</td>\n",
       "      <td>Connecticut</td>\n",
       "      <td>1768421.0</td>\n",
       "      <td>2.8</td>\n",
       "    </tr>\n",
       "  </tbody>\n",
       "</table>\n",
       "</div>"
      ]
     },
     "execution_count": 3,
     "metadata": {},
     "output_type": "execute_result"
    }
   ],
   "execution_count": 3
  },
  {
   "cell_type": "code",
   "id": "a8d6da9a",
   "metadata": {
    "scrolled": true,
    "ExecuteTime": {
     "end_time": "2024-07-25T18:30:45.837680Z",
     "start_time": "2024-07-25T18:30:45.823216Z"
    }
   },
   "source": [
    "## Exercise 1a -- Bottom 3\n",
    "unemp.tail(3)"
   ],
   "outputs": [
    {
     "data": {
      "text/plain": [
       "            Date          state  LaborForce  UnemploymentRate\n",
       "10797 2017-12-01  West Virginia    781852.0               5.4\n",
       "10798 2017-12-01      Wisconsin   3158257.0               3.2\n",
       "10799 2017-12-01        Wyoming    292305.0               4.1"
      ],
      "text/html": [
       "<div>\n",
       "<style scoped>\n",
       "    .dataframe tbody tr th:only-of-type {\n",
       "        vertical-align: middle;\n",
       "    }\n",
       "\n",
       "    .dataframe tbody tr th {\n",
       "        vertical-align: top;\n",
       "    }\n",
       "\n",
       "    .dataframe thead th {\n",
       "        text-align: right;\n",
       "    }\n",
       "</style>\n",
       "<table border=\"1\" class=\"dataframe\">\n",
       "  <thead>\n",
       "    <tr style=\"text-align: right;\">\n",
       "      <th></th>\n",
       "      <th>Date</th>\n",
       "      <th>state</th>\n",
       "      <th>LaborForce</th>\n",
       "      <th>UnemploymentRate</th>\n",
       "    </tr>\n",
       "  </thead>\n",
       "  <tbody>\n",
       "    <tr>\n",
       "      <th>10797</th>\n",
       "      <td>2017-12-01</td>\n",
       "      <td>West Virginia</td>\n",
       "      <td>781852.0</td>\n",
       "      <td>5.4</td>\n",
       "    </tr>\n",
       "    <tr>\n",
       "      <th>10798</th>\n",
       "      <td>2017-12-01</td>\n",
       "      <td>Wisconsin</td>\n",
       "      <td>3158257.0</td>\n",
       "      <td>3.2</td>\n",
       "    </tr>\n",
       "    <tr>\n",
       "      <th>10799</th>\n",
       "      <td>2017-12-01</td>\n",
       "      <td>Wyoming</td>\n",
       "      <td>292305.0</td>\n",
       "      <td>4.1</td>\n",
       "    </tr>\n",
       "  </tbody>\n",
       "</table>\n",
       "</div>"
      ]
     },
     "execution_count": 4,
     "metadata": {},
     "output_type": "execute_result"
    }
   ],
   "execution_count": 4
  },
  {
   "cell_type": "code",
   "id": "7ec83638",
   "metadata": {
    "scrolled": true,
    "ExecuteTime": {
     "end_time": "2024-07-25T18:30:45.858738Z",
     "start_time": "2024-07-25T18:30:45.839833Z"
    }
   },
   "source": [
    "# Exercise 1a -- Rename Columns\n",
    "unemp = unemp.rename(columns={col: col.lower() for col in unemp.columns})\n",
    "unemp.head()"
   ],
   "outputs": [
    {
     "data": {
      "text/plain": [
       "        date       state  laborforce  unemploymentrate\n",
       "0 2000-01-01     Alabama   2142945.0               4.7\n",
       "1 2000-01-01      Alaska    319059.0               6.3\n",
       "2 2000-01-01     Arizona   2499980.0               4.1\n",
       "3 2000-01-01    Arkansas   1264619.0               4.4\n",
       "4 2000-01-01  California  16680246.0               5.0"
      ],
      "text/html": [
       "<div>\n",
       "<style scoped>\n",
       "    .dataframe tbody tr th:only-of-type {\n",
       "        vertical-align: middle;\n",
       "    }\n",
       "\n",
       "    .dataframe tbody tr th {\n",
       "        vertical-align: top;\n",
       "    }\n",
       "\n",
       "    .dataframe thead th {\n",
       "        text-align: right;\n",
       "    }\n",
       "</style>\n",
       "<table border=\"1\" class=\"dataframe\">\n",
       "  <thead>\n",
       "    <tr style=\"text-align: right;\">\n",
       "      <th></th>\n",
       "      <th>date</th>\n",
       "      <th>state</th>\n",
       "      <th>laborforce</th>\n",
       "      <th>unemploymentrate</th>\n",
       "    </tr>\n",
       "  </thead>\n",
       "  <tbody>\n",
       "    <tr>\n",
       "      <th>0</th>\n",
       "      <td>2000-01-01</td>\n",
       "      <td>Alabama</td>\n",
       "      <td>2142945.0</td>\n",
       "      <td>4.7</td>\n",
       "    </tr>\n",
       "    <tr>\n",
       "      <th>1</th>\n",
       "      <td>2000-01-01</td>\n",
       "      <td>Alaska</td>\n",
       "      <td>319059.0</td>\n",
       "      <td>6.3</td>\n",
       "    </tr>\n",
       "    <tr>\n",
       "      <th>2</th>\n",
       "      <td>2000-01-01</td>\n",
       "      <td>Arizona</td>\n",
       "      <td>2499980.0</td>\n",
       "      <td>4.1</td>\n",
       "    </tr>\n",
       "    <tr>\n",
       "      <th>3</th>\n",
       "      <td>2000-01-01</td>\n",
       "      <td>Arkansas</td>\n",
       "      <td>1264619.0</td>\n",
       "      <td>4.4</td>\n",
       "    </tr>\n",
       "    <tr>\n",
       "      <th>4</th>\n",
       "      <td>2000-01-01</td>\n",
       "      <td>California</td>\n",
       "      <td>16680246.0</td>\n",
       "      <td>5.0</td>\n",
       "    </tr>\n",
       "  </tbody>\n",
       "</table>\n",
       "</div>"
      ]
     },
     "execution_count": 5,
     "metadata": {},
     "output_type": "execute_result"
    }
   ],
   "execution_count": 5
  },
  {
   "cell_type": "markdown",
   "id": "53957b16",
   "metadata": {},
   "source": [
    "### Response to Exercise \n",
    "\n",
    "The observational unit is at the `state-date` level"
   ]
  },
  {
   "cell_type": "markdown",
   "id": "7517e89e",
   "metadata": {},
   "source": [
    "## Exercise 1b -- Creating Variables & Index Setting\n",
    "Complete the following steps:\n",
    "- Create a column in `unemp` called \"year\" that is equal to the year of the date. \n",
    "- Change the index of `unemp` so that the index (or indices) reflect the observational units. \n",
    "- Display the indices.  \n",
    "\n",
    "In the Markdown cell below, address the following prompts:\n",
    "1. How many indices are there?\n",
    "2. Why are there this many indices? Write an equation that explains it.\n",
    "3. Is one of your indices a `DateTimeIndex` object?"
   ]
  },
  {
   "cell_type": "code",
   "id": "aeaf7d53",
   "metadata": {
    "scrolled": true,
    "ExecuteTime": {
     "end_time": "2024-07-25T18:30:45.879821Z",
     "start_time": "2024-07-25T18:30:45.861165Z"
    }
   },
   "source": [
    "# Exercise 1b Code\n",
    "unemp['year'] = unemp['date'].dt.year\n",
    "unemp.head()"
   ],
   "outputs": [
    {
     "data": {
      "text/plain": [
       "        date       state  laborforce  unemploymentrate  year\n",
       "0 2000-01-01     Alabama   2142945.0               4.7  2000\n",
       "1 2000-01-01      Alaska    319059.0               6.3  2000\n",
       "2 2000-01-01     Arizona   2499980.0               4.1  2000\n",
       "3 2000-01-01    Arkansas   1264619.0               4.4  2000\n",
       "4 2000-01-01  California  16680246.0               5.0  2000"
      ],
      "text/html": [
       "<div>\n",
       "<style scoped>\n",
       "    .dataframe tbody tr th:only-of-type {\n",
       "        vertical-align: middle;\n",
       "    }\n",
       "\n",
       "    .dataframe tbody tr th {\n",
       "        vertical-align: top;\n",
       "    }\n",
       "\n",
       "    .dataframe thead th {\n",
       "        text-align: right;\n",
       "    }\n",
       "</style>\n",
       "<table border=\"1\" class=\"dataframe\">\n",
       "  <thead>\n",
       "    <tr style=\"text-align: right;\">\n",
       "      <th></th>\n",
       "      <th>date</th>\n",
       "      <th>state</th>\n",
       "      <th>laborforce</th>\n",
       "      <th>unemploymentrate</th>\n",
       "      <th>year</th>\n",
       "    </tr>\n",
       "  </thead>\n",
       "  <tbody>\n",
       "    <tr>\n",
       "      <th>0</th>\n",
       "      <td>2000-01-01</td>\n",
       "      <td>Alabama</td>\n",
       "      <td>2142945.0</td>\n",
       "      <td>4.7</td>\n",
       "      <td>2000</td>\n",
       "    </tr>\n",
       "    <tr>\n",
       "      <th>1</th>\n",
       "      <td>2000-01-01</td>\n",
       "      <td>Alaska</td>\n",
       "      <td>319059.0</td>\n",
       "      <td>6.3</td>\n",
       "      <td>2000</td>\n",
       "    </tr>\n",
       "    <tr>\n",
       "      <th>2</th>\n",
       "      <td>2000-01-01</td>\n",
       "      <td>Arizona</td>\n",
       "      <td>2499980.0</td>\n",
       "      <td>4.1</td>\n",
       "      <td>2000</td>\n",
       "    </tr>\n",
       "    <tr>\n",
       "      <th>3</th>\n",
       "      <td>2000-01-01</td>\n",
       "      <td>Arkansas</td>\n",
       "      <td>1264619.0</td>\n",
       "      <td>4.4</td>\n",
       "      <td>2000</td>\n",
       "    </tr>\n",
       "    <tr>\n",
       "      <th>4</th>\n",
       "      <td>2000-01-01</td>\n",
       "      <td>California</td>\n",
       "      <td>16680246.0</td>\n",
       "      <td>5.0</td>\n",
       "      <td>2000</td>\n",
       "    </tr>\n",
       "  </tbody>\n",
       "</table>\n",
       "</div>"
      ]
     },
     "execution_count": 6,
     "metadata": {},
     "output_type": "execute_result"
    }
   ],
   "execution_count": 6
  },
  {
   "metadata": {
    "ExecuteTime": {
     "end_time": "2024-07-25T18:30:45.892378Z",
     "start_time": "2024-07-25T18:30:45.882840Z"
    }
   },
   "cell_type": "code",
   "source": "unemp = unemp.set_index(keys=['state', \"date\"])",
   "id": "37a40ec2c50bafd5",
   "outputs": [],
   "execution_count": 7
  },
  {
   "cell_type": "markdown",
   "id": "ff0aa8fe",
   "metadata": {},
   "source": [
    "### Response to Exercise 1b\n",
    "\n",
    "1. There are two level of indexes\n",
    "2. Because both columns jointly uniquely identify the data\n",
    "3. Yes, the column `date`"
   ]
  },
  {
   "cell_type": "markdown",
   "id": "8037848f",
   "metadata": {},
   "source": [
    "### Exercise 1c -- Plotting Annual Averages\n",
    "Complete the following steps:\n",
    "1. Using `tiny_unemp`, find the year-state average of the unemployment rate and save it to `yearly_state_unemp`.\n",
    "2. Reshape `yearly_state_unemp` by using `unstack()`. Ensure that your row indices are years and your column variables are states.  \n",
    "3. Display `yearly_state_unemp` by making it the last line in the cell.\n",
    "4. Note that the `unemploymentrate` level is not very useful because all of the numbers are unemployment rates. Let's remove it by using `.droplevel()` on `yearly_state_unemp`. Call this new DataFrame `clean_state_unemp` You may want to reference the [documentation](https://pandas.pydata.org/docs/reference/api/pandas.DataFrame.droplevel.html) to see which argument you will need. \n",
    "5. Use the `.plot()` method on `clean_state_unemp`.\n",
    "6. In the next cell, use the `.plot()` method on `yearly_state_unemp`.\n",
    "\n",
    "In the Markdown cell below **answer the following questions**: \n",
    "1. What is the most salient real world phenomenon this is visible in the plot?\n",
    "2. Compare the two plots. How did removing the `unemploymentrate` level change the plot?\n",
    "\n",
    "**Hints**\n",
    "- You can use `df.drop()` ([documentation here](https://pandas.pydata.org/docs/reference/api/pandas.DataFrame.drop.html))  to get rid of the `laborforce` column when creating `yearly_state_unemp`."
   ]
  },
  {
   "cell_type": "code",
   "id": "a8819ab2",
   "metadata": {
    "ExecuteTime": {
     "end_time": "2024-07-25T18:30:45.914288Z",
     "start_time": "2024-07-25T18:30:45.895415Z"
    }
   },
   "source": [
    "# Do not edit this code\n",
    "tiny_unemp = unemp.loc[[\"Colorado\", \"California\", \"Alabama\", \"New York\", \"Florida\"]]\n",
    "tiny_unemp.head()"
   ],
   "outputs": [
    {
     "data": {
      "text/plain": [
       "                     laborforce  unemploymentrate  year\n",
       "state    date                                          \n",
       "Colorado 2000-01-01   2354671.0               2.8  2000\n",
       "         2000-02-01   2356780.0               2.8  2000\n",
       "         2000-03-01   2357991.0               2.7  2000\n",
       "         2000-04-01   2358321.0               2.7  2000\n",
       "         2000-05-01   2357978.0               2.7  2000"
      ],
      "text/html": [
       "<div>\n",
       "<style scoped>\n",
       "    .dataframe tbody tr th:only-of-type {\n",
       "        vertical-align: middle;\n",
       "    }\n",
       "\n",
       "    .dataframe tbody tr th {\n",
       "        vertical-align: top;\n",
       "    }\n",
       "\n",
       "    .dataframe thead th {\n",
       "        text-align: right;\n",
       "    }\n",
       "</style>\n",
       "<table border=\"1\" class=\"dataframe\">\n",
       "  <thead>\n",
       "    <tr style=\"text-align: right;\">\n",
       "      <th></th>\n",
       "      <th></th>\n",
       "      <th>laborforce</th>\n",
       "      <th>unemploymentrate</th>\n",
       "      <th>year</th>\n",
       "    </tr>\n",
       "    <tr>\n",
       "      <th>state</th>\n",
       "      <th>date</th>\n",
       "      <th></th>\n",
       "      <th></th>\n",
       "      <th></th>\n",
       "    </tr>\n",
       "  </thead>\n",
       "  <tbody>\n",
       "    <tr>\n",
       "      <th rowspan=\"5\" valign=\"top\">Colorado</th>\n",
       "      <th>2000-01-01</th>\n",
       "      <td>2354671.0</td>\n",
       "      <td>2.8</td>\n",
       "      <td>2000</td>\n",
       "    </tr>\n",
       "    <tr>\n",
       "      <th>2000-02-01</th>\n",
       "      <td>2356780.0</td>\n",
       "      <td>2.8</td>\n",
       "      <td>2000</td>\n",
       "    </tr>\n",
       "    <tr>\n",
       "      <th>2000-03-01</th>\n",
       "      <td>2357991.0</td>\n",
       "      <td>2.7</td>\n",
       "      <td>2000</td>\n",
       "    </tr>\n",
       "    <tr>\n",
       "      <th>2000-04-01</th>\n",
       "      <td>2358321.0</td>\n",
       "      <td>2.7</td>\n",
       "      <td>2000</td>\n",
       "    </tr>\n",
       "    <tr>\n",
       "      <th>2000-05-01</th>\n",
       "      <td>2357978.0</td>\n",
       "      <td>2.7</td>\n",
       "      <td>2000</td>\n",
       "    </tr>\n",
       "  </tbody>\n",
       "</table>\n",
       "</div>"
      ]
     },
     "execution_count": 8,
     "metadata": {},
     "output_type": "execute_result"
    }
   ],
   "execution_count": 8
  },
  {
   "cell_type": "code",
   "id": "964bec9d",
   "metadata": {
    "scrolled": false,
    "ExecuteTime": {
     "end_time": "2024-07-25T18:30:45.939353Z",
     "start_time": "2024-07-25T18:30:45.916817Z"
    }
   },
   "source": [
    "# Exercise 1c -- Steps 1-3\n",
    "yearly_state_unemp = tiny_unemp.groupby(['state', 'year'])['unemploymentrate'].mean()\n",
    "yearly_state_unemp = yearly_state_unemp.unstack(level='state')\n",
    "yearly_state_unemp.head()"
   ],
   "outputs": [
    {
     "data": {
      "text/plain": [
       "state  Alabama  California  Colorado   Florida  New York\n",
       "year                                                    \n",
       "2000     4.575    4.958333  2.758333  3.716667  4.525000\n",
       "2001     5.100    5.433333  3.816667  4.633333  4.833333\n",
       "2002     5.900    6.650000  5.525000  5.641667  6.141667\n",
       "2003     6.025    6.800000  5.950000  5.225000  6.391667\n",
       "2004     5.700    6.208333  5.475000  4.608333  5.808333"
      ],
      "text/html": [
       "<div>\n",
       "<style scoped>\n",
       "    .dataframe tbody tr th:only-of-type {\n",
       "        vertical-align: middle;\n",
       "    }\n",
       "\n",
       "    .dataframe tbody tr th {\n",
       "        vertical-align: top;\n",
       "    }\n",
       "\n",
       "    .dataframe thead th {\n",
       "        text-align: right;\n",
       "    }\n",
       "</style>\n",
       "<table border=\"1\" class=\"dataframe\">\n",
       "  <thead>\n",
       "    <tr style=\"text-align: right;\">\n",
       "      <th>state</th>\n",
       "      <th>Alabama</th>\n",
       "      <th>California</th>\n",
       "      <th>Colorado</th>\n",
       "      <th>Florida</th>\n",
       "      <th>New York</th>\n",
       "    </tr>\n",
       "    <tr>\n",
       "      <th>year</th>\n",
       "      <th></th>\n",
       "      <th></th>\n",
       "      <th></th>\n",
       "      <th></th>\n",
       "      <th></th>\n",
       "    </tr>\n",
       "  </thead>\n",
       "  <tbody>\n",
       "    <tr>\n",
       "      <th>2000</th>\n",
       "      <td>4.575</td>\n",
       "      <td>4.958333</td>\n",
       "      <td>2.758333</td>\n",
       "      <td>3.716667</td>\n",
       "      <td>4.525000</td>\n",
       "    </tr>\n",
       "    <tr>\n",
       "      <th>2001</th>\n",
       "      <td>5.100</td>\n",
       "      <td>5.433333</td>\n",
       "      <td>3.816667</td>\n",
       "      <td>4.633333</td>\n",
       "      <td>4.833333</td>\n",
       "    </tr>\n",
       "    <tr>\n",
       "      <th>2002</th>\n",
       "      <td>5.900</td>\n",
       "      <td>6.650000</td>\n",
       "      <td>5.525000</td>\n",
       "      <td>5.641667</td>\n",
       "      <td>6.141667</td>\n",
       "    </tr>\n",
       "    <tr>\n",
       "      <th>2003</th>\n",
       "      <td>6.025</td>\n",
       "      <td>6.800000</td>\n",
       "      <td>5.950000</td>\n",
       "      <td>5.225000</td>\n",
       "      <td>6.391667</td>\n",
       "    </tr>\n",
       "    <tr>\n",
       "      <th>2004</th>\n",
       "      <td>5.700</td>\n",
       "      <td>6.208333</td>\n",
       "      <td>5.475000</td>\n",
       "      <td>4.608333</td>\n",
       "      <td>5.808333</td>\n",
       "    </tr>\n",
       "  </tbody>\n",
       "</table>\n",
       "</div>"
      ]
     },
     "execution_count": 9,
     "metadata": {},
     "output_type": "execute_result"
    }
   ],
   "execution_count": 9
  },
  {
   "cell_type": "code",
   "id": "b42aa27f",
   "metadata": {
    "scrolled": false,
    "ExecuteTime": {
     "end_time": "2024-07-25T18:30:47.349358Z",
     "start_time": "2024-07-25T18:30:45.946007Z"
    }
   },
   "source": [
    "# Exercise 1c -- Steps 4 & 5\n",
    "clean_state_unemp = yearly_state_unemp.copy()\n",
    "clean_state_unemp.plot()"
   ],
   "outputs": [
    {
     "data": {
      "text/plain": [
       "<Axes: xlabel='year'>"
      ]
     },
     "execution_count": 10,
     "metadata": {},
     "output_type": "execute_result"
    },
    {
     "data": {
      "text/plain": [
       "<Figure size 640x480 with 1 Axes>"
      ],
      "image/png": "[encoded data removed]"
     },
     "metadata": {},
     "output_type": "display_data"
    }
   ],
   "execution_count": 10
  },
  {
   "cell_type": "markdown",
   "id": "96daf06e",
   "metadata": {},
   "source": [
    "## Exercise 1d -- Using Lags to Plot Difference\n",
    "Instead of plotting the unemployment rate average over time, we will plot the annual difference between unemployment rates over time for each state. To do this, complete the following steps:\n",
    "1. Create a DataFrame called `shifted_unemp` and assign it to `clean_state_unemp` shifted by 1.\n",
    "2. Create a DataFrame called `change_unemp` and assign it to the the difference between `clean_state_unemp` and `shifted_unemp` divided by `shifted_unemp`.\n",
    "3. Call `.plot()` on `change_unemp`.\n",
    "\n",
    "Answer the following questions in the markdown cell below. \n",
    "1. Why is the year 2000 no longer being plotted? Look at the `change_unemp` DataFrame if you are unsure.\n",
    "2. Which state saw the largest annual increase in unemployment during this period?"
   ]
  },
  {
   "cell_type": "code",
   "id": "1ee44c9b",
   "metadata": {
    "scrolled": true,
    "ExecuteTime": {
     "end_time": "2024-07-25T18:30:47.721461Z",
     "start_time": "2024-07-25T18:30:47.351760Z"
    }
   },
   "source": [
    "# Exercise 1d code\n",
    "shifted_unemp = clean_state_unemp.shift()\n",
    "change_unemp = clean_state_unemp / shifted_unemp - 1\n",
    "change_unemp.plot()"
   ],
   "outputs": [
    {
     "data": {
      "text/plain": [
       "<Axes: xlabel='year'>"
      ]
     },
     "execution_count": 11,
     "metadata": {},
     "output_type": "execute_result"
    },
    {
     "data": {
      "text/plain": [
       "<Figure size 640x480 with 1 Axes>"
      ],
      "image/png": "[encoded data removed]"
     },
     "metadata": {},
     "output_type": "display_data"
    }
   ],
   "execution_count": 11
  },
  {
   "metadata": {
    "ExecuteTime": {
     "end_time": "2024-07-25T18:30:47.734864Z",
     "start_time": "2024-07-25T18:30:47.724614Z"
    }
   },
   "cell_type": "code",
   "source": "change_unemp.max()",
   "id": "15645be738820a7f",
   "outputs": [
    {
     "data": {
      "text/plain": [
       "state\n",
       "Alabama       0.922741\n",
       "California    0.528000\n",
       "Colorado      0.505155\n",
       "Florida       0.649471\n",
       "New York      0.523664\n",
       "dtype: float64"
      ]
     },
     "execution_count": 12,
     "metadata": {},
     "output_type": "execute_result"
    }
   ],
   "execution_count": 12
  },
  {
   "cell_type": "markdown",
   "id": "9a6be3a0",
   "metadata": {},
   "source": [
    "### Response to Exercise 1d\n",
    "\n",
    "1. It is not plotted because there is no information about 1999 to compute the annual variation.\n",
    "2. Alabama had the largest increase in unemployment"
   ]
  },
  {
   "cell_type": "markdown",
   "id": "14f3f612",
   "metadata": {},
   "source": [
    "## Exercise 2\n",
    "In this question, we're going to look at data on daily Covid cases in British Columbia from the [COVID-19 Canada Open Data Working Group](https://github.com/ccodwg/Covid19Canada). This data is broken down into five health regions:\n",
    "- Fraser Health (Fraser)\n",
    "- Interior Health (Interior)\n",
    "- Northern Health (Northern)\n",
    "- Vancouver Coastal Health (Vancouver Coastal)\n",
    "- Vancouver Island Health Authority (Island)\n",
    "\n",
    "You can see the geography of these regions below (Image from gov.bc.ca)"
   ]
  },
  {
   "cell_type": "markdown",
   "id": "0d47643b",
   "metadata": {},
   "source": [
    "<img src = \"https://www2.gov.bc.ca/assets/gov/health/managing-your-health/mental-health-substance-use/find-services-map-large.jpg\"/>"
   ]
  },
  {
   "cell_type": "code",
   "id": "0531aed7",
   "metadata": {
    "scrolled": true,
    "ExecuteTime": {
     "end_time": "2024-07-25T18:30:47.776653Z",
     "start_time": "2024-07-25T18:30:47.736884Z"
    }
   },
   "source": [
    "# Dowlonad the Data -- don't edit this cell\n",
    "cases_bc = pd.read_csv(\"../data/covid_cases_bc.csv\")\n",
    "cases_bc.head()"
   ],
   "outputs": [
    {
     "data": {
      "text/plain": [
       "  date_report     Fraser   Interior     Island   Northern  Vancouver Coastal\n",
       "0  2021-01-01   0.000000   0.000000   0.000000   0.000000           0.000000\n",
       "1  2021-01-02  25.701861  24.589675   9.101332  33.213897          24.191511\n",
       "2  2021-01-03  45.464436   9.935222  10.519722  39.252788          26.815675\n",
       "3  2021-01-04  21.129137   7.203036   6.500952  17.110190          21.813363\n",
       "4  2021-01-05   0.000000   0.000000   0.000000   0.000000           0.000000"
      ],
      "text/html": [
       "<div>\n",
       "<style scoped>\n",
       "    .dataframe tbody tr th:only-of-type {\n",
       "        vertical-align: middle;\n",
       "    }\n",
       "\n",
       "    .dataframe tbody tr th {\n",
       "        vertical-align: top;\n",
       "    }\n",
       "\n",
       "    .dataframe thead th {\n",
       "        text-align: right;\n",
       "    }\n",
       "</style>\n",
       "<table border=\"1\" class=\"dataframe\">\n",
       "  <thead>\n",
       "    <tr style=\"text-align: right;\">\n",
       "      <th></th>\n",
       "      <th>date_report</th>\n",
       "      <th>Fraser</th>\n",
       "      <th>Interior</th>\n",
       "      <th>Island</th>\n",
       "      <th>Northern</th>\n",
       "      <th>Vancouver Coastal</th>\n",
       "    </tr>\n",
       "  </thead>\n",
       "  <tbody>\n",
       "    <tr>\n",
       "      <th>0</th>\n",
       "      <td>2021-01-01</td>\n",
       "      <td>0.000000</td>\n",
       "      <td>0.000000</td>\n",
       "      <td>0.000000</td>\n",
       "      <td>0.000000</td>\n",
       "      <td>0.000000</td>\n",
       "    </tr>\n",
       "    <tr>\n",
       "      <th>1</th>\n",
       "      <td>2021-01-02</td>\n",
       "      <td>25.701861</td>\n",
       "      <td>24.589675</td>\n",
       "      <td>9.101332</td>\n",
       "      <td>33.213897</td>\n",
       "      <td>24.191511</td>\n",
       "    </tr>\n",
       "    <tr>\n",
       "      <th>2</th>\n",
       "      <td>2021-01-03</td>\n",
       "      <td>45.464436</td>\n",
       "      <td>9.935222</td>\n",
       "      <td>10.519722</td>\n",
       "      <td>39.252788</td>\n",
       "      <td>26.815675</td>\n",
       "    </tr>\n",
       "    <tr>\n",
       "      <th>3</th>\n",
       "      <td>2021-01-04</td>\n",
       "      <td>21.129137</td>\n",
       "      <td>7.203036</td>\n",
       "      <td>6.500952</td>\n",
       "      <td>17.110190</td>\n",
       "      <td>21.813363</td>\n",
       "    </tr>\n",
       "    <tr>\n",
       "      <th>4</th>\n",
       "      <td>2021-01-05</td>\n",
       "      <td>0.000000</td>\n",
       "      <td>0.000000</td>\n",
       "      <td>0.000000</td>\n",
       "      <td>0.000000</td>\n",
       "      <td>0.000000</td>\n",
       "    </tr>\n",
       "  </tbody>\n",
       "</table>\n",
       "</div>"
      ]
     },
     "execution_count": 13,
     "metadata": {},
     "output_type": "execute_result"
    }
   ],
   "execution_count": 13
  },
  {
   "cell_type": "markdown",
   "id": "18cd4dea",
   "metadata": {},
   "source": [
    "## Exercise 2a -- Checking the Data\n",
    "`cases_bc` contains daily reported covid cases per hundred thousand people in BC for the year 2021. The data is broken down by health region. Before working with the data, you should learn how its structured and check it for potential errors. Answer the following questions in the first markdown cell below.\n",
    "1. What is an observation (or row) in the dataset?\n",
    "2. What is the index? Could we turn one of our variables into an index? Which one?\n",
    "3. Does it make sense for any of the values in the table to be negative? Why or why not?\n",
    "\n",
    "Now complete the following steps:\n",
    "- Make it so the date is our index and check whether it is a `DateTimeIndex`. Afterwards, display `cases_bc` by making it the last line of the cell below. \n",
    "- In the second cell, call `.dropna()` on cases_bc. \n",
    "- In the third cell, us `.any()` and comparison operators **applied to `cases_bc`** to display all dates on which at least one of the health regions has a negative value. Call this DataFrame `neg_values`. Display `neg_values` by making it the last line of the cell. (**Hint**: Observe what happens when you use a comparison operator on a DataFrame. You can use the output to easily form an index for your DataFrame.)\n",
    "- If any dates had a negative values, use comparison operators to set all negative values in `cases_bc` to `NaN`.\n",
    "\n",
    "\n",
    "Answer the following Questions in the second Markdown cell.\n",
    "\n",
    "4. Did dropping missing value change the DataFrame at all?\n",
    "5. Did you find any negative values? If so, they have been turned into `NaN` values and will not be used in future analysis. What would be a possible alternative to this approach?\n"
   ]
  },
  {
   "cell_type": "markdown",
   "id": "fed4d351",
   "metadata": {},
   "source": [
    "### Response to Exercise 2a Questions 1-3\n",
    "\n",
    "1. The observation unit is a day\n",
    "2. The index is the number of row, starting in 0. We could potentially turn `date_report` into an index\n",
    "3. It would not make sense to have negative values. As it counts the number of COVID cases.\n"
   ]
  },
  {
   "cell_type": "code",
   "id": "498e1add",
   "metadata": {
    "scrolled": true,
    "ExecuteTime": {
     "end_time": "2024-07-25T18:30:47.798550Z",
     "start_time": "2024-07-25T18:30:47.779663Z"
    }
   },
   "source": [
    "# Exercise 2a -- Step 1\n",
    "cases_bc['date_report'] = pd.to_datetime(cases_bc['date_report'])\n",
    "cases_bc = cases_bc.set_index('date_report')\n",
    "print(type(cases_bc.index))\n",
    "cases_bc"
   ],
   "outputs": [
    {
     "name": "stdout",
     "output_type": "stream",
     "text": [
      "<class 'pandas.core.indexes.datetimes.DatetimeIndex'>\n"
     ]
    },
    {
     "data": {
      "text/plain": [
       "                 Fraser   Interior     Island   Northern  Vancouver Coastal\n",
       "date_report                                                                \n",
       "2021-01-01     0.000000   0.000000   0.000000   0.000000           0.000000\n",
       "2021-01-02    25.701861  24.589675   9.101332  33.213897          24.191511\n",
       "2021-01-03    45.464436   9.935222  10.519722  39.252788          26.815675\n",
       "2021-01-04    21.129137   7.203036   6.500952  17.110190          21.813363\n",
       "2021-01-05     0.000000   0.000000   0.000000   0.000000           0.000000\n",
       "...                 ...        ...        ...        ...                ...\n",
       "2021-12-27    42.153154  36.387752  24.585417  17.781177          28.865804\n",
       "2021-12-28    41.995474  33.282995  33.686749  13.755250          32.966060\n",
       "2021-12-29    83.623027  46.447164  36.523528  33.213897          46.824926\n",
       "2021-12-30   121.886737  62.219330  54.371594  40.930258          80.119006\n",
       "2021-12-31   102.176722  39.740889  51.298417  43.278715          79.134944\n",
       "\n",
       "[365 rows x 5 columns]"
      ],
      "text/html": [
       "<div>\n",
       "<style scoped>\n",
       "    .dataframe tbody tr th:only-of-type {\n",
       "        vertical-align: middle;\n",
       "    }\n",
       "\n",
       "    .dataframe tbody tr th {\n",
       "        vertical-align: top;\n",
       "    }\n",
       "\n",
       "    .dataframe thead th {\n",
       "        text-align: right;\n",
       "    }\n",
       "</style>\n",
       "<table border=\"1\" class=\"dataframe\">\n",
       "  <thead>\n",
       "    <tr style=\"text-align: right;\">\n",
       "      <th></th>\n",
       "      <th>Fraser</th>\n",
       "      <th>Interior</th>\n",
       "      <th>Island</th>\n",
       "      <th>Northern</th>\n",
       "      <th>Vancouver Coastal</th>\n",
       "    </tr>\n",
       "    <tr>\n",
       "      <th>date_report</th>\n",
       "      <th></th>\n",
       "      <th></th>\n",
       "      <th></th>\n",
       "      <th></th>\n",
       "      <th></th>\n",
       "    </tr>\n",
       "  </thead>\n",
       "  <tbody>\n",
       "    <tr>\n",
       "      <th>2021-01-01</th>\n",
       "      <td>0.000000</td>\n",
       "      <td>0.000000</td>\n",
       "      <td>0.000000</td>\n",
       "      <td>0.000000</td>\n",
       "      <td>0.000000</td>\n",
       "    </tr>\n",
       "    <tr>\n",
       "      <th>2021-01-02</th>\n",
       "      <td>25.701861</td>\n",
       "      <td>24.589675</td>\n",
       "      <td>9.101332</td>\n",
       "      <td>33.213897</td>\n",
       "      <td>24.191511</td>\n",
       "    </tr>\n",
       "    <tr>\n",
       "      <th>2021-01-03</th>\n",
       "      <td>45.464436</td>\n",
       "      <td>9.935222</td>\n",
       "      <td>10.519722</td>\n",
       "      <td>39.252788</td>\n",
       "      <td>26.815675</td>\n",
       "    </tr>\n",
       "    <tr>\n",
       "      <th>2021-01-04</th>\n",
       "      <td>21.129137</td>\n",
       "      <td>7.203036</td>\n",
       "      <td>6.500952</td>\n",
       "      <td>17.110190</td>\n",
       "      <td>21.813363</td>\n",
       "    </tr>\n",
       "    <tr>\n",
       "      <th>2021-01-05</th>\n",
       "      <td>0.000000</td>\n",
       "      <td>0.000000</td>\n",
       "      <td>0.000000</td>\n",
       "      <td>0.000000</td>\n",
       "      <td>0.000000</td>\n",
       "    </tr>\n",
       "    <tr>\n",
       "      <th>...</th>\n",
       "      <td>...</td>\n",
       "      <td>...</td>\n",
       "      <td>...</td>\n",
       "      <td>...</td>\n",
       "      <td>...</td>\n",
       "    </tr>\n",
       "    <tr>\n",
       "      <th>2021-12-27</th>\n",
       "      <td>42.153154</td>\n",
       "      <td>36.387752</td>\n",
       "      <td>24.585417</td>\n",
       "      <td>17.781177</td>\n",
       "      <td>28.865804</td>\n",
       "    </tr>\n",
       "    <tr>\n",
       "      <th>2021-12-28</th>\n",
       "      <td>41.995474</td>\n",
       "      <td>33.282995</td>\n",
       "      <td>33.686749</td>\n",
       "      <td>13.755250</td>\n",
       "      <td>32.966060</td>\n",
       "    </tr>\n",
       "    <tr>\n",
       "      <th>2021-12-29</th>\n",
       "      <td>83.623027</td>\n",
       "      <td>46.447164</td>\n",
       "      <td>36.523528</td>\n",
       "      <td>33.213897</td>\n",
       "      <td>46.824926</td>\n",
       "    </tr>\n",
       "    <tr>\n",
       "      <th>2021-12-30</th>\n",
       "      <td>121.886737</td>\n",
       "      <td>62.219330</td>\n",
       "      <td>54.371594</td>\n",
       "      <td>40.930258</td>\n",
       "      <td>80.119006</td>\n",
       "    </tr>\n",
       "    <tr>\n",
       "      <th>2021-12-31</th>\n",
       "      <td>102.176722</td>\n",
       "      <td>39.740889</td>\n",
       "      <td>51.298417</td>\n",
       "      <td>43.278715</td>\n",
       "      <td>79.134944</td>\n",
       "    </tr>\n",
       "  </tbody>\n",
       "</table>\n",
       "<p>365 rows × 5 columns</p>\n",
       "</div>"
      ]
     },
     "execution_count": 14,
     "metadata": {},
     "output_type": "execute_result"
    }
   ],
   "execution_count": 14
  },
  {
   "cell_type": "code",
   "id": "f3a8472f",
   "metadata": {
    "scrolled": true,
    "ExecuteTime": {
     "end_time": "2024-07-25T18:30:47.818010Z",
     "start_time": "2024-07-25T18:30:47.800587Z"
    }
   },
   "source": [
    "# Exercise 2a -- Step 2\n",
    "cases_bc.dropna()"
   ],
   "outputs": [
    {
     "data": {
      "text/plain": [
       "                 Fraser   Interior     Island   Northern  Vancouver Coastal\n",
       "date_report                                                                \n",
       "2021-01-01     0.000000   0.000000   0.000000   0.000000           0.000000\n",
       "2021-01-02    25.701861  24.589675   9.101332  33.213897          24.191511\n",
       "2021-01-03    45.464436   9.935222  10.519722  39.252788          26.815675\n",
       "2021-01-04    21.129137   7.203036   6.500952  17.110190          21.813363\n",
       "2021-01-05     0.000000   0.000000   0.000000   0.000000           0.000000\n",
       "...                 ...        ...        ...        ...                ...\n",
       "2021-12-27    42.153154  36.387752  24.585417  17.781177          28.865804\n",
       "2021-12-28    41.995474  33.282995  33.686749  13.755250          32.966060\n",
       "2021-12-29    83.623027  46.447164  36.523528  33.213897          46.824926\n",
       "2021-12-30   121.886737  62.219330  54.371594  40.930258          80.119006\n",
       "2021-12-31   102.176722  39.740889  51.298417  43.278715          79.134944\n",
       "\n",
       "[365 rows x 5 columns]"
      ],
      "text/html": [
       "<div>\n",
       "<style scoped>\n",
       "    .dataframe tbody tr th:only-of-type {\n",
       "        vertical-align: middle;\n",
       "    }\n",
       "\n",
       "    .dataframe tbody tr th {\n",
       "        vertical-align: top;\n",
       "    }\n",
       "\n",
       "    .dataframe thead th {\n",
       "        text-align: right;\n",
       "    }\n",
       "</style>\n",
       "<table border=\"1\" class=\"dataframe\">\n",
       "  <thead>\n",
       "    <tr style=\"text-align: right;\">\n",
       "      <th></th>\n",
       "      <th>Fraser</th>\n",
       "      <th>Interior</th>\n",
       "      <th>Island</th>\n",
       "      <th>Northern</th>\n",
       "      <th>Vancouver Coastal</th>\n",
       "    </tr>\n",
       "    <tr>\n",
       "      <th>date_report</th>\n",
       "      <th></th>\n",
       "      <th></th>\n",
       "      <th></th>\n",
       "      <th></th>\n",
       "      <th></th>\n",
       "    </tr>\n",
       "  </thead>\n",
       "  <tbody>\n",
       "    <tr>\n",
       "      <th>2021-01-01</th>\n",
       "      <td>0.000000</td>\n",
       "      <td>0.000000</td>\n",
       "      <td>0.000000</td>\n",
       "      <td>0.000000</td>\n",
       "      <td>0.000000</td>\n",
       "    </tr>\n",
       "    <tr>\n",
       "      <th>2021-01-02</th>\n",
       "      <td>25.701861</td>\n",
       "      <td>24.589675</td>\n",
       "      <td>9.101332</td>\n",
       "      <td>33.213897</td>\n",
       "      <td>24.191511</td>\n",
       "    </tr>\n",
       "    <tr>\n",
       "      <th>2021-01-03</th>\n",
       "      <td>45.464436</td>\n",
       "      <td>9.935222</td>\n",
       "      <td>10.519722</td>\n",
       "      <td>39.252788</td>\n",
       "      <td>26.815675</td>\n",
       "    </tr>\n",
       "    <tr>\n",
       "      <th>2021-01-04</th>\n",
       "      <td>21.129137</td>\n",
       "      <td>7.203036</td>\n",
       "      <td>6.500952</td>\n",
       "      <td>17.110190</td>\n",
       "      <td>21.813363</td>\n",
       "    </tr>\n",
       "    <tr>\n",
       "      <th>2021-01-05</th>\n",
       "      <td>0.000000</td>\n",
       "      <td>0.000000</td>\n",
       "      <td>0.000000</td>\n",
       "      <td>0.000000</td>\n",
       "      <td>0.000000</td>\n",
       "    </tr>\n",
       "    <tr>\n",
       "      <th>...</th>\n",
       "      <td>...</td>\n",
       "      <td>...</td>\n",
       "      <td>...</td>\n",
       "      <td>...</td>\n",
       "      <td>...</td>\n",
       "    </tr>\n",
       "    <tr>\n",
       "      <th>2021-12-27</th>\n",
       "      <td>42.153154</td>\n",
       "      <td>36.387752</td>\n",
       "      <td>24.585417</td>\n",
       "      <td>17.781177</td>\n",
       "      <td>28.865804</td>\n",
       "    </tr>\n",
       "    <tr>\n",
       "      <th>2021-12-28</th>\n",
       "      <td>41.995474</td>\n",
       "      <td>33.282995</td>\n",
       "      <td>33.686749</td>\n",
       "      <td>13.755250</td>\n",
       "      <td>32.966060</td>\n",
       "    </tr>\n",
       "    <tr>\n",
       "      <th>2021-12-29</th>\n",
       "      <td>83.623027</td>\n",
       "      <td>46.447164</td>\n",
       "      <td>36.523528</td>\n",
       "      <td>33.213897</td>\n",
       "      <td>46.824926</td>\n",
       "    </tr>\n",
       "    <tr>\n",
       "      <th>2021-12-30</th>\n",
       "      <td>121.886737</td>\n",
       "      <td>62.219330</td>\n",
       "      <td>54.371594</td>\n",
       "      <td>40.930258</td>\n",
       "      <td>80.119006</td>\n",
       "    </tr>\n",
       "    <tr>\n",
       "      <th>2021-12-31</th>\n",
       "      <td>102.176722</td>\n",
       "      <td>39.740889</td>\n",
       "      <td>51.298417</td>\n",
       "      <td>43.278715</td>\n",
       "      <td>79.134944</td>\n",
       "    </tr>\n",
       "  </tbody>\n",
       "</table>\n",
       "<p>365 rows × 5 columns</p>\n",
       "</div>"
      ]
     },
     "execution_count": 15,
     "metadata": {},
     "output_type": "execute_result"
    }
   ],
   "execution_count": 15
  },
  {
   "cell_type": "code",
   "id": "af050da4",
   "metadata": {
    "scrolled": false,
    "ExecuteTime": {
     "end_time": "2024-07-25T18:30:47.834610Z",
     "start_time": "2024-07-25T18:30:47.820033Z"
    }
   },
   "source": [
    "# Exercise 2a -- Step 3\n",
    "neg_values = cases_bc[(cases_bc < 0).any(axis=1)]\n",
    "neg_values"
   ],
   "outputs": [
    {
     "data": {
      "text/plain": [
       "               Fraser  Interior    Island  Northern  Vancouver Coastal\n",
       "date_report                                                           \n",
       "2021-06-07   0.525600  1.614474  0.236398 -0.670988          -1.312082\n",
       "2021-06-23   1.576801  5.091801  0.354597 -1.006482           1.066067\n",
       "2021-06-28   3.574083  2.235425 -0.590996  0.000000           3.936246\n",
       "2021-06-30   0.893521  1.738664  0.118199 -0.335494           0.984061"
      ],
      "text/html": [
       "<div>\n",
       "<style scoped>\n",
       "    .dataframe tbody tr th:only-of-type {\n",
       "        vertical-align: middle;\n",
       "    }\n",
       "\n",
       "    .dataframe tbody tr th {\n",
       "        vertical-align: top;\n",
       "    }\n",
       "\n",
       "    .dataframe thead th {\n",
       "        text-align: right;\n",
       "    }\n",
       "</style>\n",
       "<table border=\"1\" class=\"dataframe\">\n",
       "  <thead>\n",
       "    <tr style=\"text-align: right;\">\n",
       "      <th></th>\n",
       "      <th>Fraser</th>\n",
       "      <th>Interior</th>\n",
       "      <th>Island</th>\n",
       "      <th>Northern</th>\n",
       "      <th>Vancouver Coastal</th>\n",
       "    </tr>\n",
       "    <tr>\n",
       "      <th>date_report</th>\n",
       "      <th></th>\n",
       "      <th></th>\n",
       "      <th></th>\n",
       "      <th></th>\n",
       "      <th></th>\n",
       "    </tr>\n",
       "  </thead>\n",
       "  <tbody>\n",
       "    <tr>\n",
       "      <th>2021-06-07</th>\n",
       "      <td>0.525600</td>\n",
       "      <td>1.614474</td>\n",
       "      <td>0.236398</td>\n",
       "      <td>-0.670988</td>\n",
       "      <td>-1.312082</td>\n",
       "    </tr>\n",
       "    <tr>\n",
       "      <th>2021-06-23</th>\n",
       "      <td>1.576801</td>\n",
       "      <td>5.091801</td>\n",
       "      <td>0.354597</td>\n",
       "      <td>-1.006482</td>\n",
       "      <td>1.066067</td>\n",
       "    </tr>\n",
       "    <tr>\n",
       "      <th>2021-06-28</th>\n",
       "      <td>3.574083</td>\n",
       "      <td>2.235425</td>\n",
       "      <td>-0.590996</td>\n",
       "      <td>0.000000</td>\n",
       "      <td>3.936246</td>\n",
       "    </tr>\n",
       "    <tr>\n",
       "      <th>2021-06-30</th>\n",
       "      <td>0.893521</td>\n",
       "      <td>1.738664</td>\n",
       "      <td>0.118199</td>\n",
       "      <td>-0.335494</td>\n",
       "      <td>0.984061</td>\n",
       "    </tr>\n",
       "  </tbody>\n",
       "</table>\n",
       "</div>"
      ]
     },
     "execution_count": 16,
     "metadata": {},
     "output_type": "execute_result"
    }
   ],
   "execution_count": 16
  },
  {
   "metadata": {
    "ExecuteTime": {
     "end_time": "2024-07-25T18:30:47.845786Z",
     "start_time": "2024-07-25T18:30:47.836746Z"
    }
   },
   "cell_type": "code",
   "source": "import math",
   "id": "57e459f0b9f8bd7c",
   "outputs": [],
   "execution_count": 17
  },
  {
   "cell_type": "code",
   "id": "402a8a1e",
   "metadata": {
    "scrolled": true,
    "ExecuteTime": {
     "end_time": "2024-07-25T18:30:47.887614Z",
     "start_time": "2024-07-25T18:30:47.847799Z"
    }
   },
   "source": [
    "# Exercise 2a -- Step 4\n",
    "for col in neg_values.columns:\n",
    "    neg_values.loc[neg_values[col] < 0, col] = math.nan\n",
    "neg_values"
   ],
   "outputs": [
    {
     "name": "stderr",
     "output_type": "stream",
     "text": [
      "C:\\Users\\Daniel\\AppData\\Local\\Temp\\ipykernel_15540\\3373232895.py:3: SettingWithCopyWarning: \n",
      "A value is trying to be set on a copy of a slice from a DataFrame\n",
      "\n",
      "See the caveats in the documentation: https://pandas.pydata.org/pandas-docs/stable/user_guide/indexing.html#returning-a-view-versus-a-copy\n",
      "  neg_values.loc[neg_values[col] < 0, col] = math.nan\n"
     ]
    },
    {
     "data": {
      "text/plain": [
       "               Fraser  Interior    Island  Northern  Vancouver Coastal\n",
       "date_report                                                           \n",
       "2021-06-07   0.525600  1.614474  0.236398       NaN                NaN\n",
       "2021-06-23   1.576801  5.091801  0.354597       NaN           1.066067\n",
       "2021-06-28   3.574083  2.235425       NaN       0.0           3.936246\n",
       "2021-06-30   0.893521  1.738664  0.118199       NaN           0.984061"
      ],
      "text/html": [
       "<div>\n",
       "<style scoped>\n",
       "    .dataframe tbody tr th:only-of-type {\n",
       "        vertical-align: middle;\n",
       "    }\n",
       "\n",
       "    .dataframe tbody tr th {\n",
       "        vertical-align: top;\n",
       "    }\n",
       "\n",
       "    .dataframe thead th {\n",
       "        text-align: right;\n",
       "    }\n",
       "</style>\n",
       "<table border=\"1\" class=\"dataframe\">\n",
       "  <thead>\n",
       "    <tr style=\"text-align: right;\">\n",
       "      <th></th>\n",
       "      <th>Fraser</th>\n",
       "      <th>Interior</th>\n",
       "      <th>Island</th>\n",
       "      <th>Northern</th>\n",
       "      <th>Vancouver Coastal</th>\n",
       "    </tr>\n",
       "    <tr>\n",
       "      <th>date_report</th>\n",
       "      <th></th>\n",
       "      <th></th>\n",
       "      <th></th>\n",
       "      <th></th>\n",
       "      <th></th>\n",
       "    </tr>\n",
       "  </thead>\n",
       "  <tbody>\n",
       "    <tr>\n",
       "      <th>2021-06-07</th>\n",
       "      <td>0.525600</td>\n",
       "      <td>1.614474</td>\n",
       "      <td>0.236398</td>\n",
       "      <td>NaN</td>\n",
       "      <td>NaN</td>\n",
       "    </tr>\n",
       "    <tr>\n",
       "      <th>2021-06-23</th>\n",
       "      <td>1.576801</td>\n",
       "      <td>5.091801</td>\n",
       "      <td>0.354597</td>\n",
       "      <td>NaN</td>\n",
       "      <td>1.066067</td>\n",
       "    </tr>\n",
       "    <tr>\n",
       "      <th>2021-06-28</th>\n",
       "      <td>3.574083</td>\n",
       "      <td>2.235425</td>\n",
       "      <td>NaN</td>\n",
       "      <td>0.0</td>\n",
       "      <td>3.936246</td>\n",
       "    </tr>\n",
       "    <tr>\n",
       "      <th>2021-06-30</th>\n",
       "      <td>0.893521</td>\n",
       "      <td>1.738664</td>\n",
       "      <td>0.118199</td>\n",
       "      <td>NaN</td>\n",
       "      <td>0.984061</td>\n",
       "    </tr>\n",
       "  </tbody>\n",
       "</table>\n",
       "</div>"
      ]
     },
     "execution_count": 18,
     "metadata": {},
     "output_type": "execute_result"
    }
   ],
   "execution_count": 18
  },
  {
   "cell_type": "markdown",
   "id": "8f4d5242",
   "metadata": {},
   "source": [
    "### Response to Exercise 2a 4-5\n",
    "\n",
    "4. No, there were not `NaN` on the dataframe\n",
    "5. An alternative approach would be to set to zero the negative values."
   ]
  },
  {
   "cell_type": "markdown",
   "id": "35d78f12",
   "metadata": {},
   "source": [
    "## Exercise 2b -- Aggregations\n",
    "Using aggregators with the axis argument, complete the following steps:\n",
    "1. At each date, find the minimum number of cases per 100,000 across health regions. Print the top 3 rows of the resulting series.\n",
    "2. For each health region, what was the median number of daily cases per 100,000 in 2021. Print the resulting series. (**Hint:** Think about how long should this series be.)\n",
    "3. What the maximum number of daily cases per 100,000 across all health regions? Which health region did this maximum occur in? What day was the maximum attained?\n",
    "\n",
    "**Hint:** For the last step, you might need to aggregate twice. You may also want to use the aggregator `.idxmax()` which returns the index of the maximum value. "
   ]
  },
  {
   "cell_type": "code",
   "id": "1aa16b0a",
   "metadata": {
    "scrolled": true,
    "ExecuteTime": {
     "end_time": "2024-07-25T18:30:47.900712Z",
     "start_time": "2024-07-25T18:30:47.889629Z"
    }
   },
   "source": [
    "# Exercise 2b -- Step 1\n",
    "cases_bc.min(axis=1).head(3)"
   ],
   "outputs": [
    {
     "data": {
      "text/plain": [
       "date_report\n",
       "2021-01-01    0.000000\n",
       "2021-01-02    9.101332\n",
       "2021-01-03    9.935222\n",
       "dtype: float64"
      ]
     },
     "execution_count": 19,
     "metadata": {},
     "output_type": "execute_result"
    }
   ],
   "execution_count": 19
  },
  {
   "cell_type": "code",
   "id": "5202b2c7",
   "metadata": {
    "ExecuteTime": {
     "end_time": "2024-07-25T18:30:47.916980Z",
     "start_time": "2024-07-25T18:30:47.902744Z"
    }
   },
   "source": [
    "# Exercise 2b -- Step 2\n",
    "cases_bc.loc[\"2021\"].median()"
   ],
   "outputs": [
    {
     "data": {
      "text/plain": [
       "Fraser               8.567287\n",
       "Interior             6.582085\n",
       "Island               2.482181\n",
       "Northern             8.051854\n",
       "Vancouver Coastal    5.576348\n",
       "dtype: float64"
      ]
     },
     "execution_count": 20,
     "metadata": {},
     "output_type": "execute_result"
    }
   ],
   "execution_count": 20
  },
  {
   "metadata": {
    "ExecuteTime": {
     "end_time": "2024-07-25T18:30:47.928712Z",
     "start_time": "2024-07-25T18:30:47.919642Z"
    }
   },
   "cell_type": "code",
   "source": [
    "# Exercise 2b -- Step 3\n",
    "maxbc = cases_bc.max()\n",
    "print(f\"The max number of cases was {maxbc.max()}, it occured in the {maxbc.idxmax()} region, on {cases_bc.max(axis=1).idxmax()}\")"
   ],
   "id": "6912a3e979900d8a",
   "outputs": [
    {
     "name": "stdout",
     "output_type": "stream",
     "text": [
      "The max number of cases was 136.2105291410014, it occured in the Northern region, on 2021-10-18 00:00:00\n"
     ]
    }
   ],
   "execution_count": 21
  },
  {
   "cell_type": "markdown",
   "id": "bb6cb53c",
   "metadata": {},
   "source": [
    "## Exercise 2c -- Classifying Variance\n",
    "Averages and medians communicate some notion of the statistical center of data. Similarly, the sample variance of data gives us some sense of how dispersed the data is around that center. A low variance means the data is relatively concentrated whereas a high variance means the data is relatively dispersed. The sample variance of a column of data $x$ can be given by the following equation\n",
    "$$\n",
    "var(x) = \\frac{1}{n-1} \\sum_{i=1}^{n} \\left(x_i - \\bar{x}\\right)^2\n",
    "$$\n",
    "where $n$ is the nimber of elements in $x$, $\\bar{x}$ is the average of $x$, and $x_i$ is a single element in $x$. Complete the following steps:\n",
    "1.  The method DataFrame and Series method `.var()` will automatically calculate the variance of each column or row in a DataFrame. Use `.var()` to calculate the variance in the daily cases per 100,000 for each health region in 2021. Name this DataFrame `hr_var`.\n",
    "2. Currently,  `hr_var` has a single column indexed by the integer 0. Rename this column so it is called \"s_var\".\n",
    "3. Using a list comprehension, create a new column in `hr_var` called \"classification\" which is equal to\n",
    "    - \"High\" if the variance for a health region is strictly greater than 300,  \n",
    "    - \"Medium\" if the variance for a health region is strictly greater than 150 and less than or equal to 300\n",
    "    - \"Low\" if the variance for a health region is less than or equal to 150. \n",
    "    \n",
    "4. Display the resulting DataFrame by having `hr_var` as your last line in the cell. \n",
    "5. In the second cell, use `cases_bc`, indexing, and `.plot()` to plot the daily cases per 100,000 for the Northern and Island health regions.\n",
    "\n",
    "Finally, in the Markdown cell below **answer the following question**. What are the classifications for the Northern and Island regions. What features of the two lines you plotted reflect these classifications? \n",
    "\n",
    "\n",
    "**Hint:** For step 3, you will want to use a nested if else statements within the list comprehension. "
   ]
  },
  {
   "metadata": {
    "ExecuteTime": {
     "end_time": "2024-07-25T18:30:47.940277Z",
     "start_time": "2024-07-25T18:30:47.931499Z"
    }
   },
   "cell_type": "code",
   "source": [
    "def clas_variance(num):\n",
    "    if num > 300:\n",
    "        return 'High'\n",
    "    elif num > 150:\n",
    "        return 'Medium'\n",
    "    else:\n",
    "        return 'Low'"
   ],
   "id": "d4c885ef0b4ed063",
   "outputs": [],
   "execution_count": 22
  },
  {
   "cell_type": "code",
   "id": "0244840b",
   "metadata": {
    "scrolled": true,
    "ExecuteTime": {
     "end_time": "2024-07-25T18:30:47.953934Z",
     "start_time": "2024-07-25T18:30:47.942302Z"
    }
   },
   "source": [
    "# Exercise 2c -- Steps 1-4\n",
    "hr_var = pd.DataFrame(cases_bc.var())\n",
    "hr_var = hr_var.rename(columns={0: 's_var'})\n",
    "hr_var['classification'] = hr_var['s_var'].map(clas_variance)"
   ],
   "outputs": [],
   "execution_count": 23
  },
  {
   "cell_type": "code",
   "id": "ae71740a",
   "metadata": {
    "scrolled": true,
    "ExecuteTime": {
     "end_time": "2024-07-25T18:30:47.970967Z",
     "start_time": "2024-07-25T18:30:47.956925Z"
    }
   },
   "source": [
    "# Exercise 2c -- Step 5\n",
    "hr_var"
   ],
   "outputs": [
    {
     "data": {
      "text/plain": [
       "                        s_var classification\n",
       "Fraser             325.974643           High\n",
       "Interior           248.630355         Medium\n",
       "Island              70.371899            Low\n",
       "Northern           490.189463           High\n",
       "Vancouver Coastal  193.250724         Medium"
      ],
      "text/html": [
       "<div>\n",
       "<style scoped>\n",
       "    .dataframe tbody tr th:only-of-type {\n",
       "        vertical-align: middle;\n",
       "    }\n",
       "\n",
       "    .dataframe tbody tr th {\n",
       "        vertical-align: top;\n",
       "    }\n",
       "\n",
       "    .dataframe thead th {\n",
       "        text-align: right;\n",
       "    }\n",
       "</style>\n",
       "<table border=\"1\" class=\"dataframe\">\n",
       "  <thead>\n",
       "    <tr style=\"text-align: right;\">\n",
       "      <th></th>\n",
       "      <th>s_var</th>\n",
       "      <th>classification</th>\n",
       "    </tr>\n",
       "  </thead>\n",
       "  <tbody>\n",
       "    <tr>\n",
       "      <th>Fraser</th>\n",
       "      <td>325.974643</td>\n",
       "      <td>High</td>\n",
       "    </tr>\n",
       "    <tr>\n",
       "      <th>Interior</th>\n",
       "      <td>248.630355</td>\n",
       "      <td>Medium</td>\n",
       "    </tr>\n",
       "    <tr>\n",
       "      <th>Island</th>\n",
       "      <td>70.371899</td>\n",
       "      <td>Low</td>\n",
       "    </tr>\n",
       "    <tr>\n",
       "      <th>Northern</th>\n",
       "      <td>490.189463</td>\n",
       "      <td>High</td>\n",
       "    </tr>\n",
       "    <tr>\n",
       "      <th>Vancouver Coastal</th>\n",
       "      <td>193.250724</td>\n",
       "      <td>Medium</td>\n",
       "    </tr>\n",
       "  </tbody>\n",
       "</table>\n",
       "</div>"
      ]
     },
     "execution_count": 24,
     "metadata": {},
     "output_type": "execute_result"
    }
   ],
   "execution_count": 24
  },
  {
   "cell_type": "markdown",
   "id": "400d92cc",
   "metadata": {},
   "source": [
    "### Response to Exercise 2c "
   ]
  },
  {
   "cell_type": "markdown",
   "id": "19c6e22e",
   "metadata": {},
   "source": [
    "## Exerice 2d -- More Classifying & `.applymap()`\n",
    "Now, we want to determine whether the cases per 100,000 on a given day was \"High\" ($> 10$), \"Low\"($\\leq 10$ and $>0$), or \"None\" ($=0$) for each region-day. To do this, complete the following steps:\n",
    "1. Define a function called `classify_cases` that takes a **single number** and returns a \"High\", \"Low\" or \"None\" according to the criteria aboce\n",
    "2. `.applymap()` takes a function of a single value and applies that function to each cell in a DataFrame  individuall. Using `classify_cases` and `.applymap`, create a DataFrame that has a classification for each region-day. Call this DataFrame `cases_bins`. \n",
    "3. Print the top 5 rows of that DataFratme. "
   ]
  },
  {
   "cell_type": "code",
   "id": "2ca95753",
   "metadata": {
    "ExecuteTime": {
     "end_time": "2024-07-25T18:30:47.980946Z",
     "start_time": "2024-07-25T18:30:47.973982Z"
    }
   },
   "source": [
    "# Exercise 2d code\n",
    "def classify_cases(n):\n",
    "    if n>10:\n",
    "        return 'High'\n",
    "    elif n>0:\n",
    "        return 'Low'\n",
    "    else:\n",
    "        return 'None'\n",
    "    "
   ],
   "outputs": [],
   "execution_count": 25
  },
  {
   "metadata": {
    "ExecuteTime": {
     "end_time": "2024-07-25T18:30:48.002709Z",
     "start_time": "2024-07-25T18:30:47.982974Z"
    }
   },
   "cell_type": "code",
   "source": [
    "cases_bins = cases_bc.map(classify_cases)\n",
    "cases_bins.head()"
   ],
   "id": "50a6d01dd803f8b",
   "outputs": [
    {
     "data": {
      "text/plain": [
       "            Fraser Interior Island Northern Vancouver Coastal\n",
       "date_report                                                  \n",
       "2021-01-01    None     None   None     None              None\n",
       "2021-01-02    High     High    Low     High              High\n",
       "2021-01-03    High      Low   High     High              High\n",
       "2021-01-04    High      Low    Low     High              High\n",
       "2021-01-05    None     None   None     None              None"
      ],
      "text/html": [
       "<div>\n",
       "<style scoped>\n",
       "    .dataframe tbody tr th:only-of-type {\n",
       "        vertical-align: middle;\n",
       "    }\n",
       "\n",
       "    .dataframe tbody tr th {\n",
       "        vertical-align: top;\n",
       "    }\n",
       "\n",
       "    .dataframe thead th {\n",
       "        text-align: right;\n",
       "    }\n",
       "</style>\n",
       "<table border=\"1\" class=\"dataframe\">\n",
       "  <thead>\n",
       "    <tr style=\"text-align: right;\">\n",
       "      <th></th>\n",
       "      <th>Fraser</th>\n",
       "      <th>Interior</th>\n",
       "      <th>Island</th>\n",
       "      <th>Northern</th>\n",
       "      <th>Vancouver Coastal</th>\n",
       "    </tr>\n",
       "    <tr>\n",
       "      <th>date_report</th>\n",
       "      <th></th>\n",
       "      <th></th>\n",
       "      <th></th>\n",
       "      <th></th>\n",
       "      <th></th>\n",
       "    </tr>\n",
       "  </thead>\n",
       "  <tbody>\n",
       "    <tr>\n",
       "      <th>2021-01-01</th>\n",
       "      <td>None</td>\n",
       "      <td>None</td>\n",
       "      <td>None</td>\n",
       "      <td>None</td>\n",
       "      <td>None</td>\n",
       "    </tr>\n",
       "    <tr>\n",
       "      <th>2021-01-02</th>\n",
       "      <td>High</td>\n",
       "      <td>High</td>\n",
       "      <td>Low</td>\n",
       "      <td>High</td>\n",
       "      <td>High</td>\n",
       "    </tr>\n",
       "    <tr>\n",
       "      <th>2021-01-03</th>\n",
       "      <td>High</td>\n",
       "      <td>Low</td>\n",
       "      <td>High</td>\n",
       "      <td>High</td>\n",
       "      <td>High</td>\n",
       "    </tr>\n",
       "    <tr>\n",
       "      <th>2021-01-04</th>\n",
       "      <td>High</td>\n",
       "      <td>Low</td>\n",
       "      <td>Low</td>\n",
       "      <td>High</td>\n",
       "      <td>High</td>\n",
       "    </tr>\n",
       "    <tr>\n",
       "      <th>2021-01-05</th>\n",
       "      <td>None</td>\n",
       "      <td>None</td>\n",
       "      <td>None</td>\n",
       "      <td>None</td>\n",
       "      <td>None</td>\n",
       "    </tr>\n",
       "  </tbody>\n",
       "</table>\n",
       "</div>"
      ]
     },
     "execution_count": 26,
     "metadata": {},
     "output_type": "execute_result"
    }
   ],
   "execution_count": 26
  },
  {
   "cell_type": "markdown",
   "id": "4ea2a264",
   "metadata": {},
   "source": [
    "### Exercise 2e -- Classification Count\n",
    "Next, we want to count how many days of each type (\"High\", \"Low\", and \"None\") each helth region had on 2021. Complete the following steps:\n",
    "1. Using `pd.value_counts` and `.apply()`, create DataFrame called `class_counts` where the row indices are the three classes and the columns are health regions.\n",
    "2. Using the DataFrame method `.barh()`, create a horizontal bar plot where there are five groups of three bars. \n",
    "\n",
    "**Hint:** You may have to use `.T` to get the right bar chart. "
   ]
  },
  {
   "cell_type": "code",
   "id": "b677a256",
   "metadata": {
    "scrolled": true,
    "ExecuteTime": {
     "end_time": "2024-07-25T18:30:48.295275Z",
     "start_time": "2024-07-25T18:30:48.005738Z"
    }
   },
   "source": [
    "# Exercise 2e code\n",
    "class_counts = cases_bins.apply(pd.value_counts)\n",
    "class_counts.T.plot.barh()"
   ],
   "outputs": [
    {
     "name": "stderr",
     "output_type": "stream",
     "text": [
      "C:\\Users\\Daniel\\AppData\\Local\\Temp\\ipykernel_15540\\1411743816.py:2: FutureWarning: pandas.value_counts is deprecated and will be removed in a future version. Use pd.Series(obj).value_counts() instead.\n",
      "  class_counts = cases_bins.apply(pd.value_counts)\n",
      "C:\\Users\\Daniel\\AppData\\Local\\Temp\\ipykernel_15540\\1411743816.py:2: FutureWarning: pandas.value_counts is deprecated and will be removed in a future version. Use pd.Series(obj).value_counts() instead.\n",
      "  class_counts = cases_bins.apply(pd.value_counts)\n",
      "C:\\Users\\Daniel\\AppData\\Local\\Temp\\ipykernel_15540\\1411743816.py:2: FutureWarning: pandas.value_counts is deprecated and will be removed in a future version. Use pd.Series(obj).value_counts() instead.\n",
      "  class_counts = cases_bins.apply(pd.value_counts)\n",
      "C:\\Users\\Daniel\\AppData\\Local\\Temp\\ipykernel_15540\\1411743816.py:2: FutureWarning: pandas.value_counts is deprecated and will be removed in a future version. Use pd.Series(obj).value_counts() instead.\n",
      "  class_counts = cases_bins.apply(pd.value_counts)\n",
      "C:\\Users\\Daniel\\AppData\\Local\\Temp\\ipykernel_15540\\1411743816.py:2: FutureWarning: pandas.value_counts is deprecated and will be removed in a future version. Use pd.Series(obj).value_counts() instead.\n",
      "  class_counts = cases_bins.apply(pd.value_counts)\n"
     ]
    },
    {
     "data": {
      "text/plain": [
       "<Axes: >"
      ]
     },
     "execution_count": 27,
     "metadata": {},
     "output_type": "execute_result"
    },
    {
     "data": {
      "text/plain": [
       "<Figure size 640x480 with 1 Axes>"
      ],
      "image/png": "[encoded data removed]"
     },
     "metadata": {},
     "output_type": "display_data"
    }
   ],
   "execution_count": 27
  },
  {
   "cell_type": "markdown",
   "id": "6a4be232",
   "metadata": {},
   "source": [
    "### Exercise 2f -- Choose Your Health Region\n",
    "Choose one of the five health regions. Complete the following steps to find the average number of cases per 100,000 when case loads are \"High\" and when case loads are \"Low\".\n",
    "1. Using `pd.concat()` `cases_bc`, and `cases_bin`, create a DataFrame with two columns called `my_health_region`. The first column should be titled \"cases\" and include the number of cases per 100,000 in your chosen health region for each day. The second column should be titled \"class\" and include the classification for that health region in each day.\n",
    "2. Using `.groupby()` and an aggregator, find the average number of cases per 100,000 when case loads are \"High\" and when case loads are \"Low\"."
   ]
  },
  {
   "cell_type": "code",
   "id": "21b17004",
   "metadata": {
    "scrolled": true,
    "ExecuteTime": {
     "end_time": "2024-07-25T18:30:48.327464Z",
     "start_time": "2024-07-25T18:30:48.304727Z"
    }
   },
   "source": [
    "# Exercise 2f code\n",
    "hregion = 'Interior'\n",
    "\n",
    "my_health_region = pd.concat([cases_bc[[hregion]].rename(columns={hregion: 'cases'}), cases_bins[[hregion]].rename(columns={hregion: 'class'})], axis=1)\n",
    "my_health_region.groupby('class')['cases'].mean()"
   ],
   "outputs": [
    {
     "data": {
      "text/plain": [
       "class\n",
       "High    25.33223\n",
       "Low      5.49312\n",
       "None     0.00000\n",
       "Name: cases, dtype: float64"
      ]
     },
     "execution_count": 28,
     "metadata": {},
     "output_type": "execute_result"
    }
   ],
   "execution_count": 28
  }
 ],
 "metadata": {
  "kernelspec": {
   "display_name": "Python 3 (ipykernel)",
   "language": "python",
   "name": "python3"
  },
  "language_info": {
   "codemirror_mode": {
    "name": "ipython",
    "version": 3
   },
   "file_extension": ".py",
   "mimetype": "text/x-python",
   "name": "python",
   "nbconvert_exporter": "python",
   "pygments_lexer": "ipython3",
   "version": "3.9.15"
  }
 },
 "nbformat": 4,
 "nbformat_minor": 5
}
