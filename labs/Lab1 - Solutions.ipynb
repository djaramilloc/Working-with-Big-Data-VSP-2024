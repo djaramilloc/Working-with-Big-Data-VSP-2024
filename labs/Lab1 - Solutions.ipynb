{
 "cells": [
  {
   "cell_type": "markdown",
   "id": "fea96cfa",
   "metadata": {},
   "source": [
    "# Lab Assignment 1 -- Fundamentals\n",
    "In this lab, you will complete a series of exercises related to the lecture material on coding fundamentals and collections. \n",
    "\n",
    "Since this is the first lab that involves coding, we will begin with an exercise related to Jupyter notebook functionality."
   ]
  },
  {
   "cell_type": "markdown",
   "id": "5b0e6098",
   "metadata": {},
   "source": [
    "## Exercise 1 -- Jupyter Markdown Basics\n",
    "Jupyter notebooks allows cells to be interpreted as either code or Markdown. Markdown is a lightweight formatting language. In fact, what you're reading right now is written in Markdown. The syntax is very simple and a reference for common commands can be found [here](https://www.markdownguide.org/cheat-sheet/). Use this reference guide to complete the following steps:\n",
    "\n",
    "1. Create a cell below this one by using the insert drop down menu or by clicking on the left of this box (so the side bar turns blue) and tapping the <kbd>b</kbd> key.\n",
    "2. Make the cell a Markdown cell by clicking on it and using the drop down menu above.\n",
    "3. Using the reference guide, find out how to create the **smallest** heading  and use it give the cell you create a header of \"Solution to Exercise 1\" without the quotes.\n",
    "4. Using the reference guide, figure out how to make ordered and unordered lists. Using an unordered list, list three of the things you hope to learn from this class.\n",
    "5. Sometimes, we want to reference specific code or code objects in the text of Markdown. Markdown allows us to format such reference so that it appears in a gray box (e.g. `x=3`). Using the reference guide, figure out how to format code and format  x = 3, so it has a gray box around it in the cell you created. "
   ]
  },
  {
   "cell_type": "markdown",
   "id": "7835167d",
   "metadata": {},
   "source": [
    "## Exercise 2 -- Basic Variable Assignment\n",
    "Complete the following steps in the cells below.\n",
    "1. Generate a variable called `x_flt` and set it equal to 3.0. Print its type.\n",
    "2. Generate a variable called `x_int` and set it equal to 3. Print its type.\n",
    "3. Generate a variable called  `x_str` and set it equal to \"3\". Print its type.\n",
    "4. Which of these two variables can you add together with the `+` operator? Why? Answer in the Markdown cell below. "
   ]
  },
  {
   "cell_type": "code",
   "id": "8c80cd8e",
   "metadata": {
    "ExecuteTime": {
     "end_time": "2024-07-23T05:19:47.239435Z",
     "start_time": "2024-07-23T05:19:47.215892Z"
    }
   },
   "source": [
    "# Exercise 2 Code\n",
    "x_flt = 3.0\n",
    "print(type(x_flt))\n",
    "\n",
    "x_int = 3\n",
    "print(type(x_int))\n",
    "\n",
    "x_str = \"3\"\n",
    "print(type(x_str))"
   ],
   "outputs": [
    {
     "name": "stdout",
     "output_type": "stream",
     "text": [
      "<class 'float'>\n",
      "<class 'int'>\n",
      "<class 'str'>\n"
     ]
    }
   ],
   "execution_count": 1
  },
  {
   "cell_type": "markdown",
   "id": "70b8adf0",
   "metadata": {},
   "source": [
    "### Response to 2.4\n",
    "\n",
    "The only variables that you can add are `x_flt` and `x_int`"
   ]
  },
  {
   "cell_type": "markdown",
   "id": "9db99652",
   "metadata": {},
   "source": [
    "## Exercise 3 -- Variable Reassignment\n",
    "Complete the following steps in the cells below.\n",
    "1. Assign `x` equal to `\"good\"`\n",
    "2. Assign `y` equal to `x`\n",
    "3. Reassign `x` to `\"bad\"`\n",
    "4. Use `print` to print `y`\n",
    "5. Does the print statement print \"good\" or a \"bad\"? Did changing `x` to \"bad\" affect anything? Why or why not? Answer in the Markdown cell below."
   ]
  },
  {
   "cell_type": "code",
   "id": "9c154552",
   "metadata": {
    "scrolled": true,
    "ExecuteTime": {
     "end_time": "2024-07-23T05:19:47.339028Z",
     "start_time": "2024-07-23T05:19:47.328112Z"
    }
   },
   "source": [
    "# Exercise 3 Code\n",
    "x = \"good\"\n",
    "y = x\n",
    "x = 'bad'\n",
    "print(y)"
   ],
   "outputs": [
    {
     "name": "stdout",
     "output_type": "stream",
     "text": [
      "good\n"
     ]
    }
   ],
   "execution_count": 2
  },
  {
   "cell_type": "markdown",
   "id": "b24737e5",
   "metadata": {},
   "source": [
    "### Response to 3.5\n",
    "\n",
    "It does not change. We did not re assign the value of `y` only the value of `x`"
   ]
  },
  {
   "cell_type": "markdown",
   "id": "4700d845",
   "metadata": {},
   "source": [
    "## Exercise 4 -- Basic Arithmetic\n",
    "Generate the following variables with the corresponding value in the cell below:\n",
    "1. `x` equal to 20\n",
    "2. `y` equal to 10\n",
    "3. `z1` equal to the sum of `x` and `y`\n",
    "4. `z2` equal to `x` minus `y`\n",
    "5. `z3` equal to `x` times `y` \n",
    "6. `z4` equal to `x` divided by `y` \n",
    "\n",
    "Answer the following question in the Markdown Cell Below\n",
    "\n",
    "7. Use `type()` to deterimine which of these variables is a floating point number? Why is this the case?"
   ]
  },
  {
   "cell_type": "code",
   "id": "564b49ec",
   "metadata": {
    "ExecuteTime": {
     "end_time": "2024-07-23T05:19:47.355199Z",
     "start_time": "2024-07-23T05:19:47.346865Z"
    }
   },
   "source": [
    "# Exercise 4 Code\n",
    "x = 20\n",
    "y = 10\n",
    "z1 = x + y\n",
    "z2 = x - y\n",
    "z3 = x * y\n",
    "z4 = x / y"
   ],
   "outputs": [],
   "execution_count": 3
  },
  {
   "metadata": {
    "ExecuteTime": {
     "end_time": "2024-07-23T05:19:47.378387Z",
     "start_time": "2024-07-23T05:19:47.368190Z"
    }
   },
   "cell_type": "code",
   "source": [
    "print(type(z1))\n",
    "print(type(z2))\n",
    "print(type(z3))\n",
    "print(type(z4))"
   ],
   "id": "db42116ef42a93bf",
   "outputs": [
    {
     "name": "stdout",
     "output_type": "stream",
     "text": [
      "<class 'int'>\n",
      "<class 'int'>\n",
      "<class 'int'>\n",
      "<class 'float'>\n"
     ]
    }
   ],
   "execution_count": 4
  },
  {
   "cell_type": "markdown",
   "id": "ac2063f9",
   "metadata": {},
   "source": [
    "### Response to 4.7\n",
    "\n",
    "The only `float` is `z4`"
   ]
  },
  {
   "metadata": {},
   "cell_type": "markdown",
   "source": [
    "## Exercise 5 -- String Formatting\n",
    "Complete the following steps in the cell below:\n",
    "1. Define a list called `cities` that contains the names of three cities you would like to visit. \n",
    "2. Define a corresponding list called `countries` where an entry is the country of each of those three cities.\n",
    "3. Using these lists and f strings, print a sentence that says what country a city is in for each city in your list\n",
    "4. Now do the same thing again but use the `.format()` method instead of f strings."
   ],
   "id": "2024ad69c823f131"
  },
  {
   "metadata": {
    "ExecuteTime": {
     "end_time": "2024-07-23T05:19:47.450604Z",
     "start_time": "2024-07-23T05:19:47.439322Z"
    }
   },
   "cell_type": "code",
   "source": [
    "# Exercise 5 Code\n",
    "cities = ['Vancouver', 'Quito', 'Washington']\n",
    "countries = ['Canada', 'Ecuador', 'US']\n",
    "\n",
    "print(\"f string method -------------------------------\")\n",
    "for city, country in zip(cities, countries):\n",
    "    print(f\"{city} is in {country}\")\n",
    "\n",
    "print(\".format() method -------------------------------\")\n",
    "for city, country in zip(cities, countries):\n",
    "    print(\"{city} is in {country}\".format(city=city, country=country))"
   ],
   "id": "4bb3c5643a0ee99e",
   "outputs": [
    {
     "name": "stdout",
     "output_type": "stream",
     "text": [
      "f string method -------------------------------\n",
      "Vancouver is in Canada\n",
      "Quito is in Ecuador\n",
      "Washington is in US\n",
      ".format() method -------------------------------\n",
      "Vancouver is in Canada\n",
      "Quito is in Ecuador\n",
      "Washington is in US\n"
     ]
    }
   ],
   "execution_count": 5
  },
  {
   "metadata": {},
   "cell_type": "markdown",
   "source": [
    "## Exercise 6 -- String Concatenation\n",
    "Complete the following steps in the cell below:\n",
    "1. Assign `b` to be equal to \"b\"\n",
    "2. Assign `a` to be equal to \"a\"\n",
    "3. Assign `n` to be equal to \"n\"\n",
    "4. Using these variables, `+`, and `print`, print the the word \"banana\""
   ],
   "id": "fce68f68177b1995"
  },
  {
   "metadata": {
    "ExecuteTime": {
     "end_time": "2024-07-23T05:19:47.507519Z",
     "start_time": "2024-07-23T05:19:47.494385Z"
    }
   },
   "cell_type": "code",
   "source": [
    "# Exercise 6 Code\n",
    "b = 'b'\n",
    "a = 'a'\n",
    "n = 'n'\n",
    "print(b + a + n + a + n + a)"
   ],
   "id": "7cd33ad42612cc2",
   "outputs": [
    {
     "name": "stdout",
     "output_type": "stream",
     "text": [
      "banana\n"
     ]
    }
   ],
   "execution_count": 6
  },
  {
   "metadata": {},
   "cell_type": "markdown",
   "source": [
    "## Exercise 7 -- Boolean Variable Keywords\n",
    "Assign `a`, `b`,`c`, and `d`, so that every print statement below is true. \n",
    "\n",
    "\n",
    "Afterwards, answer the following quesiton in the Markdown cell below:\n",
    "\n",
    "Is the configuration of `a`, `b`,`c`, and `d` that makes both statements true unique? Why or why not? If it isn't unique, add another print statement to the list to rule out other configurations?"
   ],
   "id": "293a4c9fc698f9d9"
  },
  {
   "metadata": {
    "ExecuteTime": {
     "end_time": "2024-07-23T05:19:47.587998Z",
     "start_time": "2024-07-23T05:19:47.579227Z"
    }
   },
   "cell_type": "code",
   "source": [
    "# Exercise 7 Code\n",
    "a = True\n",
    "b = False\n",
    "c = False\n",
    "d = False"
   ],
   "id": "6a5495628c88bf25",
   "outputs": [],
   "execution_count": 7
  },
  {
   "metadata": {
    "ExecuteTime": {
     "end_time": "2024-07-23T05:19:47.669292Z",
     "start_time": "2024-07-23T05:19:47.659381Z"
    }
   },
   "cell_type": "code",
   "source": [
    "# Uncomment the lines below when you have defined the variables to check your results \n",
    "print(((a and b) or (c and d)) == False)\n",
    "print(((a or c) and (b or d)) == False)\n",
    "print(a and (not b) and (not c) and (not d))"
   ],
   "id": "5c6037cdfe69c6aa",
   "outputs": [
    {
     "name": "stdout",
     "output_type": "stream",
     "text": [
      "True\n",
      "True\n",
      "True\n"
     ]
    }
   ],
   "execution_count": 8
  },
  {
   "metadata": {
    "ExecuteTime": {
     "end_time": "2024-07-23T05:19:47.712980Z",
     "start_time": "2024-07-23T05:19:47.704796Z"
    }
   },
   "cell_type": "code",
   "source": "",
   "id": "7a6833e3ebec3764",
   "outputs": [],
   "execution_count": 8
  }
 ],
 "metadata": {
  "kernelspec": {
   "display_name": "Python 3 (ipykernel)",
   "language": "python",
   "name": "python3"
  },
  "language_info": {
   "codemirror_mode": {
    "name": "ipython",
    "version": 3
   },
   "file_extension": ".py",
   "mimetype": "text/x-python",
   "name": "python",
   "nbconvert_exporter": "python",
   "pygments_lexer": "ipython3",
   "version": "3.9.15"
  }
 },
 "nbformat": 4,
 "nbformat_minor": 5
}
