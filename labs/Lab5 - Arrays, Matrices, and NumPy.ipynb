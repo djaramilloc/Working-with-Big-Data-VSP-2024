{
 "cells": [
  {
   "cell_type": "markdown",
   "id": "aa4602c3",
   "metadata": {},
   "source": [
    "# Lab Assignment 4 -- Arrays, Matrices, and NumPy\n",
    "In this lab, you will complete a series of exercises related to the lecture material on arrays, matrices, and NumPy, You will have to do some calculations on a piece of paper or tablet -- submit either pictures or a PDF of your work with this Notebook."
   ]
  },
  {
   "cell_type": "markdown",
   "id": "36d604de",
   "metadata": {},
   "source": [
    "Throughout this assignment, we will refer to the following arrays.\n",
    "$$\n",
    "A = \\left[\\begin{array}{ccc}\n",
    "1 & 5 & 3\\\\ 5 & -4 & 2\\\\ 3 & 2 & 1 \n",
    "\\end{array}\\right], B = \\left[\\begin{array}{cccc}\n",
    "0 & 1 & 3 & 9\\\\ 6 & -1 & -2 & -9\\\\ 2 & 5 & 1 &2\n",
    "\\end{array}\\right], C = \\left[\\begin{array}{ccc}\n",
    "1 & 5 & -13\\\\ 7 & -7 & 7\\\\ 2 & -3 & 1 \\\\ 0 & 7 & -6\n",
    "\\end{array}\\right] \\\\ d = \\left[\\begin{array}{c}\n",
    "1 \\\\ -3\\\\ 2\n",
    "\\end{array}\\right], f= \\left[\\begin{array}{c}\n",
    "-2 \\\\ 4\\\\ 1\n",
    "\\end{array}\\right],g = \\left[\\begin{array}{c}\n",
    "-1 \\\\ 10 \\\\ -1\\\\ 5\n",
    "\\end{array}\\right]\n",
    "$$"
   ]
  },
  {
   "cell_type": "markdown",
   "id": "6814b00c",
   "metadata": {},
   "source": [
    "## Exercise 1 -- Defining Arrays\n",
    "Import `numpy` with the alias np and define the matrices above manually in the cell below. Make sure you define these carefully as subsequent responses will be incorrect otherwise. \n",
    "\n",
    "<span style=\"color: red;\"> **Be Careful!**</span>  After defining these objects, don't reassign these variable names to a different object for the rest of the assignment."
   ]
  },
  {
   "cell_type": "code",
   "execution_count": null,
   "id": "1e9acd73",
   "metadata": {},
   "outputs": [],
   "source": [
    "# Exercise 1 code\n"
   ]
  },
  {
   "cell_type": "markdown",
   "id": "445dc79e",
   "metadata": {},
   "source": [
    "##  Exercise 2 -- Array Addition\n",
    "Is the operation $d + f$ possible? What about $d + g$? Why or why not? Answer in the markdown cell below. For each possible operation, print its result in the code cell below.\n"
   ]
  },
  {
   "cell_type": "code",
   "execution_count": null,
   "id": "36bb39c3",
   "metadata": {},
   "outputs": [],
   "source": [
    "# Exercise 2 code\n"
   ]
  },
  {
   "cell_type": "markdown",
   "id": "8dc481c1",
   "metadata": {},
   "source": [
    "### Response to Exercise 2"
   ]
  },
  {
   "cell_type": "markdown",
   "id": "7cffe2ea",
   "metadata": {},
   "source": [
    "## Exercise 3 -- Dot Product\n",
    "On a piece of paper or tablet, **legibly** calculate the dot product of $d$ and $f$. Label your response as \"Solution to Exercise 3\". Show your work as we did in lecture. Check your solution by calling `np.dot()` in the cell below. "
   ]
  },
  {
   "cell_type": "code",
   "execution_count": null,
   "id": "f8328d5e",
   "metadata": {},
   "outputs": [],
   "source": [
    "# Exercise 3 code\n"
   ]
  },
  {
   "cell_type": "markdown",
   "id": "1499a45d",
   "metadata": {},
   "source": [
    "## Exercise 4 -- Vector Slices\n",
    "Using only `g` and slice indexing, assign `[10 -1]` to `tiny_array`. What is the type of `tiny_array`? Why is this desirable behavior? Answer in Markdown. "
   ]
  },
  {
   "cell_type": "code",
   "execution_count": null,
   "id": "edaadcc6",
   "metadata": {},
   "outputs": [],
   "source": [
    "# Exercise 4 code\n"
   ]
  },
  {
   "cell_type": "markdown",
   "id": "8e87d5fa",
   "metadata": {},
   "source": [
    "### Response to Exercise 4"
   ]
  },
  {
   "cell_type": "markdown",
   "id": "bce70be0",
   "metadata": {},
   "source": [
    "## Exercise 5 -- Matrix Transposes and Addition\n",
    "On a piece of paper or tablet, **legibly** calculate the sum of $B$ and the transpose of $C$. Label your response as \"Solution to Exercise 5\". Show your work as we did in lecture. \n",
    "\n",
    "Check your solution in the cell below. Could we add $B$ and $C$? Answer in the Markdown cell below. "
   ]
  },
  {
   "cell_type": "code",
   "execution_count": null,
   "id": "5459f3a6",
   "metadata": {
    "scrolled": true
   },
   "outputs": [],
   "source": [
    "# Exercise 5 code\n"
   ]
  },
  {
   "cell_type": "markdown",
   "id": "73d9ee90",
   "metadata": {},
   "source": [
    "### Response to Exercise 5"
   ]
  },
  {
   "cell_type": "markdown",
   "id": "9143d0da",
   "metadata": {},
   "source": [
    "## Exercise 6 -- Matrix Indexing\n",
    "Complete the following steps:\n",
    "- Define a variable `tiny_mat` and set it equal to `np.array([[-7, 7], [-3, 1]])`.\n",
    "- Using only `C` and slice-indexing, recreate `tiny_mat` and assign it to `tiny_mat_clone`. \n",
    "- Define a funcion called `compare_arrs` that takes two arrays and prints \"Arrays are the same!\" if the arrays are the same and \"Arrays are different!\" if the arrays are different.  \n",
    "- Call `compare_arrs` on `tiny_mat` and `tiny_mat_clone`.\n",
    "- Call `compare_arrs` on `np.array([1, 3, 4])` and `tiny_mat_clone`. \n",
    "\n",
    "\n",
    "**Hint:** Use `np.array_equal()` within `compare_arrs`."
   ]
  },
  {
   "cell_type": "code",
   "execution_count": null,
   "id": "ccf0fe9b",
   "metadata": {},
   "outputs": [],
   "source": [
    "# Exercise 6 -- Define Matrices\n"
   ]
  },
  {
   "cell_type": "code",
   "execution_count": null,
   "id": "5340e4cb",
   "metadata": {},
   "outputs": [],
   "source": [
    "# Exercise 6 -- Define Function\n"
   ]
  },
  {
   "cell_type": "code",
   "execution_count": null,
   "id": "3e32c3ad",
   "metadata": {
    "scrolled": true
   },
   "outputs": [],
   "source": [
    "# Exercise 6 -- Call compare_arrs\n"
   ]
  },
  {
   "cell_type": "markdown",
   "id": "fe3bbe39",
   "metadata": {},
   "source": [
    "## Exercise 7 -- Symmetric Matrices\n",
    "A **symmetric matrix** is a matrix that is equal to its transpose. Using your function `compare_arrs`, test whether `A`, `B`, and `C` are symmetric. What does it say about the symmetry of a matrix when \"Arrays are the same!\" is printed? Answer in the Markdown cell below. "
   ]
  },
  {
   "cell_type": "code",
   "execution_count": null,
   "id": "c6b6d501",
   "metadata": {
    "scrolled": true
   },
   "outputs": [],
   "source": [
    "# Exercise 7 code\n"
   ]
  },
  {
   "cell_type": "markdown",
   "id": "9a11d543",
   "metadata": {},
   "source": [
    "### Response to Exercise 7"
   ]
  },
  {
   "cell_type": "markdown",
   "id": "e1b4c19e",
   "metadata": {},
   "source": [
    "## Exercise 8 -- Matrix Concatenation\n",
    "We can glue or **concatenate** two arrays together using `np.vstack()` and `np.hstack()`. Each function takes a list of arrays as an argument. The former concatenates two arrays vertically (think of stacking rectangles on top of eachother) while the latter concatenates them horizontally (think of stacking rectangles side-by-side).\n",
    "\n",
    "Answer the following questions below:\n",
    "- If we call `np.vstack([A, B])` and it executes successfully, what must be true about the size of `A `and `B`?\n",
    "- If we call `np.hstack([A, B])` and it executes successfully, what must be true about the size of `A `and `B`?\n",
    "\n",
    "**Hint:** Try concatenating two arrays until you get an error. What does the error say?"
   ]
  },
  {
   "cell_type": "code",
   "execution_count": null,
   "id": "30265351",
   "metadata": {},
   "outputs": [],
   "source": [
    "# Exercise 8 -- Test vstack and hstack here as needed"
   ]
  },
  {
   "cell_type": "markdown",
   "id": "08e35010",
   "metadata": {},
   "source": [
    "### Response to Exercise 8"
   ]
  },
  {
   "cell_type": "markdown",
   "id": "76713bcd",
   "metadata": {},
   "source": [
    "## Exercise 9 -- Element-Wise Multiplication\n",
    "On a piece of paper or tablet, **legibly** calculate the element-wise multiplication of $B$ and the transpose of $C$. Label your response as \"Solution to Exercise 9\". Show your work as we did in lecture. \n",
    "\n",
    "Check your solution in the cell below."
   ]
  },
  {
   "cell_type": "code",
   "execution_count": null,
   "id": "a7148441",
   "metadata": {},
   "outputs": [],
   "source": [
    "# Exercise 9 Code"
   ]
  },
  {
   "cell_type": "markdown",
   "id": "74af3830",
   "metadata": {},
   "source": [
    "## Exercise 10 -- Matrix Multiplication\n",
    "On a piece of paper or tablet, **legibly** complete the following matrix multiplication (not element-wise multiplication!) exercise:\n",
    "$$A * B$$\n",
    "\n",
    "\n",
    "\n",
    "\n",
    "Label your response as \"Solution to Exercise 10\". Show your work as we did in lecture. \n",
    "\n",
    "Check your solution in the cell below uinsg `np.matmul()`."
   ]
  },
  {
   "cell_type": "code",
   "execution_count": null,
   "id": "4e2798fb",
   "metadata": {},
   "outputs": [],
   "source": [
    "# Exercise 10 Code"
   ]
  },
  {
   "cell_type": "markdown",
   "id": "0ee66928",
   "metadata": {},
   "source": [
    "## Exercise 11 -- Plotting with `np.linspace`\n",
    "Using `numpy` and `matplotlib.pyplot`, plot the function `sin(log(x))`.\n",
    "Make sure you use a fine grid. \n",
    "\n",
    "**Hint:** Look at lectures for hints. "
   ]
  },
  {
   "cell_type": "code",
   "execution_count": null,
   "id": "ea993843",
   "metadata": {},
   "outputs": [],
   "source": [
    "# Exercise 11 Code"
   ]
  },
  {
   "cell_type": "markdown",
   "id": "e9452e99",
   "metadata": {},
   "source": [
    "## Exercise 12 -- Multidimensional Arrays\n",
    "Run the following command `print(zeros((3,4,5)))` in the cell below and answer the following questions in the Markdown cell below.\n",
    "1. What do you think the dimensionality of this array is?  \n",
    "2. Why would writing this array on paper be difficult? \n",
    "\n"
   ]
  },
  {
   "cell_type": "code",
   "execution_count": null,
   "id": "541190ea",
   "metadata": {
    "scrolled": true
   },
   "outputs": [],
   "source": [
    "# Exercise 12 Code\n"
   ]
  },
  {
   "cell_type": "markdown",
   "id": "bb249cad",
   "metadata": {},
   "source": [
    "### Response to Exercise 12"
   ]
  }
 ],
 "metadata": {
  "kernelspec": {
   "display_name": "Python 3 (ipykernel)",
   "language": "python",
   "name": "python3"
  },
  "language_info": {
   "codemirror_mode": {
    "name": "ipython",
    "version": 3
   },
   "file_extension": ".py",
   "mimetype": "text/x-python",
   "name": "python",
   "nbconvert_exporter": "python",
   "pygments_lexer": "ipython3",
   "version": "3.9.15"
  }
 },
 "nbformat": 4,
 "nbformat_minor": 5
}
