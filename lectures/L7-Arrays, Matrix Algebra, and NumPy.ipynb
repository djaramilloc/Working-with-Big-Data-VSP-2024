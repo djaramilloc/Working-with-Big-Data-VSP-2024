{
 "cells": [
  {
   "cell_type": "markdown",
   "id": "6b433f5d",
   "metadata": {},
   "source": [
    "# Lecture 7 --  Arrays, NumPy, and Matrix Algebra\n",
    "In this lecture, students will learn about arrays and matrix algebra through a mathematical and programming lens. Topics covered included\n",
    "- one-dimensional arrays\n",
    "- two-dimensional arrays\n",
    "- basic array operations\n",
    "- array indexing and size\n",
    "- matrix multiplication\n",
    "- useful numpy functions\n",
    "- function vectorization using `np.vectorize`\n",
    "\n",
    "This lecture assumes students have no knowledge of matrix algebra."
   ]
  },
  {
   "cell_type": "markdown",
   "id": "38d036ec",
   "metadata": {},
   "source": [
    "## Arrays\n",
    "While the collections we have learned about are useful, they are not made for serious computational purposes. We want structures that are made to perform the numerical computations we need to analyze data and model systems. For this, we need to introduce the concept of arrays and the module `numpy`.\n",
    "\n",
    "`numpy` is an essential library for these computations. `numpy` is structured around its main datatype known as an array. If you know matrix algebra, you can think of 1-dimensional arrays as vectors and 2-dimensional arrays  as matrices. \n",
    "There are also higher dimensional arrays that become difficult to visualize on paper.\n",
    "\n",
    "If you do not know matrix algebra, we will review some basic operations soon as we go along.\n",
    "\n",
    "### One-dimensional arrays (vectors)\n",
    "First, we will discuss one-dimensional array, also known as vectors. In some ways, a one-dimensional array is like a list of numbers and like a list, it has a size. For instance the one-dimensional array below (called $x$) has a size of $3$. Its first element is 1, it's second element is 3.2, and its third element is 10.25. \n",
    "$$\n",
    "a = \\left[\\begin{array}{c}\n",
    "1 \\\\ 3.2\\\\ 10.25 \n",
    "\\end{array}\\right]\n",
    "$$\n",
    "Unlike lists, however, array addition is mathematical in nature. **To add two arrays together, they must be of the same size!** Once this requirement has been met, you simply add the individual elements as below.\n",
    "$$\n",
    "\\left[\\begin{array}{c}\n",
    "1 \\\\ 3.2\\\\ 10.25 \n",
    "\\end{array}\\right] + \\left[\\begin{array}{c}\n",
    "6.4 \\\\ 2.8\\\\ 8 \n",
    "\\end{array}\\right] = \\left[\\begin{array}{c}\n",
    "1 + 6.4 \\\\ 3.2 + 2.8\\\\ 10.25 + 8 \n",
    "\\end{array}\\right] = \\left[\\begin{array}{c}\n",
    "7.4 \\\\ 6\\\\ 18.25 \n",
    "\\end{array}\\right] \n",
    "$$\n",
    "\n",
    "You can also multiply arrays by scalars and this does what one might expect:\n",
    "$$\n",
    "3*\\left[\\begin{array}{c}\n",
    "1 \\\\ 3.2\\\\ 10.25 \n",
    "\\end{array}\\right] = \\left[\\begin{array}{c}\n",
    "3*1 \\\\ 3*3.2\\\\ 3*10.25 \n",
    "\\end{array}\\right] = \\left[\\begin{array}{c}\n",
    "3 \\\\ 9.6\\\\ 30.75 \n",
    "\\end{array}\\right]\n",
    "$$\n",
    "\n",
    "The last basic operation to understand is the `dot product`. Like array addition, **the dot product requires both arrays are of the same size**. To take the dot product of two vectors, multiply the first elements of each vector, the second elements of each vector, etc. Then, take the sum of all of those products. In mathematical notation\n",
    "$$\n",
    "\\left[\\begin{array}{c}\n",
    "1 \\\\ 3.2\\\\ 10.25 \n",
    "\\end{array}\\right] \\cdot \\left[\\begin{array}{c} \n",
    "6.4 \\\\ 2.8\\\\ 8 \n",
    "\\end{array}\\right] = 1*6.4 + 3.2*2.8 + 10.25 * 8 = 97.36\n",
    "$$\n",
    "\n",
    "When you take the dot product of a vector and itself, and then take the square root, you get what is call the $L_2$ norm. Below, we calculate the norm of $a$, the vector above.\n",
    "$$||a||_2 = \\sqrt{\\left[\\begin{array}{c}\n",
    "1 \\\\ 3.2\\\\ 10.25 \n",
    "\\end{array}\\right] \\cdot \\left[\\begin{array}{c}\n",
    "1 \\\\ 3.2\\\\ 10.25 \n",
    "\\end{array}\\right]} = \\sqrt{1^2 + 3.2^2 + 10.25^2} = \\sqrt{1 + 10.24 + 105.0625} = \\sqrt{116.3025} \\approx 10.7844$$\n",
    "\n",
    "This might look familiar to you if you know the **Pythagorean Theorem**, and indeed this is a generalization of it as it gives us the length of a vector. \n",
    "\n",
    "Let's see some of these operations performed below. First, we must import `numpy` using its common alias `np`. To make a one dimensional array manually, we can simply call `np.array()` on a list. The normal addition and multiplication operators work, but for the dot product, we will use `np.dot()`."
   ]
  },
  {
   "cell_type": "code",
   "id": "e572d8c4",
   "metadata": {},
   "source": [
    "import numpy as np\n",
    "a = np.array([1, 3.2, 10.25])\n",
    "b = np.array([6.4, 2.8, 8])\n",
    "print(a + b)\n",
    "print(3 * a)\n",
    "print(np.dot(a,b))\n",
    "\n",
    "# Two ways to get norm\n",
    "print(np.sqrt(np.dot(a,a)))\n",
    "print(np.linalg.norm(a))"
   ],
   "outputs": [],
   "execution_count": null
  },
  {
   "cell_type": "markdown",
   "id": "d130cf51",
   "metadata": {},
   "source": [
    "### One-dimensional indexing\n",
    "When accessing an individual element, one-dimensional arrays share syntax with lists."
   ]
  },
  {
   "cell_type": "code",
   "id": "1189471e",
   "metadata": {
    "scrolled": true
   },
   "source": [
    "print(a[1]) # access a single element\n",
    "print(a[1:3]) # use slices to access many elements in a row\n",
    "a[2] = 3 # Change value\n",
    "print(a)"
   ],
   "outputs": [],
   "execution_count": null
  },
  {
   "cell_type": "markdown",
   "id": "474bee3c",
   "metadata": {},
   "source": [
    "### Two-dimensional arrays (matrices)\n",
    "A two-dimensional array is also known as a matrix. Two dimensional matrices have both rows and columns and as a result, have two notions of size, the number of rows and the number of columns. Below, we have a $3x2$ matrix. In this case, $3x2$ is called the size or shape of the matrix. This means the matrix has 3 columns and 2 rows. **This standard is very important to know -- the number of rows comes first, the number of columns comes second.**\n",
    "\n",
    "$$\n",
    "\\left[\\begin{array}{cc}\n",
    "1 & 22 \\\\ 3.2 & 14.1\\\\ 10.25 & 2\n",
    "\\end{array}\\right]\n",
    "$$\n",
    "Like one-dimensional arrays, **two-dimensional arrays must also be of the same size to add them together**.\n",
    "$$\n",
    "\\left[\\begin{array}{cc}\n",
    "1 & 22 \\\\ 3.2 & 14.1\\\\ 10.25 & 2\n",
    "\\end{array}\\right] + \\left[\\begin{array}{cc}\n",
    "2 & 11 \\\\ 18 & 13\\\\ 20 & 8.5\n",
    "\\end{array}\\right] = \\left[\\begin{array}{cc}\n",
    "1+ 2 & 22 + 11 \\\\ 3.2 +18 & 14.1 + 13\\\\ 10.25 + 20 &2 + 8.5\n",
    "\\end{array}\\right] = \\left[\\begin{array}{cc}\n",
    "3 & 33 \\\\ 21.2 & 27.1\\\\ 30.25 & 10.5\n",
    "\\end{array}\\right]\n",
    "$$\n",
    "Multiplying a two-dimensional array by a scalar works the same as the one-dimensional case:\n",
    "$$\n",
    "3*\\left[\\begin{array}{cc}\n",
    "1 & 22 \\\\ 3.2 & 14.1\\\\ 10.25 & 2\n",
    "\\end{array}\\right] = \\left[\\begin{array}{cc}\n",
    "3*1 & 3*22 \\\\ 3*3.2 & 3*14.1\\\\ 3*10.25 & 3* 2\n",
    "\\end{array}\\right] = \\left[\\begin{array}{cc}\n",
    "3& 66 \\\\ 9.6 & 42.3\\\\ 30.75 & 6\n",
    "\\end{array}\\right]\n",
    "$$\n",
    "\n",
    "To make a two-dimensional array manually, we can simply call `np.array()` on a list of lists where each inner list is a row. Note that mathematically, matrices are denoted by uppercase letters whereas vectors are denoted with lowercase letters. It is good to use this convention when coding as well. "
   ]
  },
  {
   "cell_type": "code",
   "id": "59cff3df",
   "metadata": {
    "scrolled": true
   },
   "source": [
    "A = np.array([[1, 22],\n",
    "              [3.2, 14.1], # Formatting manually defined matrices like this makes them easy to read\n",
    "              [10.25, 2]])\n",
    "B = np.array([[2,11], \n",
    "              [18, 13], \n",
    "              [20, 8.5]])\n",
    "print(A + B)\n",
    "print(3 * A)"
   ],
   "outputs": [],
   "execution_count": null
  },
  {
   "cell_type": "markdown",
   "id": "77083cde",
   "metadata": {},
   "source": [
    "### Two-dimensional indexing\n",
    "Two-dimensional objects also have indexing. Indices for two-dimensional arrays have two components, the row index and the column index. For example, the value 10.25 in matrix `A` is found in the first column of the third row. We acces it using bracket notation, but now we have two indices."
   ]
  },
  {
   "cell_type": "code",
   "id": "32265ef4",
   "metadata": {
    "scrolled": true
   },
   "source": [
    "print(A[2,0])\n",
    "print(A[0:2, 0]) # can use slices to get many elements at once\n",
    "print(A[1, :]) # colon in the column index position indicates we want all columns\n",
    "print(A[:, 1]) # colon in the column index position indicates we want all rows"
   ],
   "outputs": [],
   "execution_count": null
  },
  {
   "cell_type": "markdown",
   "id": "3e745236",
   "metadata": {},
   "source": [
    "## Matrix Transposition\n",
    "Transposition switches rows with columns and columns with rows in a very specific way. Specifically, the first column becomes the first row, the second column becomes the second row, etc.  Define $A$ as our matrix from earlier.\n",
    "$$ A =\n",
    "\\left[\\begin{array}{cc}\n",
    "1 & 22 \\\\ 3.2 & 14.1\\\\ 10.25 & 2\n",
    "\\end{array}\\right]\n",
    "$$\n",
    "\n",
    "$A$ **transpose**, denoted $A'$, is equal to \n",
    "$$ A' =\n",
    "\\left[\\begin{array}{ccc}\n",
    "1 & 3.2 & 10.25 \\\\ 22 & 14.1 & 2\\\\ \n",
    "\\end{array}\\right]\n",
    "$$\n",
    "We can see that transposition turned our $3x2$ matrix into a $2x3$ matrix. This makes sense because $A$'s three rows became three columns and $A$'s two columns became two rows. In Python, we simply write `.T` after an array to return its transpose (note that this does not edit the underlying matrix).\n",
    "\n"
   ]
  },
  {
   "cell_type": "code",
   "id": "ac4eb4be",
   "metadata": {},
   "source": [
    "print(A)\n",
    "print(A.shape)\n",
    "print(A.T)\n",
    "print(A.T.shape)"
   ],
   "outputs": [],
   "execution_count": null
  },
  {
   "cell_type": "markdown",
   "id": "3d84ba3a",
   "metadata": {},
   "source": [
    "While one-dimensional vectors technically do not have a second dimension to transpose to, we can consider any one-dimensional vector of length $n$ as a two-dimensional vector with shape $nx1$. Mathematically, this distinction between a one-dimensional array and a two-dimensional array with one column is not as meaningful as it is in some coding languages. Frequently goes undiscussed in math classes. We can see below, however, that it makes a different when coding."
   ]
  },
  {
   "cell_type": "code",
   "id": "d94d1e49",
   "metadata": {},
   "source": [
    "## Actually one dimensional\n",
    "a = np.array([1, 3.2, 10.25])\n",
    "print(a)\n",
    "print(a.shape)\n",
    "print(a.T) # nothing changes shape is always (3,)\n",
    "print(a.T.shape)"
   ],
   "outputs": [],
   "execution_count": null
  },
  {
   "cell_type": "code",
   "id": "eb76987e",
   "metadata": {
    "scrolled": true
   },
   "source": [
    "## Array that could be one-dimensional as two-dimensional\n",
    "a_2d = np.array([[1], [3.2], [10.25]]) # by nesting our single list within another, we are telling Python we want this to be a 2d array\n",
    "print(a_2d)\n",
    "print(a_2d.shape)\n",
    "print(a_2d.T) # Goes from being a (1,3) 1x3 to a (3,1) 3x1.\n",
    "print(a_2d.T.shape)"
   ],
   "outputs": [],
   "execution_count": null
  },
  {
   "cell_type": "markdown",
   "id": "645bfaf4",
   "metadata": {},
   "source": [
    "## Matrix Multiplication vs. Element-wise Multiplication\n",
    "One reason we may want to transpose a matrix is to multiply it with another matrix. **Matrix Multiplication**, however, does not work analgously to matrix addition. It might be *tempting to think* that we can multiply two matrices of the same size and that multiplication works like this:\n",
    "$$\n",
    "\\left[\\begin{array}{cc}\n",
    "1 & 22 \\\\ 3.2 & 14.1\\\\ 10.25 & 2\n",
    "\\end{array}\\right] *  \\left[\\begin{array}{cc}\n",
    "2 & 11 \\\\ 18 & 13\\\\ 20 & 8.5\n",
    "\\end{array}\\right] = \\left[\\begin{array}{cc}\n",
    "1 * 2 & 22 * 11 \\\\ 3.2 *18 & 14.1 * 13\\\\ 10.25 * 20 &2 * 8.5\n",
    "\\end{array}\\right] = \\left[\\begin{array}{cc}\n",
    " 2 & 242 \\\\ 57.6 & 183.3\\\\ 205 & 17\n",
    "\\end{array}\\right]\n",
    "$$\n",
    "\n",
    "This, however, **IS NOT MATRIX MULTIPLICATION!!!** This is simply called **element-wise multiplication** of two arrays of the same shape.  This can be done with one-dimensional arrays too. We demonstrate this below:"
   ]
  },
  {
   "cell_type": "code",
   "id": "b1aa2606",
   "metadata": {
    "scrolled": true
   },
   "source": [
    "print(A * B) # element wise multiplication of 2d arrays\n",
    "print(a * b) # element wise multiplication of 2d arrays"
   ],
   "outputs": [],
   "execution_count": null
  },
  {
   "cell_type": "markdown",
   "id": "7a927a13",
   "metadata": {},
   "source": [
    "Element-wise multiplication of arrays is very useful. Nevertheless,  **matrix multiplication** refers to a different mathematical operation which we will discuss now. "
   ]
  },
  {
   "cell_type": "markdown",
   "id": "ee760294",
   "metadata": {},
   "source": [
    "## Matrix Multiplication\n",
    "Unlike previous matrix operations, matrix multiplication \n",
    "- does not require that the two matrices have the same size\n",
    "- is not transitive, that is $A * B$ does not generally equal $B * A$\n",
    "\n",
    "Point 2 means it's important to be aware of what is known as left and right multiplication. \n",
    "- If $A$ is right-multiplied by $B$ or $B$ is left-multiplied by $A$, then we are referring to $A * B$. \n",
    "- If $A$ is left-multiplied by $B$ or $B$ is right-multiplied by $A$, then we are referring to $B * A$. \n",
    "\n",
    "Before describing what the actual operation does, there is a condition that needed to be met. Namely, **the number of columns in the matrix on the left needs to equal the number of rows in the matrix on the right**. \n",
    "\n",
    "Furthermore, matrix multiplication results in an array. The resulting array will have the same number of rows as the first matrix and the same number of columns as the second matrix. As an example, consider the following two matrices:\n",
    "$$ A =\n",
    "\\left[\\begin{array}{cc}\n",
    "1 & 22 \\\\ 3 & 14\\\\ 10 & 2\n",
    "\\end{array}\\right]\n",
    "$$ and $$ B =\n",
    "\\left[\\begin{array}{cccc}\n",
    "1 & 22 & 4 & 0\\\\ 2 & 10 & 6 & 4\n",
    "\\end{array}\\right]\n",
    "$$ \n",
    "\n",
    "Before we continue, is $A * B$ a valid operation? How about $B * A$? Why or why not? For the expressions that are valid, what would be the size of the resulting array?\n",
    "\n",
    "Let's unncomment the `print()` statements below to test both out. We use `np.matmul()` to multiply two matrices."
   ]
  },
  {
   "cell_type": "code",
   "id": "aea8307e",
   "metadata": {},
   "source": [
    "A = np.array([[1, 22],\n",
    "              [3, 14], \n",
    "              [10, 2]]) \n",
    "B = np.array([[1, 22, 4, 0],\n",
    "              [2, 10, 6, 4]])\n",
    "print(np.matmul(A, B))\n",
    "#print(np.matmul(B, A))"
   ],
   "outputs": [],
   "execution_count": null
  },
  {
   "cell_type": "markdown",
   "id": "9adb3d54",
   "metadata": {},
   "source": [
    "### How to Perform Matrix Multiplication\n",
    "Below, we define matrix $C$ to be $A$ right multiplied by $B$. That is,\n",
    "$$\n",
    "\\begin{align*}\n",
    "C = \\color{red}A * \\color{blue}B =& \\color{red}{\\left[\\begin{array}{cc}\n",
    "1 & 22 \\\\ 3 & 14\\\\ 10 & 2\n",
    "\\end{array}\\right]} * \\color{blue}{\\left[\\begin{array}{cccc}\n",
    "1 & 22 & 4 & 0\\\\ 2 & 10 & 6 & 4 \n",
    "\\end{array}\\right]} \\\\ = &  \\left[\\begin{array}{cccc}\n",
    "\\color{red}{1}*\\color{blue}{1} + \\color{red}{22} * \\color{blue}{2}& \\color{red}{1}* \\color{blue}{22} + \\color{red}{22} * \\color{blue}{10} & \\color{red}{1}* \\color{blue}{4} + \\color{red}{22} * \\color{blue}{6} & \\color{red}{1}*\\color{blue}{0} + \\color{red}{22} * \\color{blue}{4}\\\\ \\color{red}{3}*\\color{blue}{1} + \\color{red}{14} * \\color{blue}{2} & \\color{red}{3}*\\color{blue}{22} + \\color{red}{14} * \\color{blue}{10} & \\color{red}{3} * \\color{blue}{4} + \\color{red}{14} * \\color{blue}{6} & \\color{red}{3} * \\color{blue}{0} + \\color{red}{14} * \\color{blue}{4} \\\\\n",
    " \\color{red}{10} * \\color{blue}{1} + \\color{red}{2} * \\color{blue}{2} & \\color{red}{10} * \\color{blue}{22} + \\color{red}{2} * \\color{blue}{10} & \\color{red}{10} * \\color{blue}{4} + \\color{red}{2} * \\color{blue}{6} & \\color{red}{10} * \\color{blue}{0} + \\color{red}{2} * \\color{blue}{4}\n",
    "\\end{array}\\right] \\\\ =& \\left[\\begin{array}{cccc}\n",
    "45& 242 & 136 & 88\\\\ 31 & 206 & 96 & 56 \\\\\n",
    " 14 & 240 & 52 & 8\n",
    "\\end{array}\\right]\n",
    "\\end{align*}\n",
    "$$\n",
    "Here, we right-multiplied a $\\color{red}{3 x 2}$ by a $\\color{blue}{2 x 4}$. The inner dimensions match, so we can perform the operations and their outer dimensions give us the dimension of the resulting matrix $\\color{red}{3} x \\color{blue}{4}$.\n",
    "\n",
    "Interestingly, the element in the $i$-th row and $j$-th column of the $C$ is the dot product of the $i$-th row in $A$ and the $j$-th column in $B$.\n",
    "\n",
    "\n",
    "Now we will go through a few examples on the board."
   ]
  },
  {
   "cell_type": "markdown",
   "id": "71b5e275",
   "metadata": {},
   "source": [
    "### Example 1\n",
    "$A * B$ and $B * A$ where\n",
    "$$A = \\left[\\begin{array}{cc}\n",
    "1 & 5 \\\\ 6 & 14\\\\ 10 & 2 \\\\ 2 & 8\n",
    "\\end{array}\\right], B = \\left[\\begin{array}{cc}\n",
    "1 & 5 & 8 & -13\\\\ -2 & 2 & 1 & 1\n",
    "\\end{array}\\right]$$  \n",
    "\n",
    "Before we begin, think about why both operations can be done and the shape of the resulting matrix. "
   ]
  },
  {
   "cell_type": "code",
   "id": "291da6f4",
   "metadata": {},
   "source": [
    "# check work\n",
    "A = np.array([[1, 5],\n",
    "              [6, 14], \n",
    "              [10, 2],\n",
    "              [2, 8]]) \n",
    "B = np.array([[1, 5, 8, -13],\n",
    "              [-2, 2, 1, 1]])\n",
    "\n",
    "#print(np.matmul(A, B))\n",
    "#print(np.matmul(B, A))"
   ],
   "outputs": [],
   "execution_count": null
  },
  {
   "cell_type": "markdown",
   "id": "d75335d8",
   "metadata": {},
   "source": [
    "### Example 2\n",
    "$A * B$ where \n",
    "$$A = \\left[\\begin{array}{ccc}\n",
    "1 & 5 & 3\\\\ 6 & -14 & 20\\\\ 10 & 2 & 5 \n",
    "\\end{array}\\right], B = \\left[\\begin{array}{c}\n",
    "1 \\\\ -2 \\\\ 3\n",
    "\\end{array}\\right]$$  \n"
   ]
  },
  {
   "cell_type": "code",
   "id": "a0ad2b70",
   "metadata": {},
   "source": [
    "# check work\n",
    "A = np.array([[1, 5, 3],\n",
    "              [6, -14, 20], \n",
    "              [10, 2, 5]]) \n",
    "B = np.array([1, -2, 3]) # note how we don't have to define this to be a 2d array\n",
    "np.matmul(A, B)"
   ],
   "outputs": [],
   "execution_count": null
  },
  {
   "cell_type": "markdown",
   "id": "84e06875",
   "metadata": {},
   "source": [
    "### Example 3\n",
    "$A * B$  and $B * A$ where \n",
    "$$A = \\left[\\begin{array}{ccc}\n",
    "1 & 6 & 3\n",
    "\\end{array}\\right], B = \\left[\\begin{array}{c}\n",
    "1 \\\\ -2 \\\\ 3\n",
    "\\end{array}\\right]$$  \n"
   ]
  },
  {
   "cell_type": "code",
   "id": "4cf11166",
   "metadata": {},
   "source": [
    "A = np.array([[1, 6, 3]]) \n",
    "B = np.array([[1], \n",
    "             [-2], \n",
    "             [3]]) # note we define this to be a 2d array\n",
    "print(np.matmul(A, B)) # this would work if B was not 2d\n",
    "print(np.matmul(B, A)) # This requires B to be 2d -- otherwise number of columns is 0, not 1."
   ],
   "outputs": [],
   "execution_count": null
  },
  {
   "cell_type": "markdown",
   "id": "354c40df",
   "metadata": {},
   "source": [
    "## Example 4\n",
    "$A * B$ where $$A = \\left[\\begin{array}{ccc}\n",
    "1 & 0 & 0\\\\ 0 & 1 & 0\\\\ 0 & 0 & 1 \n",
    "\\end{array}\\right], B = \\left[\\begin{array}{c}\n",
    "1 \\\\ -2 \\\\ 3\n",
    "\\end{array}\\right]$$  "
   ]
  },
  {
   "cell_type": "code",
   "id": "fd5e9d0d",
   "metadata": {},
   "source": [
    "A = np.eye(3)\n",
    "B = np.array([1, -2, 3])\n",
    "print(np.matmul(A, B))"
   ],
   "outputs": [],
   "execution_count": null
  },
  {
   "cell_type": "markdown",
   "id": "a9cb4f30",
   "metadata": {},
   "source": [
    "## Identity Matrix\n",
    "The Identity Matrix is a special type of matrix that has two properties\n",
    "- It is a square matrix so the number of rows equals the number of columns\n",
    "- It has ones on the main diagonal and 0s everywhere else\n",
    "\n",
    "The $nxn$ identity matrix is frequently denoted by $I_n$.  Multiplying an arrray $A$ (with $nr$ rows and $nc$ columns) by the the approrpiate identity matrix yields $A$. That is,\n",
    "$$A * I_{nc} = A$$ and $$I_{nr} * A = A$$ \n",
    "You can think of multiplying a matrix by the identity matrix as the matrix version of multiplying a scalar number by 1."
   ]
  },
  {
   "cell_type": "markdown",
   "id": "28247223",
   "metadata": {},
   "source": [
    "## Inverse of a Matrix\n",
    "\n",
    "In algebra classes, students learn how to solve for $x$ in the equation below:\n",
    "$$\n",
    "2x -4 = 12\n",
    "$$\n",
    "To solve for $x$, you would simply add 4 to each side of the equation and then divide each side by 2 to find $x=8$. What if we want to solve for $x_1$ and $x_2$ in the following equation below?\n",
    "$$\\left[\\begin{array}{cc}\n",
    "1 & 5 \\\\ 6 & -4\n",
    "\\end{array}\\right] \\left[\\begin{array}{c}\n",
    "x_1 \\\\ x_2\n",
    "\\end{array}\\right] = \\left[\\begin{array}{c}\n",
    "1 \\\\ 2\n",
    "\\end{array}\\right]$$  \n",
    "\n",
    "Define $A$ to be the $2x2$ matrix on the left-hand side. There is no matrix division. To solve this, we must **left multiply** by what is know as the inverse of $A$, denoted by $A^{-1}$. \n",
    "\n",
    "This inverse only exists for square matrices that are what we call non-singular (do not worry about non-singularity for this class). \n",
    "\n",
    "Once these conditions are met, we can calculate $A^{-1}$  which when left- multipled by $A$ give us the identity matrix\n",
    "$$\n",
    "A^{-1} A= I_{2}$$\n",
    "Do not worry about how this inverse is calculated mathematically. Once we have the inverse, we left multiply both sides of the equation by it:\n",
    "$$\n",
    "\\begin{align*}\n",
    "A^{-1}A \\left[\\begin{array}{c}\n",
    "x_1 \\\\ x_2\n",
    "\\end{array}\\right] =& A^{-1}\\left[\\begin{array}{c}\n",
    "1 \\\\ 2\n",
    "\\end{array}\\right] \\\\ I_2\\left[\\begin{array}{c}\n",
    "x_1 \\\\ x_2\n",
    "\\end{array}\\right] =& A^{-1}\\left[\\begin{array}{c}\n",
    "1 \\\\ 2\n",
    "\\end{array}\\right] \\\\ \\left[\\begin{array}{c}\n",
    "x_1 \\\\ x_2\n",
    "\\end{array}\\right] =& A^{-1}\\left[\\begin{array}{c}\n",
    "1 \\\\ 2\n",
    "\\end{array}\\right]\n",
    "\\end{align*}$$ \n",
    "\n",
    "Below, we can use the `numpy` sub-module called `linalg` to get the inverse of a given square matrix $A$ and use it to solve for $x_1$ and $x_2$.\n"
   ]
  },
  {
   "cell_type": "code",
   "id": "5dd58562",
   "metadata": {},
   "source": [
    "# Generate A\n",
    "A = [[1, 5],\n",
    "     [6, 4]]\n",
    "# calculate inverse\n",
    "A_inv = np.linalg.inv(A)\n",
    "\n",
    "# Check to see if it works, round for minor numerical imprecision\n",
    "print(np.round(np.matmul(A_inv,  A), 10))\n",
    "print(np.round(np.matmul(A,  A_inv), 10))\n",
    "\n",
    "# Calculate solution\n",
    "x = np.matmul(A_inv, np.array([1, 2]))\n",
    "print(x)\n",
    "# Check to see if it works\n",
    "#np.matmul(A, x)"
   ],
   "outputs": [],
   "execution_count": null
  },
  {
   "cell_type": "markdown",
   "id": "185c499a",
   "metadata": {},
   "source": [
    "So $x_1 \\approx .231$  and $x_2 \\approx .154$. We check our answer at the end and it returns what we expect. "
   ]
  },
  {
   "cell_type": "markdown",
   "id": "4d8c64dd",
   "metadata": {},
   "source": [
    "## Other Useful Numpy Functions\n",
    "`numpy` has a host of other useful functions. We will review some of the common ones here. "
   ]
  },
  {
   "cell_type": "markdown",
   "id": "f80c4045",
   "metadata": {},
   "source": [
    "### `np.linspace()`\n",
    "For plotting and many numerical techniques, getting an evenly spaced grid of values is an essential step. `range`, however, is limited in that it only creates a grid of integers. \n",
    "\n",
    "`np.linspace()` creates an array of evenly spaced values between two numbers. Below, we use it to generate an array of 101 evenly spaced grid points between 0 and 25 inclusive of both 0 and 25."
   ]
  },
  {
   "cell_type": "code",
   "id": "c427187c",
   "metadata": {
    "scrolled": false
   },
   "source": [
    "x = np.linspace(0, 25, 101)\n",
    "print(x)\n",
    "print(len(x))"
   ],
   "outputs": [],
   "execution_count": null
  },
  {
   "cell_type": "markdown",
   "id": "d27de2e9",
   "metadata": {},
   "source": [
    "### `np.ones()` and `np.zeros()` \n",
    "When matrices are large, we want to avoid defining them manually. The following functions allows us to generate simple arrays of any size (that fits into memory) with a single command. \n",
    "- `np.ones(n)` generates a one-dimensional array of length $n$ where all entries are 1. \n",
    "- `np.zeros(n)` generates a one-dimensional array of length $n$ where all entries are 0.\n",
    "- `np.ones((nr, nc))` generates a two-dimensional array of with `nr` rows and `nc` columns. All entries are 1.\n",
    "- `np.zeros((nr, nc))` generates a two-dimensional array of with `nr` rows and `nc` columns. All entries are 0.\n",
    "\n",
    "These functions are useful for initializing arrays before some procedure or algorithm and vecotorizing scalars among other things.\n"
   ]
  },
  {
   "cell_type": "code",
   "id": "17aa5435",
   "metadata": {
    "scrolled": false
   },
   "source": [
    "print(np.zeros(5)) # an array of 5 0s\n",
    "print(np.ones((5,2))) # A 5x2 matrix of all 1s\n",
    "import matplotlib.pyplot as plt\n",
    "a_vec = np.linspace(0, 50, 101) # Generate 1d grid of points\n",
    "a_vec_p10 = a_vec +  10 * np.ones(len(a_vec)) # Create line translated up by 10\n",
    "plt.plot(a_vec, a_vec, label = \" y=x\") # Plot 45 degree line\n",
    "plt.plot(a_vec, a_vec_p10, label = \"y=x+10\") # Plot y = x + 10\n",
    "\n",
    "# Add legends\n",
    "plt.title(\"Lined Moved Up by Ten\")\n",
    "plt.legend()\n",
    "plt.xlabel(\"x\")\n",
    "plt.xlabel(\"y\")"
   ],
   "outputs": [],
   "execution_count": null
  },
  {
   "cell_type": "markdown",
   "id": "03aabdaa",
   "metadata": {},
   "source": [
    "### Numpy Aggregates\n",
    "Since an array of data frequently stores data we are interested in, `numpy` has a variety of basic statistics in can calculate such as the maximum, minimum, average, etc. "
   ]
  },
  {
   "cell_type": "code",
   "id": "b5d91747",
   "metadata": {},
   "source": [
    "print(np.mean(x))\n",
    "print(np.max(x))\n",
    "print(np.min(x))"
   ],
   "outputs": [],
   "execution_count": null
  },
  {
   "cell_type": "markdown",
   "id": "86f33f19",
   "metadata": {},
   "source": [
    "### Numpy Math Functions \n",
    "`numpy` has many mathematical functions that operate on arrays. As an example, `np.log(x)` returns an array where each element is the sine of the corresponding element in `x`. Using this in tandem with the `x` we've already defined, we can actually plot the function sin(x) from $x = 0$ to $25$ "
   ]
  },
  {
   "cell_type": "code",
   "id": "98ed91bb",
   "metadata": {
    "scrolled": false
   },
   "source": [
    "import matplotlib.pyplot as plt\n",
    "plt.plot(x, np.sin(x))\n",
    "plt.scatter(x, np.sin(x), color = \"red\")"
   ],
   "outputs": [],
   "execution_count": null
  },
  {
   "cell_type": "markdown",
   "id": "cd7628ef",
   "metadata": {},
   "source": [
    "`np.linspace` in addition to `numpy` functions make it easy to plot mathematical functions. A quick list of some other functions: `np.log()`, `np.sqrt()`, and `np.exp()`"
   ]
  },
  {
   "cell_type": "markdown",
   "id": "40bf02a4",
   "metadata": {},
   "source": [
    "### `np.vectorize`\n",
    "What if, however, we have a custom function that operates on single numbers, like `cust_fun` below, but we want to apply it to each element of a vector? We could use list comprehensions, but we can also use `np.vectorize()` which allows a function of a single variable to be easily applied to an array of values. "
   ]
  },
  {
   "cell_type": "code",
   "id": "003f2ccc",
   "metadata": {},
   "source": [
    "import math\n",
    "def cust_fun(x):\n",
    "    if x < 12.5:\n",
    "        return (math.sin((3 *x)) - .5 )\n",
    "    else:\n",
    "        return (math.sin((x)) - .631476 )\n",
    "\n",
    "cust_fun_vec = np.vectorize(cust_fun)\n",
    "\n",
    "# List comprehension\n",
    "%timeit np.array([cust_fun(xi) for xi in x])\n",
    "%timeit np.vectorize(cust_fun)\n",
    "%timeit cust_fun_vec(x)\n",
    "\n",
    "# Plot for fun\n",
    "plt.plot(x, cust_fun_vec(x))\n",
    "plt.scatter(x, cust_fun_vec(x), color = \"red\")"
   ],
   "outputs": [],
   "execution_count": null
  },
  {
   "cell_type": "markdown",
   "id": "5904b222",
   "metadata": {},
   "source": [
    "In this example, both defining the vectorized function using `np.vectorize` and actually calling `cust_fun_vec` is slightly faster than the list comprehension. "
   ]
  }
 ],
 "metadata": {
  "kernelspec": {
   "display_name": "Python 3 (ipykernel)",
   "language": "python",
   "name": "python3"
  },
  "language_info": {
   "codemirror_mode": {
    "name": "ipython",
    "version": 3
   },
   "file_extension": ".py",
   "mimetype": "text/x-python",
   "name": "python",
   "nbconvert_exporter": "python",
   "pygments_lexer": "ipython3",
   "version": "3.9.15"
  }
 },
 "nbformat": 4,
 "nbformat_minor": 5
}
