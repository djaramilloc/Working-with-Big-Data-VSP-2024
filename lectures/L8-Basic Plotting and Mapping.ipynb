{
 "cells": [
  {
   "cell_type": "markdown",
   "id": "3ccf7783",
   "metadata": {
    "id": "3ccf7783"
   },
   "source": [
    "# Lecture 8 -- Basic Plotting and Mapping\n",
    "One of the most important tools in a data scientist's arsenal is visualization and plotting. This is because visualizations are frequently the best way of communicating data to an audience and understanding it yourself. We have already seen some very basic scatter and line plots using `matplotlib.pyplot`.  In this lecture, we will also learn how customize certain aspects of our visualizations to our needs. IN this lecture, students will learn\n",
    "- How to make subplots within a single figure\n",
    "- The difference between a figure and an axis\n",
    "- Various properties of plots that can be customized\n",
    "- What a line plot is actually doing and the benefit of using a fine `np.linspace` when constructing plots.\n",
    "- Creating maps with `GeoPandas` and `matplotlib`\n",
    "- Creating interactive maps with bokeh\n",
    "\n",
    "There are so many customization options, different plot types, etc. We won't be able to cover them all in this lecture, but you can always visit the [matplotlib documentation](https://matplotlib.org/stable/) which has plenty of examples. I also suggest QuantEcon's lecture on [Intermediate Plotting](https://datascience.quantecon.org/tools/matplotlib.html). Another good resource is [The Python Graph Gallery](https://python-graph-gallery.com/), it contains tons of examples with code.\n",
    "\n",
    "More advanced plotting functionality and syntax is frequently best learned needed because it can also be easy to forget unless you use it regularly.\n",
    "\n"
   ]
  },
  {
   "cell_type": "markdown",
   "id": "a8df1fab",
   "metadata": {
    "id": "a8df1fab"
   },
   "source": [
    "## Creating Effective Visualizations in Four Steps\n",
    "Here are four general steps for creating an effective visualizations:\n",
    "1. **Identify your message**\n",
    "    - What is the purpose of this visualiazation? What do you want your audience to understand after seeing it?\n",
    "2. **Describe your visualization**\n",
    "    - What type of visualization best communicates your message? What values do you need to construct the visualization? Will this visualization be accompanied by words (either written or spoken) that can help communicate the message?\n",
    "3. **Create a first draft of the visualizaiton**\n",
    "    - Make a first attempt at your visualization. Does it look as you expect? If not, does it look like anything might be wrong with your data or code? If so, can you understand the message by looking at it? How about a stranger?\n",
    "4. **Iterate and improve upon your visualization**\n",
    "    - How can you make the visualization more informative and aesthetically appealing? This is where you tinker with colors, alignments, labels, titles, legends, tick marks etc. to find the optimal visualization.\n",
    "\n",
    "We won't discuss examples of good and bad visualization in this lecture.  There are lecture notes on [\"Data Visualization Rules and Guidelines\"](https://datascience.quantecon.org/tools/visualization_rules.html) on QuantEcon. I highly suggest you read them when you get a chance.\n",
    "\n"
   ]
  },
  {
   "cell_type": "markdown",
   "id": "94d8da51",
   "metadata": {
    "id": "94d8da51"
   },
   "source": [
    "## `matplotlib` and `pyplot`\n",
    "`matplotlib` is a popular plotting and visualization package in Python. In past examples and for this lecture, we will be using the sub-module `pyplot`. Below, we import `matplotlib.pyplot` as well as `numpy` using the standard aliases. We will also import `math` for use later."
   ]
  },
  {
   "cell_type": "code",
   "id": "5306ef86",
   "metadata": {
    "id": "5306ef86",
    "executionInfo": {
     "status": "ok",
     "timestamp": 1721928298624,
     "user_tz": 420,
     "elapsed": 1463,
     "user": {
      "displayName": "Daniel Jaramillo",
      "userId": "05676542912155074596"
     }
    }
   },
   "source": [
    "import numpy as np\n",
    "import matplotlib.pyplot as plt\n",
    "import math\n",
    "import geopandas as gpd\n",
    "import pandas as pd"
   ],
   "outputs": [],
   "execution_count": null
  },
  {
   "cell_type": "markdown",
   "id": "c3f45c9b",
   "metadata": {
    "id": "c3f45c9b"
   },
   "source": [
    "## `plt.subplots`\n",
    "Up until this point, we have beeusing `plt.plot` which is probably the simplest plotting function.  Now, we demonstrate `plt.subplots()` which gives us more customization over our visualization and allows us to have many axes within one figure.  It is best to learn through example. Below, we plot the function\n",
    "$y = sin(x) + |x|$ for $x$ in  $[-4\\pi,4 \\pi]$."
   ]
  },
  {
   "cell_type": "code",
   "id": "2bca2adb",
   "metadata": {
    "scrolled": false,
    "colab": {
     "base_uri": "https://localhost:8080/",
     "height": 467
    },
    "id": "2bca2adb",
    "executionInfo": {
     "status": "ok",
     "timestamp": 1721928326408,
     "user_tz": 420,
     "elapsed": 578,
     "user": {
      "displayName": "Daniel Jaramillo",
      "userId": "05676542912155074596"
     }
    },
    "outputId": "c961a0e9-e208-4a27-819e-7dd60f530eac"
   },
   "source": [
    "# Initialize plot -- subplots returns two objects, a figure and axes\n",
    "fig, ax = plt.subplots()\n",
    "\n",
    "# Next we use np.linspace() to create our x values\n",
    "x = np.linspace(-4 * np.pi, 4 * np.pi, 100)\n",
    "# Generate y\n",
    "y = np.sin(x) + np.abs(x)\n",
    "\n",
    "# Plug the values into our plot\n",
    "ax.plot(x, y)"
   ],
   "outputs": [],
   "execution_count": null
  },
  {
   "cell_type": "markdown",
   "id": "e6a62304",
   "metadata": {
    "id": "e6a62304"
   },
   "source": [
    "## Figures and Axes\n",
    "In the code above, initializaing `plt.subplots()` returned a figure object and an axis object which we called `fig` and `ax` respectively. QuantEcon uses the analogy of a framed painting.\n",
    "- The axis is is the canvas on which we draw plots\n",
    "- The figure is the entire framed painting, including the axis itself.\n",
    "\n",
    "We can actually change the color of both of these objects and observe what happens."
   ]
  },
  {
   "cell_type": "code",
   "id": "6c6cc6b9",
   "metadata": {
    "scrolled": false,
    "colab": {
     "base_uri": "https://localhost:8080/",
     "height": 455
    },
    "id": "6c6cc6b9",
    "executionInfo": {
     "status": "ok",
     "timestamp": 1721928359453,
     "user_tz": 420,
     "elapsed": 249,
     "user": {
      "displayName": "Daniel Jaramillo",
      "userId": "05676542912155074596"
     }
    },
    "outputId": "2ac35871-b7c9-4e94-a3f7-cb8585eccc90"
   },
   "source": [
    "fig, ax = plt.subplots()\n",
    "\n",
    "fig.set_facecolor(\"green\") # This makes the edges green\n",
    "ax.set_facecolor(\"purple\") # This makes the \"canvas\" purple"
   ],
   "outputs": [],
   "execution_count": null
  },
  {
   "cell_type": "markdown",
   "id": "b561a0f3",
   "metadata": {
    "id": "b561a0f3"
   },
   "source": [
    "## Multiple Axes\n",
    "This figure/axis separation allows us to display many  axes on a single figure.\n",
    "Below, we plot many sine waves of varying frequencies on the same figure."
   ]
  },
  {
   "cell_type": "code",
   "id": "9089aeb8",
   "metadata": {
    "scrolled": false,
    "colab": {
     "base_uri": "https://localhost:8080/",
     "height": 450
    },
    "id": "9089aeb8",
    "executionInfo": {
     "status": "ok",
     "timestamp": 1721928382181,
     "user_tz": 420,
     "elapsed": 916,
     "user": {
      "displayName": "Daniel Jaramillo",
      "userId": "05676542912155074596"
     }
    },
    "outputId": "8dc18a47-fd83-4a9b-cd6c-12946e669f1e"
   },
   "source": [
    "fig, axes = plt.subplots(2, 2) # This creates a figure with 4 axes arranged in a 2x2 grid\n",
    "x_val = np.linspace(-2 * np.pi, 2 * np.pi, num = 1000) # create set of x values\n",
    "freq = np.array([.25, .5, 1, 2]) # various frequencies\n",
    "vec_sin = np.vectorize(np.sin) # vectorize sin function to apply to vectors\n",
    "\n",
    "for i, ax in enumerate(axes.flat): # Loops through each axis to add the lines\n",
    "    ax.plot(x_val, vec_sin(freq[i] * 2 * np.pi* x_val)) # plot red line on each individual axis\n"
   ],
   "outputs": [],
   "execution_count": null
  },
  {
   "cell_type": "markdown",
   "id": "4cbfb1db",
   "metadata": {
    "id": "4cbfb1db"
   },
   "source": [
    "## Making Your Plots Look Nice\n",
    "So far, we have created very bare bones figures, but `pyplot` allows for a lot of additional customization. For example, we might want to include titles in the plots above, an x-axis label, or y-axis labels. We can even vary the colors of the lines!"
   ]
  },
  {
   "cell_type": "code",
   "id": "aa70bb98",
   "metadata": {
    "scrolled": false,
    "colab": {
     "base_uri": "https://localhost:8080/",
     "height": 492
    },
    "id": "aa70bb98",
    "executionInfo": {
     "status": "ok",
     "timestamp": 1721928469962,
     "user_tz": 420,
     "elapsed": 1507,
     "user": {
      "displayName": "Daniel Jaramillo",
      "userId": "05676542912155074596"
     }
    },
    "outputId": "592293e5-a18f-4fa3-b24c-76cf97c7fd62"
   },
   "source": [
    "plot_colors = [\"red\", \"orange\", \"purple\", \"green\"]\n",
    "for i, ax in enumerate(axes.flat):\n",
    "    ax.plot(x_val, vec_sin(freq[i] * 2 * np.pi* x_val), color = plot_colors[i])\n",
    "    ax.set_title(\"Sine Wave with Freq=\" + str(freq[i]))\n",
    "    ax.set_xlabel(\"x\")\n",
    "    ax.set_ylabel(\"y\")\n",
    "\n",
    "fig"
   ],
   "outputs": [],
   "execution_count": null
  },
  {
   "cell_type": "markdown",
   "id": "dbcb710a",
   "metadata": {
    "id": "dbcb710a"
   },
   "source": [
    "## Overlapping Text\n",
    "Unfortunately, all of the titles and x-axis labels we added overlap with the axis tik marks. To fix this, we can simply call `fig.tight_layout()` to make sure all labels and other text do not overlap with eachother."
   ]
  },
  {
   "cell_type": "code",
   "id": "328d1de7",
   "metadata": {
    "scrolled": false,
    "colab": {
     "base_uri": "https://localhost:8080/",
     "height": 506
    },
    "id": "328d1de7",
    "executionInfo": {
     "status": "ok",
     "timestamp": 1721928480260,
     "user_tz": 420,
     "elapsed": 893,
     "user": {
      "displayName": "Daniel Jaramillo",
      "userId": "05676542912155074596"
     }
    },
    "outputId": "40780f0e-0277-4006-868f-ad56e4438214"
   },
   "source": [
    "fig.tight_layout()\n",
    "fig"
   ],
   "outputs": [],
   "execution_count": null
  },
  {
   "cell_type": "markdown",
   "id": "270dae7f",
   "metadata": {
    "id": "270dae7f"
   },
   "source": [
    "## Coarsness of `np.linspace()`\n",
    "When creating line plots of these functions, we are actually plotting many points and connecting them with lines. The x values are generated by a `np.linspace()` call and the y values are generated by taking some function (such as `np.sin()`) of those x values. Generally speaking, the finer our grid of points generated by `np.linspace()`, the more our plot will resemble the true function.\n",
    "\n",
    "Below, we consider coarse and finer grid values. We also illustrate the use of `label` and `legend` to label lines."
   ]
  },
  {
   "cell_type": "code",
   "id": "83fc792c",
   "metadata": {
    "scrolled": false,
    "colab": {
     "base_uri": "https://localhost:8080/",
     "height": 517
    },
    "id": "83fc792c",
    "executionInfo": {
     "status": "ok",
     "timestamp": 1721928516463,
     "user_tz": 420,
     "elapsed": 595,
     "user": {
      "displayName": "Daniel Jaramillo",
      "userId": "05676542912155074596"
     }
    },
    "outputId": "cffab1c9-dc20-4e77-d93e-cd7ca8345474"
   },
   "source": [
    "x_fine = np.linspace(-2 * np.pi, 2 * np.pi, num = 100)\n",
    "x_coarse = np.linspace(-2 * np.pi, 2 * np.pi, num = 10)\n",
    "\n",
    "y_fine = np.sin(x_fine)\n",
    "y_coarse = np.sin(x_coarse)\n",
    "\n",
    "fig, ax = plt.subplots()\n",
    "ax.plot(x_coarse, y_coarse, label = \"coarse line\")\n",
    "ax.plot(x_fine, y_fine, label = \"fine line\")\n",
    "fig.legend()\n",
    "ax.set_title(\"Coarse vs. Fine Sine Function\")"
   ],
   "outputs": [],
   "execution_count": null
  },
  {
   "cell_type": "markdown",
   "id": "fc80020c",
   "metadata": {
    "id": "fc80020c"
   },
   "source": [
    "This plot makes it clear that a fine grid will generally result in a better looking curve. If we look at scatter plots instead of line plots, we can see the points that the line plot is interpolating between."
   ]
  },
  {
   "cell_type": "code",
   "id": "433d3899",
   "metadata": {
    "scrolled": false,
    "colab": {
     "base_uri": "https://localhost:8080/",
     "height": 489
    },
    "id": "433d3899",
    "executionInfo": {
     "status": "ok",
     "timestamp": 1721928541067,
     "user_tz": 420,
     "elapsed": 735,
     "user": {
      "displayName": "Daniel Jaramillo",
      "userId": "05676542912155074596"
     }
    },
    "outputId": "d703f17b-b3c1-4ae9-cb50-f71c92b67caf"
   },
   "source": [
    "fig, ax = plt.subplots(2)\n",
    "ax[0].scatter(x_coarse, y_coarse, label = \"coarse points\")\n",
    "ax[0].plot(x_coarse, y_coarse, label = \"coarse points\")\n",
    "ax[1].scatter(x_fine, y_fine, label = \"fine points\")\n",
    "ax[1].plot(x_fine, y_fine, label = \"fine points\")\n",
    "ax[0].set_title(\"Coarse vs. Fine Sine Si Function\")"
   ],
   "outputs": [],
   "execution_count": null
  },
  {
   "cell_type": "markdown",
   "id": "c48b78ad",
   "metadata": {
    "id": "c48b78ad"
   },
   "source": [
    "## Saving Plots\n",
    "Sometimes, we want to save plots as image files so we can use the figures we create in other applications. Using the `.savefig()` method on a plot object. use the suffix to specify the filetype."
   ]
  },
  {
   "cell_type": "code",
   "id": "7cc0385c",
   "metadata": {
    "colab": {
     "base_uri": "https://localhost:8080/",
     "height": 55
    },
    "id": "7cc0385c",
    "executionInfo": {
     "status": "ok",
     "timestamp": 1721928588786,
     "user_tz": 420,
     "elapsed": 209,
     "user": {
      "displayName": "Daniel Jaramillo",
      "userId": "05676542912155074596"
     }
    },
    "outputId": "2abad650-d090-415d-a0c0-48bfdd8ac7db"
   },
   "source": [
    "pwd()"
   ],
   "outputs": [],
   "execution_count": null
  },
  {
   "cell_type": "code",
   "id": "2754acf5",
   "metadata": {
    "id": "2754acf5",
    "executionInfo": {
     "status": "ok",
     "timestamp": 1721928580423,
     "user_tz": 420,
     "elapsed": 438,
     "user": {
      "displayName": "Daniel Jaramillo",
      "userId": "05676542912155074596"
     }
    }
   },
   "source": [
    "fig.savefig(\"coarse_fine_sine.png\")\n",
    "fig.savefig(\"coarse_fine_sine.jpeg\")"
   ],
   "outputs": [],
   "execution_count": null
  },
  {
   "cell_type": "markdown",
   "id": "8747a0ce",
   "metadata": {
    "id": "8747a0ce"
   },
   "source": [
    "## Mapping\n",
    "Now we are going to switch gears and talk about mapping in Python. To do this, we will use the `geopandas` package. GeoPandas makes it easier to process geospatial data. While geospatial data is used for many purposes, our ultimate goal is to visualize geospatial data using maps.\n",
    "\n",
    "This section focuses on the same material as QuantEcon's lecture on [Mapping in Python](https://datascience.quantecon.org/tools/maps.html) but with different examples.\n",
    "\n",
    "\n",
    "In this lecture, our ultimate goal will be to have a plot of Canada and the markers/labels for the following nine cities in Canada.\n"
   ]
  },
  {
   "cell_type": "code",
   "id": "f456f659",
   "metadata": {
    "colab": {
     "base_uri": "https://localhost:8080/",
     "height": 320
    },
    "id": "f456f659",
    "executionInfo": {
     "status": "ok",
     "timestamp": 1721928688965,
     "user_tz": 420,
     "elapsed": 318,
     "user": {
      "displayName": "Daniel Jaramillo",
      "userId": "05676542912155074596"
     }
    },
    "outputId": "3e8cc2e3-6fb8-4b8d-8cd1-66901472fc5d"
   },
   "source": [
    "## City Info\n",
    "cities = ['Toronto', 'Montreal', 'Calgary', 'Edmonton', 'Ottawa', 'Winnipeg',\n",
    "             'Vancouver',  'Halifax']\n",
    "provinces = ['Ontario', 'Quebec', 'Alberta', 'Alberta', 'Ontario', 'Manitoba',\n",
    "             'British Columbia',  'Nova Scotia']\n",
    "df = pd.DataFrame({\n",
    "    'City': cities,\n",
    "    'Country': 8*[\"Canada\"],\n",
    "    'Province': provinces,\n",
    "    'Latitude': np.array([43.7, 45.509, 51.05, 53.55, 45.411, 49.884,\n",
    "                  49.25,  44.643]),\n",
    "    'Longitude': np.array([-79.416, -73.588, -114.085, -113.469, -75.698, -97.147,\n",
    "                  -123.119, -63.577])\n",
    "})\n",
    "\n",
    "df"
   ],
   "outputs": [],
   "execution_count": null
  },
  {
   "cell_type": "markdown",
   "source": [
    "### `DataFrame` to `GeoDataFrame`\n",
    "\n",
    "Currently the longitude and latitude are just numbers. We need to specify python that they are coordinates. Fos this we need to transform the pandas `DataFrame` into a geopandas `GeoDataFrame`\n",
    "\n",
    "We use the `gpd` function `GeoDataFrame(d)` to convert the DataFrame. We must supply an argument called `geometry` that tells GeoPandas which column should treat as a spatial attribute."
   ],
   "metadata": {
    "id": "qQidKkSK81_U"
   },
   "id": "qQidKkSK81_U"
  },
  {
   "cell_type": "code",
   "source": [
    "gdf = gpd.GeoDataFrame(\n",
    "    df,\n",
    "    geometry=gpd.points_from_xy(x=df['Longitude'], y=df['Latitude']),\n",
    "    crs = 'epsg:4326'\n",
    "    )\n",
    "\n",
    "gdf.head()"
   ],
   "metadata": {
    "colab": {
     "base_uri": "https://localhost:8080/",
     "height": 226
    },
    "id": "9Hr1NPBz80-M",
    "executionInfo": {
     "status": "ok",
     "timestamp": 1721928921136,
     "user_tz": 420,
     "elapsed": 454,
     "user": {
      "displayName": "Daniel Jaramillo",
      "userId": "05676542912155074596"
     }
    },
    "outputId": "e768ca1e-a3b0-427c-bd61-6c5e519182c3"
   },
   "id": "9Hr1NPBz80-M",
   "outputs": [],
   "execution_count": null
  },
  {
   "cell_type": "markdown",
   "source": [
    "An important aspect of Spatial data is that there is always a Coordinate Reference System (CRS) tied to it. In simple words this tell us the projection used to bring the coordinates from the planet to the specific data that you see. You can find more on this [here](https://www.earthdatascience.org/courses/use-data-open-source-python/intro-vector-data-python/spatial-data-vector-shapefiles/geographic-vs-projected-coordinate-reference-systems-python/)"
   ],
   "metadata": {
    "id": "a6tYAz6M_6tO"
   },
   "id": "a6tYAz6M_6tO"
  },
  {
   "cell_type": "markdown",
   "id": "93a4cac3",
   "metadata": {
    "id": "93a4cac3"
   },
   "source": [
    "Can check its type and figure out which column is the geometry column"
   ]
  },
  {
   "cell_type": "code",
   "id": "08a2d450",
   "metadata": {
    "scrolled": true,
    "colab": {
     "base_uri": "https://localhost:8080/"
    },
    "id": "08a2d450",
    "executionInfo": {
     "status": "ok",
     "timestamp": 1721928925969,
     "user_tz": 420,
     "elapsed": 173,
     "user": {
      "displayName": "Daniel Jaramillo",
      "userId": "05676542912155074596"
     }
    },
    "outputId": "427edd3d-bb48-4153-aff0-b51c472527d6"
   },
   "source": [
    "print(type(gdf))\n",
    "print(gdf.geometry.name)"
   ],
   "outputs": [],
   "execution_count": null
  },
  {
   "cell_type": "markdown",
   "id": "b8d8e54a",
   "metadata": {
    "id": "b8d8e54a"
   },
   "source": [
    "## Still Need a Map\n",
    "Our goal is to plot the locations of our cities on a map of Canada. First, we must obtain and plot the map. Then, we can plot the cities.\n"
   ]
  },
  {
   "cell_type": "markdown",
   "id": "f1a68018",
   "metadata": {
    "id": "f1a68018"
   },
   "source": [
    "\n",
    "### Obtaining a Canadian Map\n",
    "To get the map, we need to find shapefiles that contain the geometric data needed to plot the contours of a geographic region. I Googled \"Canadian Province Shapefile GeoPandas\" and found that [Statistics Canada](https://www.statcan.gc.ca/en/start) has shapefiles for download [here](https://www12.statcan.gc.ca/census-recensement/2011/geo/bound-limit/bound-limit-2016-eng.cfm). This file is also in the course repository. This is a good approach to finding shapefiles for other geographical objects."
   ]
  },
  {
   "cell_type": "code",
   "id": "a545f204",
   "metadata": {
    "scrolled": false,
    "colab": {
     "base_uri": "https://localhost:8080/",
     "height": 477,
     "output_embedded_package_id": "1NsS3QYq6WQgUK-Uf_3iRs8yk941aPnrq"
    },
    "id": "a545f204",
    "executionInfo": {
     "status": "ok",
     "timestamp": 1721928996411,
     "user_tz": 420,
     "elapsed": 52383,
     "user": {
      "displayName": "Daniel Jaramillo",
      "userId": "05676542912155074596"
     }
    },
    "outputId": "e91b62b9-7667-4f32-df26-79667d513775"
   },
   "source": [
    "can_df = gpd.read_file(\"data/canada_shapes/lpr_000b16a_e.shp\")\n",
    "can_df"
   ],
   "outputs": [],
   "execution_count": null
  },
  {
   "cell_type": "markdown",
   "id": "3fa30ba9",
   "metadata": {
    "id": "3fa30ba9"
   },
   "source": [
    "### Not all shapefiles use latitude and longitude.\n",
    "Look at the multipolygon coordinates. Do those look like latitude and longitude? If units do not match, our cities won't line up with the Canadian map. Below, we convert the polygon units so they use latitude and longitude."
   ]
  },
  {
   "cell_type": "code",
   "source": [
    "can_df.crs"
   ],
   "metadata": {
    "colab": {
     "base_uri": "https://localhost:8080/"
    },
    "id": "lyzjP1qy957q",
    "executionInfo": {
     "status": "ok",
     "timestamp": 1721929020484,
     "user_tz": 420,
     "elapsed": 931,
     "user": {
      "displayName": "Daniel Jaramillo",
      "userId": "05676542912155074596"
     }
    },
    "outputId": "4ea2e3a9-1bed-4530-c0ff-8a52cef6e0cd"
   },
   "id": "lyzjP1qy957q",
   "outputs": [],
   "execution_count": null
  },
  {
   "cell_type": "code",
   "id": "b40f9d5b",
   "metadata": {
    "id": "b40f9d5b",
    "executionInfo": {
     "status": "ok",
     "timestamp": 1721929104201,
     "user_tz": 420,
     "elapsed": 14958,
     "user": {
      "displayName": "Daniel Jaramillo",
      "userId": "05676542912155074596"
     }
    }
   },
   "source": [
    "# Change CRS with other object\n",
    "can_df.to_crs(gdf.crs)\n",
    "\n",
    "# Change via a string\n",
    "can_df = can_df.to_crs('epsg:4326')"
   ],
   "outputs": [],
   "execution_count": null
  },
  {
   "cell_type": "markdown",
   "id": "5bbab5bd",
   "metadata": {
    "id": "5bbab5bd"
   },
   "source": [
    "## Time to Plot\n",
    " Now, all we need to is plot the city data in our already existing plot. `gdf`"
   ]
  },
  {
   "cell_type": "code",
   "id": "5145b39c",
   "metadata": {
    "scrolled": false,
    "colab": {
     "base_uri": "https://localhost:8080/",
     "height": 650
    },
    "id": "5145b39c",
    "executionInfo": {
     "status": "ok",
     "timestamp": 1721929172813,
     "user_tz": 420,
     "elapsed": 21112,
     "user": {
      "displayName": "Daniel Jaramillo",
      "userId": "05676542912155074596"
     }
    },
    "outputId": "7a23a4ac-b9f2-42a1-f5fd-b1dde8eaf0e5"
   },
   "source": [
    "# This line initializes the figure\n",
    "fig, gax = plt.subplots(figsize = (10,15))\n",
    "\n",
    "# Plot the map\n",
    "can_df.plot(ax=gax, edgecolor='black', color='aliceblue')\n",
    "\n",
    "# Plot the cities\n",
    "gdf.plot(ax=gax, color='red', alpha = .5, markersize = 60)\n",
    "\n",
    "# Sets the Labels\n",
    "gax.set_xlabel('longitude')\n",
    "gax.set_ylabel('latitude')\n",
    "\n",
    "# remove top and right edges\n",
    "gax.spines['top'].set_visible(False)\n",
    "gax.spines['right'].set_visible(False)\n"
   ],
   "outputs": [],
   "execution_count": null
  },
  {
   "cell_type": "markdown",
   "id": "1fe3d308",
   "metadata": {
    "id": "1fe3d308"
   },
   "source": [
    "### One Step Further -- Fill, Labels, and Polish\n",
    "Let's take this map one step further. First, we show how we can use color to communicate numerical information. To do this, we will color provinces according to their populations. We will also add labels to the cities polish other aspects of the plot.\n",
    "\n",
    "First we have to load data on populations into our notebook and join it with the GeoDataFrame we've already created."
   ]
  },
  {
   "cell_type": "code",
   "id": "fd1ef2fb",
   "metadata": {
    "scrolled": true,
    "colab": {
     "base_uri": "https://localhost:8080/",
     "height": 508
    },
    "id": "fd1ef2fb",
    "executionInfo": {
     "status": "ok",
     "timestamp": 1721929186503,
     "user_tz": 420,
     "elapsed": 194,
     "user": {
      "displayName": "Daniel Jaramillo",
      "userId": "05676542912155074596"
     }
    },
    "outputId": "082dc0e0-4576-4a18-9d59-5350275e5c8c"
   },
   "source": [
    "pop_df = pd.read_csv(\"data/province_pop.csv\")\n",
    "pop_df"
   ],
   "outputs": [],
   "execution_count": null
  },
  {
   "cell_type": "markdown",
   "id": "837fa01d",
   "metadata": {
    "id": "837fa01d"
   },
   "source": [
    "We can join this with our `GeoDataFrame` using `pd.merge()`."
   ]
  },
  {
   "cell_type": "code",
   "source": [
    "# Merge with geodata\n",
    "pop_df = pd.merge(pop_df, can_df, left_on = \"Geography\", right_on = \"PRENAME\")\n",
    "\n",
    "# Print type -- it's a normal DataFrame\n",
    "print(type(pop_df))"
   ],
   "metadata": {
    "colab": {
     "base_uri": "https://localhost:8080/"
    },
    "id": "2PiEOCtE-qwd",
    "executionInfo": {
     "status": "ok",
     "timestamp": 1721929217004,
     "user_tz": 420,
     "elapsed": 202,
     "user": {
      "displayName": "Daniel Jaramillo",
      "userId": "05676542912155074596"
     }
    },
    "outputId": "4fd7b0d3-8bd1-4fd1-9f39-910489d6caa2"
   },
   "id": "2PiEOCtE-qwd",
   "outputs": [],
   "execution_count": null
  },
  {
   "cell_type": "code",
   "source": [
    "pop_df.head()"
   ],
   "metadata": {
    "id": "gDSs6z78-sp4",
    "executionInfo": {
     "status": "ok",
     "timestamp": 1721929258960,
     "user_tz": 420,
     "elapsed": 18261,
     "user": {
      "displayName": "Daniel Jaramillo",
      "userId": "05676542912155074596"
     }
    }
   },
   "id": "gDSs6z78-sp4",
   "outputs": [],
   "execution_count": null
  },
  {
   "cell_type": "code",
   "id": "2b9b3e24",
   "metadata": {
    "id": "2b9b3e24",
    "executionInfo": {
     "status": "ok",
     "timestamp": 1721929268261,
     "user_tz": 420,
     "elapsed": 187,
     "user": {
      "displayName": "Daniel Jaramillo",
      "userId": "05676542912155074596"
     }
    }
   },
   "source": [
    "# Make it a GeoDataFrame (doesn't like pre-existing column called \"geometry\")\n",
    "#pop_df = pop_df.rename(columns = {'geometry':'polygon'})\n",
    "pop_df = gpd.GeoDataFrame(pop_df, geometry = \"geometry\")"
   ],
   "outputs": [],
   "execution_count": null
  },
  {
   "cell_type": "code",
   "id": "06418afb",
   "metadata": {
    "scrolled": false,
    "id": "06418afb",
    "executionInfo": {
     "status": "ok",
     "timestamp": 1721929303139,
     "user_tz": 420,
     "elapsed": 32137,
     "user": {
      "displayName": "Daniel Jaramillo",
      "userId": "05676542912155074596"
     }
    }
   },
   "source": [
    "pop_df"
   ],
   "outputs": [],
   "execution_count": null
  },
  {
   "cell_type": "code",
   "id": "537303d3",
   "metadata": {
    "scrolled": false,
    "colab": {
     "base_uri": "https://localhost:8080/",
     "height": 646
    },
    "id": "537303d3",
    "executionInfo": {
     "status": "ok",
     "timestamp": 1721929382550,
     "user_tz": 420,
     "elapsed": 19943,
     "user": {
      "displayName": "Daniel Jaramillo",
      "userId": "05676542912155074596"
     }
    },
    "outputId": "a434bfb0-83e2-46b1-ed6a-0e1a1457d900"
   },
   "source": [
    "# Initialize the Plot\n",
    "fig, gax = plt.subplots(figsize = (10,15)) # This line initializes the figure\n",
    "\n",
    "# Plot the map with fill\n",
    "pop_df.plot(ax=gax, edgecolor='grey',  column = \"Q12023\", cmap = \"Wistia\", legend = True, legend_kwds={'shrink': 0.3})\n",
    "\n",
    "# Plot Points\n",
    "gdf.plot(ax=gax, color='blue', alpha = .5, markersize = 60) # plot the cities\n",
    "\n",
    "# Plot Labels -- position labels differently for different cities\n",
    "for x, y, label in zip(gdf['geometry'].x, gdf['geometry'].y, gdf['City']):\n",
    "    if label not in [\"Montreal\", \"Halifax\", \"Toronto\", \"Ottawa\", \"Vancouver\"]:\n",
    "        gax.annotate(label, xy=(x,y), xytext=(4,4), textcoords='offset points')\n",
    "    elif label in [\"Montreal\", \"Halifax\", \"Toronto\"]:\n",
    "        gax.annotate(label, xy=(x,y), xytext=(4,-6), textcoords='offset points')\n",
    "    elif label in [\"Ottawa\"]:\n",
    "        gax.annotate(label, xy=(x,y), xytext=(-8,4), textcoords='offset points')\n",
    "    elif label in [\"Vancouver\"]:\n",
    "        gax.annotate(label, xy=(x,y), xytext=(-10,4), textcoords='offset points')\n",
    "\n",
    "# Sets the Labels\n",
    "gax.set_xlabel('longitude')\n",
    "gax.set_ylabel('latitude')\n",
    "\n",
    "# Add a Title\n",
    "gax.set_title(\"Q1 2023 Population by Province\")\n",
    "\n",
    "# remove top and right edges\n",
    "gax.spines['top'].set_visible(False)\n",
    "gax.spines['right'].set_visible(False)\n",
    "\n",
    "fig.tight_layout()\n"
   ],
   "outputs": [],
   "execution_count": null
  },
  {
   "cell_type": "markdown",
   "id": "729559be",
   "metadata": {
    "id": "729559be"
   },
   "source": [
    "## Saving Maps\n",
    "Just like with plots, we can use `.savefig()` method on figures that contain maps."
   ]
  },
  {
   "cell_type": "code",
   "id": "10241850",
   "metadata": {
    "id": "10241850"
   },
   "source": [
    "fig.savefig(\"canada_polished.png\")"
   ],
   "outputs": [],
   "execution_count": null
  }
 ],
 "metadata": {
  "kernelspec": {
   "display_name": "Python 3 (ipykernel)",
   "language": "python",
   "name": "python3"
  },
  "language_info": {
   "codemirror_mode": {
    "name": "ipython",
    "version": 3
   },
   "file_extension": ".py",
   "mimetype": "text/x-python",
   "name": "python",
   "nbconvert_exporter": "python",
   "pygments_lexer": "ipython3",
   "version": "3.9.15"
  },
  "colab": {
   "provenance": []
  }
 },
 "nbformat": 4,
 "nbformat_minor": 5
}
