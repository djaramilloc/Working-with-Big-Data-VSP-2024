{
 "cells": [
  {
   "cell_type": "markdown",
   "id": "432a1472",
   "metadata": {},
   "source": [
    "# Lecture 2a -- Coding Fundamentals in Python\n",
    "This lecture explains the fundamentals of coding and illustrates them in Python. Through explanation and coding examples, students will learn about \n",
    "- variable assignment\n",
    "- displaying output in Jupyter Notebooks with and without `print()`\n",
    "- how and why to comment code\n",
    "- functions, objects, types, and their significance\n",
    "- modules, aliasing, how to import modules, and how to reference them using their alias\n",
    "- numerical types, basic numerical operations, and basic math functions\n",
    "- strings, string methods, and string formatting\n",
    "- boolean variables, comparison operators, and logical keywords\n",
    "\n",
    "The structure of this lecture closely follows the QuantEcon lectures on [Python Fundamentals](https://datascience.quantecon.org/python_fundamentals/index.html) sans the economics content. When it is relevant, comments on Jupyter functionality will be made."
   ]
  },
  {
   "cell_type": "markdown",
   "id": "b9822834",
   "metadata": {},
   "source": [
    "## Variable Assignment\n",
    "One of the most fundamental concepts of coding in Python is **variable assignment**. That is, the act of assigning a variable name to a value. Below, multiple variable assigments and values are demonstrated.  \n",
    "1. The variable `x` is assigned a value of 20. \n",
    "2. The variable `y` is assigned the value of `x` plus 2.5. \n",
    "3. The variable `notanumber` is asigned a value of \"Hello World\"\n",
    "4. The variable `fruit_list` is assigned the list of values `[\"apple\", \"banana\", \"orange\"]`\n",
    "\n",
    "**Note 1**: Variable names are **case-sensitive**, so if you define a variable called `a`, you **cannot** reference it by calling `A`. \n",
    "\n",
    "**Note 2**: Some names cannot be used as they will conflict with names already defined within Python. "
   ]
  },
  {
   "cell_type": "code",
   "execution_count": 15,
   "id": "cf2d531e",
   "metadata": {},
   "outputs": [],
   "source": [
    "x = 20\n",
    "y = x + 2.5\n",
    "notanumber = \"Hello World\"\n",
    "fruit_list = [\"apple\", \"banana\", \"orange\"]"
   ]
  },
  {
   "cell_type": "markdown",
   "id": "f8c174ff",
   "metadata": {},
   "source": [
    "After running the aboves cells, we can display `x`, `y`, and `notanumber` by simply placing them in the boxes below. "
   ]
  },
  {
   "cell_type": "code",
   "execution_count": 16,
   "id": "73685729",
   "metadata": {},
   "outputs": [
    {
     "data": {
      "text/plain": [
       "20"
      ]
     },
     "execution_count": 16,
     "metadata": {},
     "output_type": "execute_result"
    }
   ],
   "source": [
    "x # This is a comment"
   ]
  },
  {
   "cell_type": "code",
   "execution_count": 17,
   "id": "3c806385",
   "metadata": {},
   "outputs": [
    {
     "data": {
      "text/plain": [
       "22.5"
      ]
     },
     "execution_count": 17,
     "metadata": {},
     "output_type": "execute_result"
    }
   ],
   "source": [
    "y # This line of code prints x because it is the last line of a Jupyter cell"
   ]
  },
  {
   "cell_type": "code",
   "execution_count": 18,
   "id": "9062c025",
   "metadata": {},
   "outputs": [
    {
     "data": {
      "text/plain": [
       "'Hello World'"
      ]
     },
     "execution_count": 18,
     "metadata": {},
     "output_type": "execute_result"
    }
   ],
   "source": [
    "notanumber"
   ]
  },
  {
   "cell_type": "code",
   "execution_count": 19,
   "id": "ef4b1394",
   "metadata": {},
   "outputs": [
    {
     "data": {
      "text/plain": [
       "['apple', 'banana', 'orange']"
      ]
     },
     "execution_count": 19,
     "metadata": {},
     "output_type": "execute_result"
    }
   ],
   "source": [
    "fruit_list # This is a list of fruits"
   ]
  },
  {
   "cell_type": "markdown",
   "id": "eca9bc08",
   "metadata": {},
   "source": [
    "### Displaying in Jupyter Notebook\n",
    "By default, Jupyter notebooks will print the output of the **last line of code only**. That is why the variables need to be in separate boxes if we want to see all of their outputs. \n",
    "\n",
    "### Code Comments\n",
    "Note the use of comments in the code above. The `#` symbol indicates that the subsequent text is a comment, not part of code that the computer should execute. Comments can help others and your future self understand what code is supposed to do. In these lectures, comments are used to remind the lecturer of certain details. In general, you should not expect people to read comments in a Notebook. As a result, comments should **not** be the only source of essential information or answers to explicitly asked questions. That is what Markdown cells are for.\n",
    "\n",
    "### Print\n",
    "Alternatively, we can use `print()` to print each variable to the output of a single notebook cell. \n",
    "\n",
    " "
   ]
  },
  {
   "cell_type": "code",
   "execution_count": 20,
   "id": "2e200386",
   "metadata": {
    "scrolled": true
   },
   "outputs": [
    {
     "name": "stdout",
     "output_type": "stream",
     "text": [
      "20\n",
      "22.5\n",
      "Hello World\n",
      "['apple', 'banana', 'orange']\n"
     ]
    }
   ],
   "source": [
    "print(x)\n",
    "print(y)\n",
    "print(notanumber)\n",
    "print(fruit_list)"
   ]
  },
  {
   "cell_type": "markdown",
   "id": "d7592e09",
   "metadata": {},
   "source": [
    "### Reassigning a Variable Name\n",
    "If the cells of this notebook are executed sequentially, `x` will be equal to 20 at this point. We can, however, reassign `x` to a different value. Let's observe what happens to `x` and `y` when we redefine `x` (recall we set `y = x + 2.5`)."
   ]
  },
  {
   "cell_type": "code",
   "execution_count": 21,
   "id": "cb3c430e",
   "metadata": {
    "scrolled": true
   },
   "outputs": [
    {
     "name": "stdout",
     "output_type": "stream",
     "text": [
      "10\n",
      "22.5\n",
      "32.5\n"
     ]
    }
   ],
   "source": [
    "x = 10\n",
    "print(x)\n",
    "print(y)\n",
    "print(x+y)"
   ]
  },
  {
   "cell_type": "markdown",
   "id": "8629d2e7",
   "metadata": {},
   "source": [
    "Note that `y` is still equal to 22.5 even though `x` is now 10 (instead of 20). This is because `x` was equal to 20 when we assigned `y` to `x + 2.5` and that value was locked in, so changing the value of `x` after we assigned `y` does not affect the value of `y`.\n",
    "\n",
    "Even when we set `y` equal to `x` (which is now 10) and change `x`, `y` will still be equal to `x`'s old value. "
   ]
  },
  {
   "cell_type": "code",
   "execution_count": 22,
   "id": "e07481b8",
   "metadata": {},
   "outputs": [
    {
     "name": "stdout",
     "output_type": "stream",
     "text": [
      "10\n"
     ]
    }
   ],
   "source": [
    "y = x\n",
    "x = 5\n",
    "print(y) # y is still ten"
   ]
  },
  {
   "cell_type": "markdown",
   "id": "f0b1d345",
   "metadata": {},
   "source": [
    "this has to do with a concept called `mutability` which we will discuss later. \n",
    "\n",
    "For now think of it this way, `x` was assigned to the value 10 in memory. By assigning `y` to `x`, we just assigned it to the same value `x` is assigned to, 10. \n",
    "\n",
    "When we later reassign `x` to 5, we are simply creating a new object which `x` is then assigned to. `y` does not \"follow\" `x` to this new object."
   ]
  },
  {
   "cell_type": "markdown",
   "id": "f98a0a76",
   "metadata": {},
   "source": [
    "### Functions\n",
    "Print is an example of a a **function**. Generally speaking, a **function** is some code that takes an input and either produces an output or manipulates variables. `print()` takes an input and displays it in the Jupyter cell's output. Note that there is a difference between `print` and `print()`. The former is essentially a variable name for a function but the  "
   ]
  },
  {
   "cell_type": "markdown",
   "id": "5c7e8f16",
   "metadata": {},
   "source": [
    "### Objects\n",
    "Essentially everything, including functions and variables, are called **objects**. All objects are saved into memory (specifically RAM) and the value of that object (e.g. \"Hello World\") can be accessed by referencing the variable name (e.g. `notanumber`) as above.\n",
    "\n",
    "(*Note:* If you reference an object before it has been assigned you will get an error. You can restart the python Kernel to clear previously created variables.)\n",
    "### Types\n",
    "**Types** help us categorize objects that have like properties and desired behavior. Things of like types should be treated similarly by functions. The type of a variable describes the kind of data stored in it. We can call the function `type()` on the previously generated variables and the function `print`.  "
   ]
  },
  {
   "cell_type": "code",
   "execution_count": 23,
   "id": "45ab740c",
   "metadata": {
    "scrolled": true
   },
   "outputs": [
    {
     "name": "stdout",
     "output_type": "stream",
     "text": [
      "<class 'int'>\n",
      "<class 'int'>\n",
      "<class 'str'>\n",
      "<class 'list'>\n",
      "<class 'builtin_function_or_method'>\n"
     ]
    }
   ],
   "source": [
    "print(type(x))\n",
    "print(type(y))\n",
    "print(type(notanumber))\n",
    "print(type(fruit_list))\n",
    "print(type(print))"
   ]
  },
  {
   "cell_type": "markdown",
   "id": "e20859c2",
   "metadata": {},
   "source": [
    "Interpreting the output tells us that `x` is an integer number (int), `y` is a floating point number (float), `notanumber` is a string (str), and `fruit_list` is a list (list).  Even `functions` have a type that lets the computer know it should be treated as a function.\n",
    "\n",
    "### Types as Context\n",
    "To see the imporance of types, it helps to think about what you might want to do with objects of each type. For instance, you can add two numbers together, so it makes sense to add `x` and `y`."
   ]
  },
  {
   "cell_type": "code",
   "execution_count": 24,
   "id": "190a6865",
   "metadata": {
    "scrolled": true
   },
   "outputs": [
    {
     "name": "stdout",
     "output_type": "stream",
     "text": [
      "15\n"
     ]
    }
   ],
   "source": [
    "print(x + y) # adding two numbers does what we expect"
   ]
  },
  {
   "cell_type": "markdown",
   "id": "a6c093f4",
   "metadata": {},
   "source": [
    "This is the usual alegebraic addition we all know, but what happens when we add two strings or two lists?"
   ]
  },
  {
   "cell_type": "code",
   "execution_count": 25,
   "id": "70275184",
   "metadata": {
    "scrolled": true
   },
   "outputs": [
    {
     "name": "stdout",
     "output_type": "stream",
     "text": [
      "Hello World how are you?\n",
      "['apple', 'banana', 'orange', 'raspberry', 'strawberry']\n"
     ]
    }
   ],
   "source": [
    "print(notanumber + \" how are you?\")\n",
    "print(fruit_list + [\"raspberry\", \"strawberry\"])"
   ]
  },
  {
   "cell_type": "markdown",
   "id": "5af42d96",
   "metadata": {},
   "source": [
    "The `+` operator concatenates strings and lists into one string or list respectively. Since the computer knows what type each variable is, it can tell what `+` means through context alone and the operator `+` can be used for all three operations even though they manipulate different data types in fundamentally different ways. \n",
    "\n",
    "Similarly, some objects such as strings and lists have some notion of length wheras numerical values do not.  We can ascertain the size of the string or list using the function `len()` and we can reference individual elements using bracket notation."
   ]
  },
  {
   "cell_type": "code",
   "execution_count": 26,
   "id": "84cf1b54",
   "metadata": {
    "scrolled": true
   },
   "outputs": [
    {
     "name": "stdout",
     "output_type": "stream",
     "text": [
      "3\n",
      "11\n"
     ]
    }
   ],
   "source": [
    "print(len(fruit_list)) # Print the number of elements of fruit_list (3)\n",
    "print(len(notanumber)) # Print the number of characters in notanumber (11)"
   ]
  },
  {
   "cell_type": "markdown",
   "id": "f99ff7d3",
   "metadata": {},
   "source": [
    "Generally speaking, **methods** are simply functions that take a specific type of object as an input. While one could argue `len()` is a method,  in Python, method usually refers to functions that you call with dot notatation. For example, lists have a method called `append` that add a new item to the list. Below, we add `\"peach\"` to our list of fruits."
   ]
  },
  {
   "cell_type": "code",
   "execution_count": 27,
   "id": "66fddbe5",
   "metadata": {},
   "outputs": [
    {
     "data": {
      "text/plain": [
       "['apple', 'banana', 'orange', 'peach']"
      ]
     },
     "execution_count": 27,
     "metadata": {},
     "output_type": "execute_result"
    }
   ],
   "source": [
    "fruit_list.append(\"peach\") # use the method append to add \"peach\" to the list fruit_list\n",
    "fruit_list"
   ]
  },
  {
   "cell_type": "markdown",
   "id": "194c515e",
   "metadata": {},
   "source": [
    "Strings also have their own methods. For example, we can split a string up into a list of smaller strings by using a separating character (such as a space) and save it as a list:"
   ]
  },
  {
   "cell_type": "code",
   "execution_count": 28,
   "id": "9df55f91",
   "metadata": {},
   "outputs": [
    {
     "data": {
      "text/plain": [
       "['Vancouver', 'Summer', 'Program']"
      ]
     },
     "execution_count": 28,
     "metadata": {},
     "output_type": "execute_result"
    }
   ],
   "source": [
    "word_list = \"Vancouver Summer Program\".split(\" \")\n",
    "word_list # results in a list"
   ]
  },
  {
   "cell_type": "markdown",
   "id": "91442a79",
   "metadata": {},
   "source": [
    "After assigning a variable into memory, you can see a list of methods and data associated with a given object using **tab completion**. To do this, type the variable name followed by a period. Then, hit the tab key on your computer. We demonstrate in the cell below:"
   ]
  },
  {
   "cell_type": "code",
   "execution_count": 29,
   "id": "d7b051ad",
   "metadata": {
    "scrolled": true
   },
   "outputs": [
    {
     "data": {
      "text/plain": [
       "<function list.copy()>"
      ]
     },
     "execution_count": 29,
     "metadata": {},
     "output_type": "execute_result"
    }
   ],
   "source": [
    "word_list.copy"
   ]
  },
  {
   "cell_type": "markdown",
   "id": "005f800e",
   "metadata": {},
   "source": [
    "## Modules\n",
    "Modules (also known as packages) are a collection of programming tools. These packages come with pre-built, purpose-specific data structures, functions, and macros among many other things. Open source packages in Python are abundant -- this means you as a programmer do not have to write code to use it. Even if you can write functionally identical code, the package code will likely be faster as package code tends to be highly optimized. Sometimes, modules lean on code written in other languages to gain a performance advantange. Some packages we will be learning are\n",
    "- pandas for data cleaning, wrangling, and analysis\n",
    "- matplotlib for visualization\n",
    "- numpy for arrays and associated mathematical operations (matrices and vectors)\n",
    "- scikit-learn for a wide array off predictive analysis techniques\n",
    "To use modules you must first import them: "
   ]
  },
  {
   "cell_type": "code",
   "execution_count": 30,
   "id": "12191f68",
   "metadata": {},
   "outputs": [],
   "source": [
    "import pandas as pd\n",
    "import matplotlib.pyplot as plt\n",
    "import numpy as np\n",
    "import sklearn as skl"
   ]
  },
  {
   "cell_type": "markdown",
   "id": "80d93371",
   "metadata": {},
   "source": [
    "`pd`, `mpl`, `np`, and `skl` are aliases for their respective packages. These allows us to refer to the packages in an abbreviated manner. For example, I can call the function `plot` from the `matplotlib.pyplot` package on two lists and plot their elements as if they were "
   ]
  },
  {
   "cell_type": "code",
   "execution_count": 48,
   "id": "d03c8e49",
   "metadata": {
    "scrolled": true
   },
   "outputs": [
    {
     "data": {
      "text/plain": [
       "[<matplotlib.lines.Line2D at 0x148e6abe580>]"
      ]
     },
     "execution_count": 48,
     "metadata": {},
     "output_type": "execute_result"
    },
    {
     "data": {
      "image/png": "[encoded data removed]",
      "text/plain": [
       "<Figure size 640x480 with 1 Axes>"
      ]
     },
     "metadata": {},
     "output_type": "display_data"
    }
   ],
   "source": [
    "x = [0, 1, 2, 3, 4, 5]\n",
    "xsq = [0, 1, 4, 9, 16, 25] # x squared\n",
    "plt.scatter(x, xsq) # This is a lot easier to type out than pyplot.plot(x,xsq)\n",
    "plt.plot(x,xsq) # Note how this adds to the already existing plot"
   ]
  },
  {
   "cell_type": "markdown",
   "id": "6fce842a",
   "metadata": {},
   "source": [
    "### Modules Need to be Installed!\n",
    "If you try and import a module that is not in your Python environment, you will receive an error `No Module named <module_name>`. \n",
    "\n",
    "This means you will have to install it. Most of the time, this can be done with the magic command `%pip install <package_name>`.\n",
    "\n",
    "If you already have the package installed, this command will return a message that begins with `Requirement already satisfied`"
   ]
  },
  {
   "cell_type": "code",
   "execution_count": 3,
   "id": "30edb68a",
   "metadata": {},
   "outputs": [
    {
     "name": "stdout",
     "output_type": "stream",
     "text": [
      "Requirement already satisfied: numpy in c:\\users\\jayca\\anaconda3\\envs\\quntecon2\\lib\\site-packages (1.23.4)\n",
      "Note: you may need to restart the kernel to use updated packages.\n"
     ]
    }
   ],
   "source": [
    "%pip install numpy"
   ]
  },
  {
   "cell_type": "markdown",
   "id": "28fdb575",
   "metadata": {},
   "source": [
    "## Numerical Types & Basic Arithmetic in Python\n",
    "There are two main types of numbers in Python: integers (data type int) and floating points (data type float). Integers can only represent integer numbers whereas floating points can represent decimals, fractions, etc. Observe the type of the objects below"
   ]
  },
  {
   "cell_type": "code",
   "execution_count": 32,
   "id": "8892ba6c",
   "metadata": {},
   "outputs": [
    {
     "name": "stdout",
     "output_type": "stream",
     "text": [
      "<class 'int'>\n",
      "<class 'float'>\n",
      "<class 'float'>\n"
     ]
    }
   ],
   "source": [
    "# Integers\n",
    "print(type(4))\n",
    "\n",
    "# Floats\n",
    "print(type(3.4))\n",
    "print(type(4.0)) # Note how this is a float because we included the .0 after the 4.\n"
   ]
  },
  {
   "cell_type": "markdown",
   "id": "d4db7d63",
   "metadata": {},
   "source": [
    "### Pay Attention to Types!\n",
    "While integers and floats behave similarly when applying mathetmatical operations, the types matter. For example, if we want to access the third element of an element of `fruit_list`, we must set `idx` equal to `2`, not `2.0`. \n",
    "\n",
    "Try setting `idx` equal to 2.0 instead of 2 and see what happens below. "
   ]
  },
  {
   "cell_type": "code",
   "execution_count": 33,
   "id": "29d92894",
   "metadata": {},
   "outputs": [
    {
     "data": {
      "text/plain": [
       "'orange'"
      ]
     },
     "execution_count": 33,
     "metadata": {},
     "output_type": "execute_result"
    }
   ],
   "source": [
    "idx = 2\n",
    "fruit_list[idx]"
   ]
  },
  {
   "cell_type": "markdown",
   "id": "4b9e8293",
   "metadata": {},
   "source": [
    "### Basic Arithmetic in Python\n",
    "All basic arithmetic operations have a relatively intuitive equivalent in Python:\n",
    "- `a + b` adds a to b\n",
    "- `a - b` subtracts b from a\n",
    "- `a * b` multiplies a and b\n",
    "- `a / b` divides a by b\n",
    "- `a ** b` raise a to the b-th power\n",
    "\n",
    "The last one is a bit abnormal because usually exponentiation is denoted by `^`, but this operator is actually reserved for something else.\n",
    "\n",
    "If both a and b are integer types, all of these operators except for division will also result in an integer. If either a or b are floats, then the resulting operation will also be a float. We can experiment with this below:\n"
   ]
  },
  {
   "cell_type": "code",
   "execution_count": 34,
   "id": "7fb73138",
   "metadata": {
    "scrolled": true
   },
   "outputs": [
    {
     "name": "stdout",
     "output_type": "stream",
     "text": [
      "<class 'int'>\n",
      "<class 'int'>\n",
      "<class 'int'>\n",
      "<class 'int'>\n",
      "<class 'float'>\n",
      "<class 'float'>\n",
      "<class 'float'>\n",
      "<class 'float'>\n",
      "<class 'float'>\n",
      "<class 'float'>\n"
     ]
    }
   ],
   "source": [
    "a = 8\n",
    "b = 2\n",
    "print(type(a + b))\n",
    "print(type(a - b))\n",
    "print(type(a * b))\n",
    "print(type(a ** b))\n",
    "print(type(a / b)) # Note this results in a float even though a/b is an intger\n",
    "\n",
    "a = 8.0 # now a is a float, so all of the previous operations will now result in a float\n",
    "print(type(a + b))\n",
    "print(type(a - b))\n",
    "print(type(a * b))\n",
    "print(type(a ** b))\n",
    "print(type(a / b)) \n"
   ]
  },
  {
   "cell_type": "markdown",
   "id": "fa0cfdbd",
   "metadata": {},
   "source": [
    "### Order of Operations\n",
    "Just like with mathematical notation, code respects the usual order of operations.\n",
    "1. Parentheses (not techincally an operation)\n",
    "2. Exponentiation\n",
    "3. Multiplication & Division\n",
    "4. Addition & Subtraction"
   ]
  },
  {
   "cell_type": "code",
   "execution_count": 35,
   "id": "2a71dbe2",
   "metadata": {},
   "outputs": [
    {
     "name": "stdout",
     "output_type": "stream",
     "text": [
      "1296\n",
      "441\n",
      "111\n"
     ]
    }
   ],
   "source": [
    "### Order of Operations Examples\n",
    "print( ((3 + 3) * 6) ** 2 )\n",
    "print( (3 + 3 * 6) ** 2 ) \n",
    "print( 3 + 3 * 6 ** 2 )"
   ]
  },
  {
   "cell_type": "markdown",
   "id": "50fcb951",
   "metadata": {},
   "source": [
    "### Other Mathematical Operations\n",
    "Other basic mathematical operations and objects, such as trigonometric functions, factorials, mathetmatical constants, etc. can be used by importing the math module as seen below."
   ]
  },
  {
   "cell_type": "code",
   "execution_count": 36,
   "id": "b51a9b66",
   "metadata": {},
   "outputs": [
    {
     "name": "stdout",
     "output_type": "stream",
     "text": [
      "0.0\n",
      "24\n"
     ]
    }
   ],
   "source": [
    "import math\n",
    "print(round(math.sin(math.pi), 4))\n",
    "print(math.factorial(4))"
   ]
  },
  {
   "cell_type": "markdown",
   "id": "78056854",
   "metadata": {},
   "source": [
    "## Working with Strings in Python\n",
    "While highly unstructured, text data is one of the most abundant forms of data. In fact, Chat GPT and other Large Language Models (LLM) are trained on large amounts of text data. \n",
    "\n",
    "Not all text data, however, will be ready for analysis in its raw form. This makes being able to work with and manipulate strings very important. As we showed earlier, some mathematical operators work with strings:"
   ]
  },
  {
   "cell_type": "code",
   "execution_count": 37,
   "id": "d68143dc",
   "metadata": {
    "scrolled": true
   },
   "outputs": [
    {
     "name": "stdout",
     "output_type": "stream",
     "text": [
      "Hi! How are you?\n",
      "three three three \n"
     ]
    }
   ],
   "source": [
    "print(\"Hi! \" + \"How \" + \"are \" + \"you?\") # + combines strings into one\n",
    "print(3*\"three \") # multiplication of a string and an integer repeats the strings"
   ]
  },
  {
   "cell_type": "markdown",
   "id": "278eb2a7",
   "metadata": {},
   "source": [
    "Most other operators do not make sense in the context of strings -- we can explore that below. "
   ]
  },
  {
   "cell_type": "code",
   "execution_count": 38,
   "id": "c0a521ca",
   "metadata": {},
   "outputs": [],
   "source": [
    "a = \"hi\"\n",
    "b = \"hello\"\n",
    "# a - b\n",
    "# a ** b\n",
    "# a * b\n",
    "# a * 3.3"
   ]
  },
  {
   "cell_type": "markdown",
   "id": "421a1f47",
   "metadata": {},
   "source": [
    "That being said, there's still plenty we can do with strings, such as change the case of characters in the string and count the number of ocurrences of a substring:"
   ]
  },
  {
   "cell_type": "code",
   "execution_count": 39,
   "id": "e73c4b7d",
   "metadata": {},
   "outputs": [
    {
     "name": "stdout",
     "output_type": "stream",
     "text": [
      "HI\n",
      "hi\n",
      "2\n",
      "0\n"
     ]
    }
   ],
   "source": [
    "a_cap = a.upper()\n",
    "print(a_cap)\n",
    "print(a_cap.lower())\n",
    "print(b.count(\"l\"))\n",
    "print(b.count(\"L\"))"
   ]
  },
  {
   "cell_type": "markdown",
   "id": "aab00c43",
   "metadata": {},
   "source": [
    "### Capitalization When Coding Matters!\n",
    "Note how `print(b.count(\"L\"))` resulted in a count of 0. This is because strings are case-sensitive in Python and no capital letters appear in `b`. This makes the `.lower()` and `.upper()` string methods even more important when dealing with raw data that may be inconsistently capitalized or when capitalization does not matter for one's purpose.\n",
    "\n",
    "### String Formatting\n",
    "String formatting allows us to customize the content of strings with variables we have defined. Below, we demonstrate two ways to format strings.  The first method is referred to as f-string and uses an `f` in front of a string to signify that the terms in `{}` should be interpreted as expressions that should be evaluated. "
   ]
  },
  {
   "cell_type": "code",
   "execution_count": 40,
   "id": "513d8e24",
   "metadata": {},
   "outputs": [
    {
     "name": "stdout",
     "output_type": "stream",
     "text": [
      "Vancouver is in Canada.\n"
     ]
    }
   ],
   "source": [
    "# fstring method\n",
    "city = \"Vancouver\"\n",
    "country = \"Canada\"\n",
    "string_1 = f\"{city} is in {country}.\"\n",
    "print(string_1)"
   ]
  },
  {
   "cell_type": "markdown",
   "id": "00d2be6d",
   "metadata": {},
   "source": [
    "Alternatively, we can call the `.format()` method on a string (without the `f` preceeding the string)"
   ]
  },
  {
   "cell_type": "code",
   "execution_count": 41,
   "id": "cea1a3d5",
   "metadata": {},
   "outputs": [
    {
     "name": "stdout",
     "output_type": "stream",
     "text": [
      "Vancouver is in Canada.\n"
     ]
    }
   ],
   "source": [
    "# Method 2\n",
    "string_1 = \"{city} is in {country}.\"\n",
    "print(string_1.format(city = city, country = country))"
   ]
  },
  {
   "cell_type": "markdown",
   "id": "f13eb4e0",
   "metadata": {},
   "source": [
    "## Introduction to Booleans\n",
    "Boolean variables can take one of two values (`True` or `False`). After reviewing control flow, it will become clear how important understanding boolean variables, and basic logic, is. For now, we will just define some boolean variables and discuss some expressions/keywords that result in boolean variables."
   ]
  },
  {
   "cell_type": "code",
   "execution_count": 42,
   "id": "c2a530aa",
   "metadata": {},
   "outputs": [
    {
     "name": "stdout",
     "output_type": "stream",
     "text": [
      "<class 'bool'>\n",
      "<class 'bool'>\n"
     ]
    }
   ],
   "source": [
    "bool_true = True\n",
    "bool_false = False\n",
    "print(type(bool_true))\n",
    "print(type(bool_false))"
   ]
  },
  {
   "cell_type": "markdown",
   "id": "3995e4c8",
   "metadata": {},
   "source": [
    "### Comparison Operators\n",
    "Comparison operators allows us to ascertain whether a certain expression  (generally involving non-boolean variables) is true or false. The most common of these operators are\n",
    "- `==` equality\n",
    "- `>` strictly greater than\n",
    "- `<` strictly less than\n",
    "- `>=` greater than or equal to\n",
    "- `<=` less than or equal to\n",
    "\n",
    "Here are some examples where we use the comparison operators to evalue whether a statement is true or false. "
   ]
  },
  {
   "cell_type": "code",
   "execution_count": 43,
   "id": "10132734",
   "metadata": {
    "scrolled": false
   },
   "outputs": [
    {
     "name": "stdout",
     "output_type": "stream",
     "text": [
      "The statement '4 is equal to 2' is False\n",
      "The statement '4 is greater than 2' is True\n",
      "The statement '4 is less than 2' is False\n",
      "The statement '4 is greater than or equal to 2' is True\n",
      "The statement '4 is less than or equal to 2'' is False\n"
     ]
    }
   ],
   "source": [
    "a = 4\n",
    "b = 2\n",
    "\n",
    "print(f\"The statement '{a} is equal to {b}'\", \"is\", a == b)\n",
    "print(f\"The statement '{a} is greater than {b}'\", \"is\", a > b)\n",
    "print(f\"The statement '{a} is less than {b}'\", \"is\", a < b)\n",
    "print(f\"The statement '{a} is greater than or equal to {b}'\", \"is\", a >= b)\n",
    "print(f\"The statement '{a} is less than or equal to {b}''\", \"is\", a <= b)"
   ]
  },
  {
   "cell_type": "markdown",
   "id": "9754d6a0",
   "metadata": {},
   "source": [
    "## Logical Keywords -- not, and, or\n",
    "As we will discuss in the control flow section, you will sometimes want to negate boolean variables. This can be done by using the keyword `not`. "
   ]
  },
  {
   "cell_type": "code",
   "execution_count": 44,
   "id": "a17cb1a7",
   "metadata": {
    "scrolled": true
   },
   "outputs": [
    {
     "name": "stdout",
     "output_type": "stream",
     "text": [
      "False\n",
      "True\n",
      "True\n",
      "True\n"
     ]
    }
   ],
   "source": [
    "print(not True)\n",
    "print(not False)\n",
    "print(not not True)\n",
    "print(not not True)"
   ]
  },
  {
   "cell_type": "markdown",
   "id": "3cf2ac26",
   "metadata": {},
   "source": [
    "Similarly, we can use the words `and` and `or` to consider multiple boolean variables at once. \n",
    "\n",
    "**Be careful!** The mathematical/logical meanings of \"and\" and \"or\" are distinct from their usage in English. \n",
    "\n",
    "- If `a and b` is true, it means means both `a` is true and `b` is true. This is very similar to the English usage of \"and\".\n",
    "- If `a or b` is true, it means at least one of `a` or `b` is true. Whereas, english tends to use \"or\" to denote two mutually exclusive options (e.g. \"do you want to eat tacos or pizza for dinner?\") the logical `or` is not mutually exclusive -- `a or b` is true when both `a` and `b` are true as well.\n",
    " \n",
    "Here are some examples:"
   ]
  },
  {
   "cell_type": "code",
   "execution_count": 45,
   "id": "13203fa1",
   "metadata": {},
   "outputs": [
    {
     "name": "stdout",
     "output_type": "stream",
     "text": [
      "True\n",
      "True\n",
      "True\n",
      "False\n",
      "False\n",
      "False\n"
     ]
    }
   ],
   "source": [
    "print(True or True)\n",
    "print(True and True)\n",
    "print(True or False)\n",
    "print(True and False)\n",
    "print(False or False)\n",
    "print(False and False)"
   ]
  },
  {
   "cell_type": "markdown",
   "id": "82b87b14",
   "metadata": {},
   "source": [
    "### `all()` and `any()`\n",
    "`all()` and `any()` are respectively `and` and `or` applied to a list of more than two logical expressions or boolean variables. `all(bool_list)` returns true only if all of the logical expressions in `bool_list`are true wheras `any(bool_list)` returns true if one or more of the logical expressions are true."
   ]
  },
  {
   "cell_type": "code",
   "execution_count": 46,
   "id": "d8a8e554",
   "metadata": {},
   "outputs": [
    {
     "name": "stdout",
     "output_type": "stream",
     "text": [
      "any([True, True, True]) is True\n",
      "all([True, True, True]) is True\n",
      "any([True, True, False]) is True\n",
      "all([True, True, False]) is False\n",
      "any([False, False, False]) is False\n",
      "all([False, False, False]) is False\n"
     ]
    }
   ],
   "source": [
    "bool_list = [True, True, 3<5]\n",
    "print(f\"any({bool_list}) is\", any(bool_list))\n",
    "print(f\"all({bool_list}) is\", all(bool_list))\n",
    "\n",
    "bool_list = [True, True, 3>5]\n",
    "print(f\"any({bool_list}) is\", any(bool_list))\n",
    "print(f\"all({bool_list}) is\", all(bool_list))\n",
    "\n",
    "bool_list = [False, False, 3>5]\n",
    "print(f\"any({bool_list}) is\", any(bool_list))\n",
    "print(f\"all({bool_list}) is\", all(bool_list))"
   ]
  },
  {
   "cell_type": "markdown",
   "id": "2d72b318",
   "metadata": {},
   "source": [
    "### Order of Operations Revisted\n",
    "Since these logical expressions can be combined with numerical calculations (True = 1 and False = 0), it is important that they also respect some order of operations. Mathematical operations are done first, then logical ones in the following order:\n",
    "1. Parentheses (not techincally an operation)\n",
    "2. Exponentiation\n",
    "3. Multiplication & Division\n",
    "4. Addition & Subtraction\n",
    "5. Comparison Operators\n",
    "6. `not`\n",
    "7. `and`\n",
    "8. `or`\n",
    "\n",
    "Using this information, explain why might the commented line below would produce an error. "
   ]
  },
  {
   "cell_type": "code",
   "execution_count": 47,
   "id": "a9d7e288",
   "metadata": {},
   "outputs": [
    {
     "name": "stdout",
     "output_type": "stream",
     "text": [
      "True\n",
      "64\n",
      "0\n",
      "14\n"
     ]
    }
   ],
   "source": [
    "# Order of Operations Revisted Example\n",
    "print( 4 ** 3 -1  > 0 )\n",
    "print( 4 ** 3 + (-1 > 0) )\n",
    "\n",
    "print(-2 * 6 * (not True))\n",
    "print(10 * (3 < 5) +  5 * (3 > 1) - (2 * 5 > 1))\n",
    "\n",
    "# print(-2 * 6 * not True) # This line will produce an error!"
   ]
  }
 ],
 "metadata": {
  "kernelspec": {
   "display_name": "Python 3 (ipykernel)",
   "language": "python",
   "name": "python3"
  },
  "language_info": {
   "codemirror_mode": {
    "name": "ipython",
    "version": 3
   },
   "file_extension": ".py",
   "mimetype": "text/x-python",
   "name": "python",
   "nbconvert_exporter": "python",
   "pygments_lexer": "ipython3",
   "version": "3.9.15"
  }
 },
 "nbformat": 4,
 "nbformat_minor": 5
}
