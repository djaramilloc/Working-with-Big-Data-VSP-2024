{
 "cells": [
  {
   "cell_type": "markdown",
   "id": "932d094a",
   "metadata": {},
   "source": [
    "# Lecture 5 -- Functions\n",
    "In previous lectures, we learned that functions are objects that take inputs, execute a chunk of code, and sometimes, return an object. In this lecture, students will learn:\n",
    "- the syntax for defining functions\n",
    "- when to use functions\n",
    "- the concept of **scoping**\n"
   ]
  },
  {
   "cell_type": "markdown",
   "id": "ced31353",
   "metadata": {},
   "source": [
    "## Why Functions?\n",
    "Functions are helpful for three main reasons:\n",
    "- Functions can be **reused**.\n",
    "- Functions help keep code **organized**.\n",
    "- Functions can be easily **shared** with others"
   ]
  },
  {
   "cell_type": "markdown",
   "id": "c56e22ca",
   "metadata": {},
   "source": [
    "## How to Define a Function\n",
    "Basic mathematical operations are an easy starting point when it comes coding functions. Below, we define a function that takes a number `x` and returns `2x**2`. This is the mathematical function\n",
    "$$\n",
    "f(x) = 2x^2\n",
    "$$"
   ]
  },
  {
   "cell_type": "code",
   "id": "adda6647",
   "metadata": {},
   "source": [
    "import math\n",
    "def f(x): \n",
    "    xsq = x ** 2\n",
    "    out = 2 * xsq\n",
    "    return out"
   ],
   "outputs": [],
   "execution_count": null
  },
  {
   "cell_type": "markdown",
   "id": "fe61cd2f",
   "metadata": {},
   "source": [
    "A few things to note:\n",
    "- `def` is used to tell Python you want to define a function.\n",
    "- the name of function (in this case `f`) is separated from `def` by a space.\n",
    "- the parentheses contain the input(s) if there are any, in this case `x`.\n",
    "- the `:` indent notation is used here. \n",
    "- `return` indicates what object we want the function to output (in this case `out`)\n",
    "\n",
    "Now we can call the function"
   ]
  },
  {
   "cell_type": "code",
   "id": "076dffe5",
   "metadata": {},
   "source": [
    "print(f(3)) # should return 2(3^2) =18"
   ],
   "outputs": [],
   "execution_count": null
  },
  {
   "cell_type": "markdown",
   "id": "012a08c2",
   "metadata": {},
   "source": [
    "## Scoping of Functions\n",
    "What do you think will happen when the two cells below execute?"
   ]
  },
  {
   "cell_type": "code",
   "id": "843e5e6f",
   "metadata": {
    "scrolled": false
   },
   "source": [
    "x = 4\n",
    "out = 2\n",
    "\n",
    "\n",
    "print(f(3))\n",
    "print(x)\n",
    "print(out)"
   ],
   "outputs": [],
   "execution_count": null
  },
  {
   "cell_type": "markdown",
   "id": "e5fdb9e2",
   "metadata": {},
   "source": [
    "This behavior is a result of the **variable scoping** of Python functions. \n",
    "- When evaluating `f(3)`, we're telling the function to treat `x` as 3, regardless of whether not we have already defined `x` outside of the function.\n",
    "- Similarly, the function is not overwriting our definition of `x` or `out` outside of the function -- they are still four and two respectively.  \n",
    "\n",
    "The below line will error out if uncommented. Can you think of why?"
   ]
  },
  {
   "cell_type": "code",
   "id": "c80d720f",
   "metadata": {},
   "source": [
    "#print(xsq)"
   ],
   "outputs": [],
   "execution_count": null
  },
  {
   "cell_type": "markdown",
   "id": "a2c65e43",
   "metadata": {},
   "source": [
    "Inputs that are mutable objects, however, can be edited by functions. For instance, we can edit lists within a function. This, however, is unrelated to the scope and is more about how variable names behave with mutable vs. immutable objects."
   ]
  },
  {
   "cell_type": "code",
   "id": "4341fe62",
   "metadata": {},
   "source": [
    "def edit_list(list):\n",
    "    list[len(list)-1] = -10\n",
    "    list.append(-4)"
   ],
   "outputs": [],
   "execution_count": null
  },
  {
   "cell_type": "code",
   "id": "a361f6de",
   "metadata": {
    "scrolled": true
   },
   "source": [
    "test_list = [4, 3, 5, 2, 0] # list before\n",
    "edit_list(test_list)\n",
    "print(test_list) # list changed"
   ],
   "outputs": [],
   "execution_count": null
  },
  {
   "cell_type": "markdown",
   "id": "dc7500c6",
   "metadata": {},
   "source": [
    "## Multiple Inputs, Outputs, and Multiple `return` statements\n",
    "Functions can take multiple inputs and return multiple outputs. Consider a quadratic equation of the form\n",
    "$$\n",
    "g(x) = ax^2 +bx + c\n",
    "$$\n",
    "\n",
    "As you probably know, it is of particular interest to know for which values of $x$ that $g(x) = 0$. We call these values the roots of $g(x)$. To find such values of $x$, we use the quadratic formula:\n",
    "$$\n",
    "x = \\frac{-b \\pm \\sqrt{b^2 - 4ac}}{2a}\n",
    "$$\n",
    "If $b^2\\neq 4ac$, then there are two roots. Otherwise, there is one root. \n",
    "\n",
    "Below, we code a function that takes arguments `a`, `b`, and `c` (which represent the coefficients in the quadratic equation) and returns the the roots of $x$. Our code will only return one root if there is only one root of $g(x)$. "
   ]
  },
  {
   "cell_type": "code",
   "id": "e57dd34b",
   "metadata": {},
   "source": [
    "def quad_form(a, b, c):\n",
    "    root_1 = (-b + math.sqrt(b ** 2 - 4 * a * c))/(2 * a)\n",
    "    root_2 = (-b - math.sqrt(b ** 2 - 4 * a * c))/(2 * a)\n",
    "    return root_1, root_2\n",
    "        "
   ],
   "outputs": [],
   "execution_count": null
  },
  {
   "cell_type": "markdown",
   "id": "ad94fdad",
   "metadata": {},
   "source": [
    "To test our code, let's think of two quadratic formulas:\n",
    "$$\n",
    "g_1(x) = x^2- 4x + 4 = (x-2)^2 \\\\\n",
    "g_2(x) = 2x^2 + 2x - 24 = (2x-6)(x+4)\n",
    "$$\n",
    "In this case, $g_1(x)$ has a single root of 2 and $g_2(x)$ has two roots (3 and -4). Using this, we can check to see if `quad_form` is correctly defined."
   ]
  },
  {
   "cell_type": "code",
   "id": "aae37ade",
   "metadata": {},
   "source": [
    "print(quad_form(1, -4, 4))\n",
    "print(quad_form(2, 2, -24))\n",
    "print(type(quad_form(2, 2, -24)))"
   ],
   "outputs": [],
   "execution_count": null
  },
  {
   "cell_type": "markdown",
   "id": "3a8c0a22",
   "metadata": {},
   "source": [
    "Looks like the function is working! A few things to notice:\n",
    "- Input arguments are positional by default. The order of my arguments in `quad_form()` is `a`,`b`, then `c`. When calling the function above, it is taking `a=1`, `b=-4`, and `c=4`. \n",
    "- When we create multiple outputs by separting them with a comma, the output looks like a tuple and indeed we check that it is one. \n",
    "\n",
    "We can actually break up the tuple when assigning variable names to the output."
   ]
  },
  {
   "cell_type": "code",
   "id": "181b05ab",
   "metadata": {},
   "source": [
    "root_1, root_2 = quad_form(2, 2, -24)\n",
    "print(root_1)\n",
    "print(root_2)"
   ],
   "outputs": [],
   "execution_count": null
  },
  {
   "cell_type": "markdown",
   "id": "9b62db83",
   "metadata": {},
   "source": [
    "## Default Arguments\n",
    "Sometimes, we may want to save the users of our functions from having to write too many arguments, especially when a given variable will generally take the same argument. \n",
    "\n",
    "As an example, consider a simple function that greets a user using their name, a greeting, and the number of unread messages they have. If most users are English speakers and have no unread messages, it may make sense to have \"Hello\" be the default greeting and 0 be the default number of unread messages. "
   ]
  },
  {
   "cell_type": "code",
   "id": "456ffc3d",
   "metadata": {},
   "source": [
    "def greet_user(user_name, greeting = \"Hello\", num_unread = 0):\n",
    "    print(greeting, user_name +\"!\")\n",
    "    print(num_unread)"
   ],
   "outputs": [],
   "execution_count": null
  },
  {
   "cell_type": "code",
   "id": "700a5165",
   "metadata": {},
   "source": [
    "greet_user(\"Josh\") # Greeting an English user requires only one argument, saving on typing and readability\n",
    "greet_user(\"Jean-Luc\", \"Bonjour\") # French users can still get a custom greeting!\n",
    "greet_user(\"Henry\", \"Hello\", 3) # If we're using only positional arguments, we must specify greeting if we want to specify num_unread."
   ],
   "outputs": [],
   "execution_count": null
  },
  {
   "cell_type": "markdown",
   "id": "2d686f29",
   "metadata": {},
   "source": [
    "In the second example, we specified a second argument \"Bonjour\" which overwrote the default value of \"Hello.\" In the second example, the user has 3 unread messages, but their language is English. Nevertheless, we have to specify `greeting` if we only use positional arguments.\n",
    "\n",
    "\n",
    "## Default Arguments Come Last\n",
    "Since arguments are positional, default arguments must come last. Otherwise, ambiguity ensues. For example, if we have the following function \n",
    "```\n",
    "def f(a = 1, b, c = 3):\n",
    "    print(a,b,c)\n",
    "```\n",
    "what does `f(6,2)` mean? Is it\n",
    "- `a=6`, `b=2`, and `c =3` or\n",
    "- `a=1`,`b=6` and `c =2`? "
   ]
  },
  {
   "cell_type": "code",
   "id": "084fe539",
   "metadata": {
    "scrolled": true
   },
   "source": [
    "#def greet_user(greeting = \"Hello\", user_name):\n",
    "#    print(greeting, user_name +\"!\")"
   ],
   "outputs": [],
   "execution_count": null
  },
  {
   "cell_type": "markdown",
   "id": "84c75734",
   "metadata": {},
   "source": [
    "## Keyword Arguments\n",
    "If we know the variable names of a function, we can use them and no longer worry about some of their positions. Now, when using our `greet_user` function to greet an english-speaking user with unread messages, we can specify `num_unread` without specifying `greeting`."
   ]
  },
  {
   "cell_type": "code",
   "id": "54c3c247",
   "metadata": {
    "scrolled": true
   },
   "source": [
    "greet_user(\"Henry\", num_unread = 3)\n",
    "greet_user(user_name = \"Henry\", num_unread = 3) # this works with variable with no default values too\n",
    "greet_user(\"Claire\", \"Bonjour\", num_unread = 3)"
   ],
   "outputs": [],
   "execution_count": null
  },
  {
   "cell_type": "markdown",
   "id": "affdcaa1",
   "metadata": {},
   "source": [
    "## Keyword Arguments Come Last\n",
    "As we displayed above, we can use both positional and keyword arguments within a function call. Positional arguments must come first and cannot follow keyword arguments. Once a keyword is used, all subsequent arguments in the function call must also be keywords. "
   ]
  },
  {
   "cell_type": "code",
   "id": "06cec8fe",
   "metadata": {},
   "source": [
    "# This will error out\n",
    "# greet_user(user_name = \"Henry\", \"Jean-Luc\", 3) "
   ],
   "outputs": [],
   "execution_count": null
  },
  {
   "cell_type": "markdown",
   "id": "5d92f8a7",
   "metadata": {},
   "source": [
    "## Function Descriptions\n",
    "Descriptions of what a given function does or even how to use it can be included with the function. This is called a **docstring**. To view the docstring, simply type the name of a function followed by a question mark."
   ]
  },
  {
   "cell_type": "code",
   "id": "66139b01",
   "metadata": {},
   "source": [
    "# print?"
   ],
   "outputs": [],
   "execution_count": null
  },
  {
   "cell_type": "markdown",
   "id": "fa9d294a",
   "metadata": {},
   "source": [
    "### Custom Function Descriptions\n",
    "We can easily add such descriptions to our custom built functions. While this is generally not worth doing for self-explanatory functions that only you are using, it is useful to know if you end up contributing to developing packages. To do this, we simply add the docstring under our function like so:"
   ]
  },
  {
   "cell_type": "code",
   "id": "6f50ea30",
   "metadata": {},
   "source": [
    "def quad_form(a, b, c):\n",
    "    # These 3 quote symbols denote the docstring\n",
    "    \"\"\" \n",
    "    Computes roots of quadratic equation f(x) = ax^2 + bx + c using the quadratic formula.\n",
    "    \n",
    "    \"\"\"\n",
    "    root_1 = (-b + math.sqrt(b ** 2 - 4 * a * c))/(s * a)\n",
    "    root_2 = (-b - math.sqrt(b ** 2 - 4 * a * c))/(s * a)\n",
    "    return root_1, root_2\n",
    "        \n",
    "        \n",
    "    \n",
    "    return out"
   ],
   "outputs": [],
   "execution_count": null
  },
  {
   "cell_type": "code",
   "id": "c60490d4",
   "metadata": {},
   "source": [
    "quad_form?"
   ],
   "outputs": [],
   "execution_count": null
  },
  {
   "cell_type": "markdown",
   "id": "7ef33d89",
   "metadata": {},
   "source": [
    "## Lambda Functions\n",
    "Occasionally, we want to define a relatively simple function without having to necesarrily write out all of the standard syntax for functions. Additionally, we may not always want to have that function stored in memory or associated with an identifier. This is frequently referred to as anonymous function.  \n",
    "\n",
    "Fortunately, Python has **lambda functions**. These are great when you want to define a simple function with light syntax or you want a simple anonyomous function to use as an argument in another function."
   ]
  },
  {
   "cell_type": "code",
   "id": "2274b513",
   "metadata": {},
   "source": [
    "addtogether = lambda x, y: x + y # This adds two variables together\n",
    "print(addtogether(3, 5))\n",
    "\n",
    "apply_function = lambda f, x, y: f(x,y) # this applies a function to two variables and returns the output\n",
    "\n",
    "print(apply_function(addtogether, 3, 5))\n",
    "print(apply_function(lambda x, y: x * y, 3, 5)) # here the function is only used as an argument so it never needs to be defined\n"
   ],
   "outputs": [],
   "execution_count": null
  }
 ],
 "metadata": {
  "kernelspec": {
   "display_name": "Python 3 (ipykernel)",
   "language": "python",
   "name": "python3"
  },
  "language_info": {
   "codemirror_mode": {
    "name": "ipython",
    "version": 3
   },
   "file_extension": ".py",
   "mimetype": "text/x-python",
   "name": "python",
   "nbconvert_exporter": "python",
   "pygments_lexer": "ipython3",
   "version": "3.9.15"
  }
 },
 "nbformat": 4,
 "nbformat_minor": 5
}
