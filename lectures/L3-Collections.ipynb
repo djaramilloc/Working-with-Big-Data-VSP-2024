{
 "cells": [
  {
   "cell_type": "markdown",
   "id": "56f1fe43",
   "metadata": {},
   "source": [
    "# Lecture 3 -- Collections\n",
    "This lecture discusses a subset of data structures known as collections. Collections are also called containers -- that is data types that contain multiple elements in a single object. In this lecture, students will learn about and use four main types of collections: \n",
    "- lists\n",
    "- ranges \n",
    "- tuples\n",
    "- dictionaries \n",
    "\n",
    "They will learn about their differences, their use cases, and various ways each collection can be manipulated, with a particular focus on lists. \n",
    "\n",
    "The structure of this lecture closely follows the QuantEcon lectures on [Python Fundamentals](https://datascience.quantecon.org/python_fundamentals/index.html) sans the economics content. "
   ]
  },
  {
   "cell_type": "markdown",
   "id": "9061a1b7",
   "metadata": {},
   "source": [
    "## Lists\n",
    "Lists are the most common type of collection in Python. Lists are **ordered** which means there is a first element and a last element. You can define a list using `[]`. In the cell below, we define a list of groceries and assign it the name `grocery_list`. "
   ]
  },
  {
   "cell_type": "code",
   "id": "ff0bb6ff",
   "metadata": {
    "scrolled": true
   },
   "source": [
    "grocery_list = [\"bread\", \"milk\", \"cheese\", \"apples\"]\n",
    "print(grocery_list)\n",
    "print(type(grocery_list)) # Note the type is the `list`"
   ],
   "outputs": [],
   "execution_count": null
  },
  {
   "cell_type": "markdown",
   "id": "cd96722f",
   "metadata": {},
   "source": [
    "Lists can also contain any combination of types and even functions!"
   ]
  },
  {
   "cell_type": "code",
   "id": "d9b3c426",
   "metadata": {
    "scrolled": true
   },
   "source": [
    "list_of_many_types = [1, 1.5, \"orange\", print, [1,2,3]]\n",
    "print(list_of_many_types)"
   ],
   "outputs": [],
   "execution_count": null
  },
  {
   "cell_type": "markdown",
   "id": "a529268f",
   "metadata": {},
   "source": [
    "## Properties of Lists\n",
    "Since lists are so commonly used, there are many basic properties of lists that are worth knowing well, especially when compared to the other collection types. \n",
    "### Accessing Elements of a List\n",
    "After being defined, you will want to access individual elements of a list. This can be done using bracket indexing notation. For instance, we can print the first item on `grocery_list`:"
   ]
  },
  {
   "cell_type": "code",
   "id": "6547365b",
   "metadata": {},
   "source": [
    "print(grocery_list[0])\n",
    "print(grocery_list[-4])"
   ],
   "outputs": [],
   "execution_count": null
  },
  {
   "cell_type": "markdown",
   "id": "82d5ae5d",
   "metadata": {},
   "source": [
    "### 0-based indexing\n",
    "Many coding languages, including Python, use 0-based indexing. This means to access the first element of `grocery_list`, we used the 0 index. Using this convention,  the second element is accessed using index 1, the third by index 2, etc. \n",
    "\n",
    "### Negative Indexing\n",
    "While it is rarely useful to index using negative numbers, we can do so. An index of $-1$ refers to the last element of the list, $-2$ refers to the second to last, etc.\n",
    "\n",
    "### Out of Bounds Indices\n",
    "If a list has $n$ elements, then the only valid indices are:\n",
    "$$\n",
    "-n, -(n-1),..., 0, ..., n-1\n",
    "$$\n",
    "If your indices are not one of these you will receive an \"index out of range\" error. See below.\n",
    "\n",
    "### Type of Indices\n",
    "Indices must be have an integer type! See below."
   ]
  },
  {
   "cell_type": "code",
   "id": "748e374e",
   "metadata": {
    "scrolled": true
   },
   "source": [
    "# Uncomment these lines, run the code, and observe the errors\n",
    "# grocery_list[5]\n",
    "# grocery_list[3.0]"
   ],
   "outputs": [],
   "execution_count": null
  },
  {
   "cell_type": "markdown",
   "id": "8df0fa64",
   "metadata": {},
   "source": [
    "### Multiple Indexing\n",
    "We can access multiple elements of a list at once by using **slices**. Slices, like our single index examples, can be found within brackets and take the form `start_index:stop_index+1`."
   ]
  },
  {
   "cell_type": "code",
   "id": "d7bba30f",
   "metadata": {},
   "source": [
    "dairy_list = grocery_list[1:3]\n",
    "print(grocery_list)\n",
    "print(dairy_list)"
   ],
   "outputs": [],
   "execution_count": null
  },
  {
   "cell_type": "markdown",
   "id": "062a60e4",
   "metadata": {},
   "source": [
    "It is unintuitive that this would not also return the 4th element (indexed by 3), but that this convention is useful because of 0 based indexing. Since the last element of a list is indexed by its length minus 1, the list length can be used as  the end point of the slice when we want to include the last element of the list."
   ]
  },
  {
   "cell_type": "code",
   "id": "b4539964",
   "metadata": {},
   "source": [
    "list_length = len(grocery_list)\n",
    "print(list_length)\n",
    "print(grocery_list[2:list_length])"
   ],
   "outputs": [],
   "execution_count": null
  },
  {
   "cell_type": "markdown",
   "id": "56af7054",
   "metadata": {},
   "source": [
    "### Changing the Value of an Element\n",
    "You can use this indexing to change individual elements of a list. When you can change elements of a data structure, it is called **mutable**. Below, we change the third item of `grocery_list` (\"cheese\") to \"cheddar cheese\""
   ]
  },
  {
   "cell_type": "code",
   "id": "6c1659f2",
   "metadata": {},
   "source": [
    "grocery_list[2] = \"cheddar cheese\"\n",
    "print(grocery_list)"
   ],
   "outputs": [],
   "execution_count": null
  },
  {
   "cell_type": "markdown",
   "id": "71e1f3c9",
   "metadata": {},
   "source": [
    "### Length\n",
    "\n",
    "As we discussed in Lecture 2, lists have a length  that is defined by the number of elements in the list. This can be obtained by using `len()`: "
   ]
  },
  {
   "cell_type": "code",
   "id": "97b29997",
   "metadata": {
    "scrolled": false
   },
   "source": [
    "print(len(grocery_list))\n",
    "print(len(list_of_many_types))"
   ],
   "outputs": [],
   "execution_count": null
  },
  {
   "cell_type": "markdown",
   "id": "00f02b6c",
   "metadata": {},
   "source": [
    "### Element Membership\n",
    "We can check if a given object is an element in a given list using the `in` keyword. If the expression returns true, the element is in the list. Otherwise, it is not. "
   ]
  },
  {
   "metadata": {},
   "cell_type": "code",
   "source": [
    "print(\"bread\" in grocery_list)  # \"bread\" is in grocery_list\n",
    "print(\"squash\" in grocery_list) # \"squash\" is not "
   ],
   "id": "b8b8b1dd6b43a996",
   "outputs": [],
   "execution_count": null
  },
  {
   "metadata": {},
   "cell_type": "markdown",
   "source": "Note that the third element of `list_of_many_types` is a function `print()`. We can call it directly using the following:",
   "id": "b3f8142edd1b220a"
  },
  {
   "metadata": {},
   "cell_type": "code",
   "source": "list_of_many_types[3] == print",
   "id": "f4925c9e8033cc8d",
   "outputs": [],
   "execution_count": null
  },
  {
   "cell_type": "code",
   "id": "00983fa0",
   "metadata": {},
   "source": "list_of_many_types[3]((print in list_of_many_types)) # This is the same as print(print in list_of_many_types)",
   "outputs": [],
   "execution_count": null
  },
  {
   "cell_type": "markdown",
   "id": "7c1b8bb0",
   "metadata": {},
   "source": [
    "**Quick Discussion**: What's happening on the first line in the cell above?"
   ]
  },
  {
   "cell_type": "markdown",
   "id": "694a6cc6",
   "metadata": {},
   "source": [
    "### Appending, Inserting, & Extending\n",
    "`.append()` is among the most useful methods for lists and we have already seen it in Lecture 2. This method allows us to add a new element to an already existing list without using an `=` sign.\n",
    "\n",
    "`.insert()` is similar to append but it allows you to choose where in the list the element will be placed.\n",
    "\n",
    "`.extend()` is also similar to `.append`, but it adds a list of many new elements onto an already existing list."
   ]
  },
  {
   "cell_type": "code",
   "id": "024e9d25",
   "metadata": {},
   "source": [
    "# Appending\n",
    "grocery_list.append(\"squash\") \n",
    "list_of_many_types.append(True)\n",
    "\n",
    "print(grocery_list)\n",
    "print(list_of_many_types)"
   ],
   "outputs": [],
   "execution_count": null
  },
  {
   "metadata": {},
   "cell_type": "code",
   "source": [
    "# Inserting\n",
    "grocery_list.insert(2, \"garlic\")\n",
    "list_of_many_types.insert(2, len)\n",
    "\n",
    "print(grocery_list)\n",
    "print(list_of_many_types)"
   ],
   "id": "e592d6adf40094e6",
   "outputs": [],
   "execution_count": null
  },
  {
   "metadata": {},
   "cell_type": "code",
   "source": [
    "# Extending\n",
    "grocery_list.extend([\"noodles\", \"turkey\"]) # both \"noodles\" and \"turkey\" are added to grocery_list\n",
    "list_of_many_types.extend([8/5, str])\n",
    "\n",
    "print(grocery_list)\n",
    "print(list_of_many_types)"
   ],
   "id": "62312a60ba06fffe",
   "outputs": [],
   "execution_count": null
  },
  {
   "cell_type": "markdown",
   "id": "abf73e83",
   "metadata": {},
   "source": [
    "### Sorting\n",
    "`.sort()` allows use to sort both numerical and string lists in the expected way."
   ]
  },
  {
   "cell_type": "code",
   "id": "070491f6",
   "metadata": {},
   "source": [
    "grocery_list.sort()\n",
    "print(grocery_list)\n",
    "\n"
   ],
   "outputs": [],
   "execution_count": null
  },
  {
   "metadata": {},
   "cell_type": "code",
   "source": [
    "num_list = [4, 2, 3, 1, 6, 5]\n",
    "num_list.sort(reverse = True)\n",
    "\n",
    "print(num_list)"
   ],
   "id": "e5e1c52c650baeda",
   "outputs": [],
   "execution_count": null
  },
  {
   "cell_type": "markdown",
   "id": "7a83d2cc",
   "metadata": {},
   "source": [
    "Sorting arrays with many types will generally not work though! Why not? Uncomment the code below, run the cell, and look at the resulting error"
   ]
  },
  {
   "cell_type": "code",
   "id": "209a2a68",
   "metadata": {
    "scrolled": false
   },
   "source": [
    "# list_of_many_types.sort()"
   ],
   "outputs": [],
   "execution_count": null
  },
  {
   "cell_type": "markdown",
   "id": "95201556",
   "metadata": {},
   "source": [
    "If you want to see the rest of the methods for lists, you can generate one and use tab completion to see the options. "
   ]
  },
  {
   "cell_type": "markdown",
   "id": "e290ad50",
   "metadata": {},
   "source": [
    "## Ranges\n",
    "Ranges are a series of evenly spaced numbers, but they are distinct from lists in that these numbers are not stored into the memory of your computer. Instead, these numbers are generated as you iterate through the range or access an index for that range. "
   ]
  },
  {
   "cell_type": "code",
   "id": "759da009",
   "metadata": {},
   "source": [
    "n = 5\n",
    "r1 = range(n) # range of numbers from 0 to n\n",
    "r2 = range(2, n) # range of numbers from 2 to n\n",
    "r3 = range(-5, n, 2) # range of numbers from -5 to n in increments of 2\n",
    "print(r1)\n",
    "print(r2)\n",
    "print(r3)\n",
    "print(r1[2]) # prints third element of r1\n",
    "print(r2[2]) # prints third element of r2\n",
    "print(r3[2]) # prints third element of r3\n",
    "\n",
    "print(list(r1)) # convert range r1 to list and print"
   ],
   "outputs": [],
   "execution_count": null
  },
  {
   "cell_type": "markdown",
   "id": "4774edf1",
   "metadata": {},
   "source": "In the last line, we convert a range into a list. Viewing the elements of a range as a list makes it clear that the range excludes the last number (in this case, n=5)."
  },
  {
   "cell_type": "markdown",
   "id": "d10960d3",
   "metadata": {},
   "source": [
    "## Tuples\n",
    "Tuples are basically **immutable** lists. That means once the tuple has been defined, elements cannot be changed, reordered, removed, or added. Tuples are defined with parentheses `()` instead of brackets. \n",
    "\n",
    "In most use cases, lists are a better choice, but tuples can be useful if you want to ensure the data does not change. Ultimately, it is easy to convert from one to the other as needed with `list()` and `tuple()`."
   ]
  },
  {
   "cell_type": "code",
   "id": "edb2179c",
   "metadata": {
    "scrolled": true
   },
   "source": [
    "simple_grocery_tuple = (\"bread\", \"milk\", \"eggs\") # manually define tuple\n",
    "print(simple_grocery_tuple[1:3]) # access elements just like arrays\n",
    "grocery_tuple  = tuple(grocery_list) # convert grocery_list into a tuple\n",
    "print(grocery_tuple)\n",
    "print(list(grocery_tuple)) # convert the tuple back into a list again"
   ],
   "outputs": [],
   "execution_count": null
  },
  {
   "cell_type": "markdown",
   "id": "64eb6c71",
   "metadata": {},
   "source": [
    "## Dictionaries\n",
    "Dictionaries are mutable associative collections. Each item or value in the collection is associated with a **key** instead of an integer index. Dictionaries are intialized using curly braces `{}` or by providing a list of keys and a list of values wrapped in the `zip()` function. We will learn more about zip when we cover control flow. "
   ]
  },
  {
   "cell_type": "code",
   "id": "ef7edf06",
   "metadata": {
    "scrolled": true
   },
   "source": [
    "# Manually create a dictionary  where the keys are the good \n",
    "# and the values are the price of that good.\n",
    "simple_price_dictionary = {\n",
    "    \"bread\": 3.50,\n",
    "    \"milk\": 5.25,\n",
    "    \"eggs\": 6.00\n",
    "} \n",
    "\n",
    "# create long price_list\n",
    "price_list = [2.00, 3.50, 4.99, .88, 4.85,  2.50, 1.88, 13]\n",
    "# use two lists and zip() to construct a dictionary\n",
    "full_price_dict = dict(zip(grocery_tuple, price_list)) \n",
    "\n",
    "\n",
    "# add new grocery-price pair\n",
    "full_price_dict[\"soy sauce\"] = 2.75\n",
    "\n",
    "# update the price of bread -- this is similar to how we do this for arrays but we use a key instead of an integer index\n",
    "full_price_dict[\"bread\"] = 3.75\n",
    "print(full_price_dict)"
   ],
   "outputs": [],
   "execution_count": null
  },
  {
   "cell_type": "markdown",
   "id": "b8cf1b07",
   "metadata": {},
   "source": [
    "The `.keys()` method allows us to get a list of all keys in our dictionary."
   ]
  },
  {
   "cell_type": "code",
   "id": "8239eba5",
   "metadata": {},
   "source": [
    "print(full_price_dict.keys())"
   ],
   "outputs": [],
   "execution_count": null
  },
  {
   "cell_type": "markdown",
   "id": "b02f93f8",
   "metadata": {},
   "source": [
    "## Sets\n",
    "Sets mimic \"mathematical sets\" and as a result are unordered collections of unique elements. We can define a set using `{}`"
   ]
  },
  {
   "metadata": {},
   "cell_type": "code",
   "source": "seta = {'a', 'b', 'c'}",
   "id": "2268309bba2ada99",
   "outputs": [],
   "execution_count": null
  },
  {
   "metadata": {},
   "cell_type": "code",
   "source": [
    "# They cannot contain duplicate values\n",
    "print({'a', 'a', 'b', 'c'})"
   ],
   "id": "dd0bfaf556c538d1",
   "outputs": [],
   "execution_count": null
  },
  {
   "metadata": {},
   "cell_type": "code",
   "source": [
    "# Since they are unordered, you can not index them\n",
    "seta[0]"
   ],
   "id": "cde5904b49274030",
   "outputs": [],
   "execution_count": null
  },
  {
   "metadata": {},
   "cell_type": "markdown",
   "source": "You can use common set operations: i.e. union, intersection, difference",
   "id": "8bdcc3eac14c92cc"
  },
  {
   "metadata": {},
   "cell_type": "code",
   "source": [
    "A = {'a', 'b', 'c'}\n",
    "B = {'c', 'd', 'e'}\n",
    "\n",
    "# Union\n",
    "print(f\"The union of A and B = {A.union(B)}\")\n"
   ],
   "id": "50ceadf8a6baf587",
   "outputs": [],
   "execution_count": null
  },
  {
   "metadata": {},
   "cell_type": "code",
   "source": [
    "# Intersection\n",
    "print(f\"The intersection of A and B = {A.intersection(B)}\")"
   ],
   "id": "eac2223ac687f06c",
   "outputs": [],
   "execution_count": null
  },
  {
   "metadata": {},
   "cell_type": "code",
   "source": [
    "# Difference between sets\n",
    "print(f\"The difference of A and B = {A.difference(B)}\")"
   ],
   "id": "dcb43c40f58d5b99",
   "outputs": [],
   "execution_count": null
  },
  {
   "cell_type": "markdown",
   "id": "e1550885",
   "metadata": {},
   "source": [
    "### A Quick Note on Mutability\n",
    "We saw that lists and dictionaries are mutable and that tuples are not. It may not be intuitive, but all of the single-item data types we have been working with are also **immutable**. \n",
    "\n",
    "Mutability is useful because we can change some elements of a list (or more complicated data structure) without redefining the entire structure everytime. Single-item data types do not have elements to change.\n",
    "\n",
    "Recall the following code from Lecture 2"
   ]
  },
  {
   "cell_type": "code",
   "id": "22b96114",
   "metadata": {},
   "source": [
    "x = 10\n",
    "y = x\n",
    "x = 5\n",
    "print(y) "
   ],
   "outputs": [],
   "execution_count": null
  },
  {
   "cell_type": "markdown",
   "id": "e6dfa812",
   "metadata": {},
   "source": [
    "Now, we will do the same thing twice with a mutable type."
   ]
  },
  {
   "cell_type": "code",
   "id": "87855ecd",
   "metadata": {},
   "source": [
    "x = [10]\n",
    "y = x\n",
    "x = [8]\n",
    "print(y) "
   ],
   "outputs": [],
   "execution_count": null
  },
  {
   "cell_type": "markdown",
   "id": "e77b3687",
   "metadata": {},
   "source": [
    "This is the same behavior for the same reason. `x` was assigned to the value `[10]` in memory. By assigning `y` to `x`, we just assigned it to the same value `x` is assigned to, `[10]`. Reassigning `x` just creates a new object in memory which `x` is then assigned to. `y` remains unchanged.\n",
    "\n",
    "If instead, we change the value of 10 using the following bracket notation, we get a different behavior:"
   ]
  },
  {
   "cell_type": "code",
   "id": "8459b7d4",
   "metadata": {
    "scrolled": true
   },
   "source": [
    "x = [10]\n",
    "y = x\n",
    "x[0] = 8\n",
    "print(y) "
   ],
   "outputs": [],
   "execution_count": null
  },
  {
   "cell_type": "markdown",
   "id": "6a68073e",
   "metadata": {},
   "source": [
    "Now `y` changes! This is because `x[0] = 8` changes the first element of the list `x` points to from 10 to 8. It does **not** reassign `x`! Since `x` and `y` are pointing to the same object and we edited the object `x` was pointing to, `print(y)` now displays the new object, `[8]`."
   ]
  },
  {
   "cell_type": "code",
   "id": "c59e7d0f",
   "metadata": {},
   "source": [],
   "outputs": [],
   "execution_count": null
  }
 ],
 "metadata": {
  "kernelspec": {
   "display_name": "Python 3 (ipykernel)",
   "language": "python",
   "name": "python3"
  },
  "language_info": {
   "codemirror_mode": {
    "name": "ipython",
    "version": 3
   },
   "file_extension": ".py",
   "mimetype": "text/x-python",
   "name": "python",
   "nbconvert_exporter": "python",
   "pygments_lexer": "ipython3",
   "version": "3.9.15"
  }
 },
 "nbformat": 4,
 "nbformat_minor": 5
}
