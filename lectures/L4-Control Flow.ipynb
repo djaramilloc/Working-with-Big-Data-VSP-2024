{
 "cells": [
  {
   "cell_type": "markdown",
   "id": "1896b9d3",
   "metadata": {},
   "source": [
    "# Lecture 4 -- Control Flow\n",
    "Simply put, **control flow** refers to the order in which expressions are executed. Control flow statements help us manage which sections of code are run and how many times. In this lecture, students will learn key control flow concepts and the relevant syntax related to:\n",
    "- `if/else` statements\n",
    "- `for` loops\n",
    "- `while` loops\n",
    "- `zip()` and `enumerate()` collections\n",
    "- List comprehensions\n",
    "- `break` and `continue`\n",
    "\n",
    "The structure of this lecture closely follows the QuantEcon lectures on [Python Fundamentals](https://datascience.quantecon.org/python_fundamentals/index.html) sans the economics content."
   ]
  },
  {
   "cell_type": "markdown",
   "id": "e81e3e96",
   "metadata": {},
   "source": [
    "## Conditional Statements\n",
    "Frequently, we only want a certain chunk of code to run when some condition is met -- this could be because we only need to perform a certian computation when that condition is met or because the computation does not make sense unless that condition is met. To do this, we use the `if/else` syntax. Below we illustrate this syntax with a simple example that tells us whether a number, saved to variable `num`,  is divisible by 4. "
   ]
  },
  {
   "cell_type": "code",
   "id": "52d04d78",
   "metadata": {},
   "source": [
    "num = 9 # try changing this number and see what happens\n",
    "if (round(num/4) == num/4):\n",
    "    print(f\"{num} is divisible by 4\")\n",
    "else:\n",
    "    print(f\"{num} is not divisible by 4\")\n",
    "print(\"Task complete.\")"
   ],
   "outputs": [],
   "execution_count": null
  },
  {
   "cell_type": "markdown",
   "id": "c17b9745",
   "metadata": {},
   "source": [
    "### Discussion of Syntax\n",
    "`if` is always followed by a logical expression that returns a boolean variable. \n",
    "- In this example, the logical condition is `(round(num/4) == num/4)`.\n",
    "\n",
    "The `if` and `else` lines end with a colon to signify that there is a chunk of code below each that should execute if their respective conditions are met. That chunk of code needs to be indented.\n",
    "- In this example, if `num` is divisible by 4, the first print statement is executed. Otherwise the second print statement is executed.\n",
    "\n",
    "Indentation let's Python know which chunk of code belongs to the if statement.\n",
    "- The third print statement executes no matter what because it is not indented. What would happen if we indented it? \n",
    "\n",
    "**Quick Question:** What will be the printed if we run the cell below?"
   ]
  },
  {
   "cell_type": "code",
   "id": "6abc9a73",
   "metadata": {},
   "source": [
    "#if True:\n",
    "#    print(\"will this print?\")\n",
    "#else:\n",
    "#    print(\"or will this?\")"
   ],
   "outputs": [],
   "execution_count": null
  },
  {
   "cell_type": "markdown",
   "id": "a4bb6136",
   "metadata": {},
   "source": [
    "### `elif` clauses\n",
    "Sometimes, we might want to check multiple conditions. To do this, we can use `elif` which is short for \"else if.\" Like `if`, `elif` is followed by a logical expression that is either `True` or `False`. As an example, we may be given data on students' numerical grades and we may want to convert that into a letter grade using the following conversion table:\n",
    "- A if score >= 85\n",
    "- B if 75 <= score < 85\n",
    "- C if 65 <= score < 75\n",
    "- D if score < 65"
   ]
  },
  {
   "cell_type": "code",
   "id": "42aa3985",
   "metadata": {},
   "source": [
    "numerical_grade = 64\n",
    "\n",
    "if numerical_grade >= 85:\n",
    "    letter_grade = \"A\"\n",
    "elif numerical_grade >= 75:\n",
    "    letter_grade = \"B\"\n",
    "elif numerical_grade >= 65:\n",
    "    letter_grade = \"C\"\n",
    "else:\n",
    "    letter_grade = \"D\"\n",
    "    \n",
    "print(f\"A numerical score of {numerical_grade} gets a letter grade of {letter_grade}\")   "
   ],
   "outputs": [],
   "execution_count": null
  },
  {
   "cell_type": "markdown",
   "id": "71892d0d",
   "metadata": {},
   "source": [
    "Notice how we did not need to specify what the upper limit of each letter grade is. Why not? Think about what `elif`'s name implies and the order of the statements!\n"
   ]
  },
  {
   "cell_type": "markdown",
   "id": "f457df82",
   "metadata": {},
   "source": [
    "## Iteration & Loops\n",
    "When coding, we frequently want to repeat the same operation many times on different objects or elements in a collection. Here are some real world examples: \n",
    "- A company may want to send all of its clients an email while customizing the email to certain characteristics of that client (for instance, their name, what products they use, etc.) \n",
    "- A climatologist wants to load 40 years worth of climate data located in 480 month-level files in a directory (folder) on her computer into Python.\n",
    "- A Reddit Bot needs to look through all reddit posts in a given subreddit and reply as needed multiple times a day. \n",
    "\n",
    "All of these examples reflect the concept of **iteration**.\n",
    "- The company must iterate through all customers and send an email at each iteration \n",
    "- The researcher iterates through the files in a folder loading one of them into her computer's memory at each iteration.\n",
    "- The Reddit Bot needs to iterate through all new posts in a subreddit, read their content, and reply to the relevant ones. \n",
    "\n",
    "This concept is best illustrated through a somewhat contrived example. Imagine we have a list of cities and the countries they are in and we want to print the string `f\"{city} is in {country}.\"` for each city-country pair. We could simply write the code out for each city-country pair."
   ]
  },
  {
   "cell_type": "code",
   "id": "55db40c4",
   "metadata": {},
   "source": [
    "cities = [\"Vancouver\", \"São Paulo\", \"Tokyo\", \"New Delhi\", \"Helsinki\"]\n",
    "countries = [\"Canada\", \"Brazil\", \"Japan\", \"India\", \"Finland\"]\n",
    "print(f\"{cities[0]} is in {countries[0]}.\")\n",
    "print(f\"{cities[1]} is in {countries[1]}.\")\n",
    "print(f\"{cities[2]} is in {countries[2]}.\")\n",
    "print(f\"{cities[3]} is in {countries[3]}.\")\n",
    "print(f\"{cities[4]} is in {countries[4]}.\")"
   ],
   "outputs": [],
   "execution_count": null
  },
  {
   "cell_type": "markdown",
   "id": "32ef186a",
   "metadata": {},
   "source": [
    "This wasn't that bad to write out as a lot of it could be copy and pasted, but now imagine you have to do it for every country or worse, every city in the world! In big data situations, this type of solution is essentially infeasible.\n",
    "\n",
    "## For Loops\n",
    "Luckily, most programming languages have something called a **loop**.\n",
    "\n",
    "A loop is a chunk of code that repeats itself (or is iterated) until some stopping condition is met. We will start by learning `for` loops. \n",
    "\n",
    "A `for` loop allows us to iterate over an iterable. \n",
    "\n",
    "Iterable is used to describe to any object that is capable of producing one item at a time. Luckily, all of the collections in Python are iterables! The stopping condition of a `for` loop is simply that the last item of the iterable has been \"seen\" or iterated through.\n",
    "\n",
    "Let's see if we can use loops to shorten the code we wrote above while maintaining its functionality."
   ]
  },
  {
   "cell_type": "code",
   "id": "2acc8a6f",
   "metadata": {
    "scrolled": false
   },
   "source": [
    "city_range = range(len(cities))\n",
    "for i in city_range:\n",
    "    # print(i)\n",
    "    print(f\"{cities[i]} is in {countries[i]}.\")"
   ],
   "outputs": [],
   "execution_count": null
  },
  {
   "cell_type": "markdown",
   "id": "197be3d8",
   "metadata": {},
   "source": [
    "### Discussion of Syntax\n",
    "The variable name following the `for` (in this case, `i`) can be used within the loop to reference the current item. \n",
    "- In the case, `i` starts as 0, then the print statement executes. Since there are more elements in `city_range` the loop continues and `i` takes on the next value in `city_range` which is 1. This repeats until the last item in the iterable has been reached (`i` would be 4) and the loop ends. \n",
    "- Even though `i` can only be reference **within the loop**, it is generally wise to not use a variable name that already exists for this purpose.\n",
    "\n",
    "The variable name following the `in` should be an iterable. That iterable then must be followed by a colon.\n",
    "- In this case, our iterable is a range that we use as indices for our lists.\n",
    "\n",
    "Finally, the chunk of code we want to repeat for each iteration is indented. \n",
    "\n",
    "- Our example has an indented print statement that will be run at each iteration. "
   ]
  },
  {
   "cell_type": "markdown",
   "id": "6c051bf2",
   "metadata": {},
   "source": [
    "### Many Ways to Accomplish the Same Thing \n",
    "For loops can frequently be written in many different ways. Remeber `zip()` from the previous lecture? It also produces an iterable collection that we can loop through."
   ]
  },
  {
   "cell_type": "code",
   "id": "0e54dd67",
   "metadata": {
    "scrolled": true
   },
   "source": [
    "for city, country in zip(cities, countries):\n",
    "    print(f\"{city} is in {country}.\")\n",
    "    \n",
    "list(zip(cities, countries)) ## This lets us see what Zip is doing."
   ],
   "outputs": [],
   "execution_count": null
  },
  {
   "cell_type": "markdown",
   "id": "b4b2f411",
   "metadata": {},
   "source": [
    "### `zip()` discussion\n",
    "By turning the output of `zip()` into a list, we can see that `zip()` is creating an iterable out of two lists where each item in the iterable is a tuple of the corresponding elements in the two lists.\n",
    "\n",
    "We are assigning the first element of each tuple to the name `city` and the second element of each tuple to the name `country`.\n",
    "\n",
    "We can also use a function called `enumerate()` to create another iterable. Instead of combining two lists, this iterable keeps track of the index of each item on a list and the item itself. "
   ]
  },
  {
   "cell_type": "code",
   "id": "4a1c83fe",
   "metadata": {
    "scrolled": true
   },
   "source": [
    "for i,city in enumerate(cities):\n",
    "    print(f\"{city} is in {countries[i]}.\")\n",
    "    \n",
    "print(list(enumerate(cities)))"
   ],
   "outputs": [],
   "execution_count": null
  },
  {
   "cell_type": "markdown",
   "id": "c14ec020",
   "metadata": {},
   "source": [
    "### `enumerate()` discussion\n",
    "In the last line, we can see that `enumerate()` constructs a collection tuples like `zip()`does. \n",
    "\n",
    "The first element of the tuple, however, is the index of the element. \n",
    "\n",
    "This can be useful if you are accessing many different lists with the same indexing pattern (such as cities and countries)."
   ]
  },
  {
   "cell_type": "markdown",
   "id": "31b8f222",
   "metadata": {},
   "source": [
    "### `while` Loops\n",
    "With `for` loops, we generally know how many iterations a process will take. To use our previous examples, once we've sent every customer an email or loaded all of the files into Python, the task is complete. \n",
    "\n",
    "In contrast, sometimes we want a task to iterate until until some condition is met, but we do not know beforehand when that condition will be met. In such a situation, `while` loops can help. `while` loops iterate a chunk of code *while* a certain logical expression is equal to `True`. Normally, the code within the loop will manipulate variables in someway so that the condition is eventually `False`.\n",
    "\n",
    "In the example below, a `while` loop is used to find the smallest positive integer whose square is greater than or equal to 12,345.\n"
   ]
  },
  {
   "cell_type": "code",
   "id": "590477f2",
   "metadata": {},
   "source": [
    "import math\n",
    "fact_val = 0\n",
    "i = 0\n",
    "while fact_val < 12345:\n",
    "    i = i + 1 # initializing a counter and iterating it is common in while loops\n",
    "    fact_val = i ** 2\n",
    "    \n",
    "#print(i)\n",
    "print(i**2)\n",
    "print((i-1)**2)"
   ],
   "outputs": [],
   "execution_count": null
  },
  {
   "cell_type": "markdown",
   "id": "2ddd839b",
   "metadata": {},
   "source": [
    "### Watch out for Infinite Loops!\n",
    "In the example above, the inevitable increase of `fact_val` made it so the condition (`fact_val < 12345`) would eventually be `False` and the loop would exit. \n",
    "\n",
    "If nothing within the `while` loop changes the logical condition from `True` to `False`, then the loop will repeat forever. When this happens,  simply interrupt the kernel by pressing the <kbd>i</kbd> key twice or going to the kernel menu above. Try it out on the cell below after uncommenting one of the two loops."
   ]
  },
  {
   "cell_type": "code",
   "id": "4d49f840",
   "metadata": {},
   "source": [
    "# Infinite loops\n",
    "#while True:\n",
    "#    a=1\n",
    "\n",
    "#b = 1\n",
    "#while b < 3:\n",
    "#    b = b - 1\n",
    "    "
   ],
   "outputs": [],
   "execution_count": null
  },
  {
   "cell_type": "markdown",
   "id": "1e22c374",
   "metadata": {},
   "source": [
    "## `break`\n",
    "When using both `for` and `while` loops, we may want to exit the code early if some condition is met. The `break` keyword allows us to break out of a loop and continue the remainder of the code. In fact, it can help us avoid infinite loops when using a `while` loop as shown in the first example."
   ]
  },
  {
   "cell_type": "code",
   "id": "f2747211",
   "metadata": {},
   "source": [
    "a=1\n",
    "while True:\n",
    "    a = a + 1\n",
    "    if a >= 1000: # Break if too many iteration have passed\n",
    "        print(a)\n",
    "        break"
   ],
   "outputs": [],
   "execution_count": null
  },
  {
   "cell_type": "code",
   "id": "f3c3ae27",
   "metadata": {},
   "source": [
    "numbers = [1, 4, 5, 0, 8]\n",
    "for i,n in enumerate(numbers):\n",
    "    if n == 0: # dividing by 0 would cause an error so break before that happens\n",
    "        print(\"will divide by 0 -- stopped loop\")\n",
    "        break\n",
    "    numbers[i] = 1/n\n",
    "print(numbers)"
   ],
   "outputs": [],
   "execution_count": null
  },
  {
   "cell_type": "markdown",
   "id": "f6a900ea",
   "metadata": {},
   "source": [
    "### `continue`\n",
    "Other times, we want to keep the loop going but skip a given iteration. For example, what if our aformentioned company only wants to email customers who bought a potentially hazardous faulty product so that they can get a replacement or refund? Let's set up a bare bone example below:"
   ]
  },
  {
   "cell_type": "code",
   "id": "4e8b6a47",
   "metadata": {},
   "source": [
    "customer_ids = list(range(20)) # a list of unique customer ids from 0-19\n",
    "purchase_prod = [0, 0, 0, 1, 0, 0, 1, 0, 1, 0, 0, 0, 1, 0, 1, 1, 1, 0, 0, 1]\n",
    "for i, cust in enumerate(customer_ids):\n",
    "    if purchase_prod[i] == 0:\n",
    "        continue\n",
    "    print(f\"Send refund an email to customer {cust}\") # this only happens in purchase_prod[i] == 1\n",
    "    "
   ],
   "outputs": [],
   "execution_count": null
  },
  {
   "cell_type": "markdown",
   "id": "bbdf20c1",
   "metadata": {},
   "source": [
    "In reality, the `print()` expression would be replaced with code that sends an email that is customized to a customer's relevant characteristics. "
   ]
  },
  {
   "cell_type": "markdown",
   "id": "d616d69d",
   "metadata": {},
   "source": [
    "## List Comprehensions\n",
    "One thing we might want to do iteratively is generate lists. For instance, imagine we have our list `numbers` from earlier and we want another list that is the square of each number. We could do this using the loops we already know. "
   ]
  },
  {
   "cell_type": "code",
   "id": "46e700cb",
   "metadata": {},
   "source": [
    "num_sq = [] # initialize list\n",
    "for n in numbers:\n",
    "    num_sq.append(round(n ** 2, 6))\n",
    "print(num_sq)"
   ],
   "outputs": [],
   "execution_count": null
  },
  {
   "cell_type": "markdown",
   "id": "ea1a83aa",
   "metadata": {},
   "source": [
    "Alternatively, we could use **list comprehensions** -- an alternative syntax for iterative list construction. The `n` below serves the same roles as the `n` above -- it takes on the value of the current item and allows us to operate on it. "
   ]
  },
  {
   "cell_type": "code",
   "id": "30e6ccfa",
   "metadata": {},
   "source": [
    "num_sq_alt = [round(n ** 2, 6)for n in numbers]\n",
    "print(num_sq_alt)"
   ],
   "outputs": [],
   "execution_count": null
  }
 ],
 "metadata": {
  "kernelspec": {
   "display_name": "Python 3 (ipykernel)",
   "language": "python",
   "name": "python3"
  },
  "language_info": {
   "codemirror_mode": {
    "name": "ipython",
    "version": 3
   },
   "file_extension": ".py",
   "mimetype": "text/x-python",
   "name": "python",
   "nbconvert_exporter": "python",
   "pygments_lexer": "ipython3",
   "version": "3.9.15"
  }
 },
 "nbformat": 4,
 "nbformat_minor": 5
}
