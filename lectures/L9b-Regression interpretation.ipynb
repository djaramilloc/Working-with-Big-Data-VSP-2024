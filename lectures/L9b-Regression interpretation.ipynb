{
 "nbformat": 4,
 "nbformat_minor": 0,
 "metadata": {
  "colab": {
   "provenance": [],
   "authorship_tag": "ABX9TyOC83VtFsaSpl4uHSPZdRLz"
  },
  "kernelspec": {
   "name": "python3",
   "display_name": "Python 3"
  },
  "language_info": {
   "name": "python"
  }
 },
 "cells": [
  {
   "cell_type": "markdown",
   "source": [
    "# Notes on Interpreting Linear Regression\n",
    "\n",
    "To get a better understanding on how to interpret the coefficients we will run a couple of regressions on a new dataset on the most streamed Spotify Songs.\n",
    "\n",
    "The idea of this excersice is for you to get a better understanding on how to interpret coefficients, rather than making a regression that ``makes sense''. In general, the examples that we will perform won't make much sense, but they are meant to get an understanding of interpretation of the variables"
   ],
   "metadata": {
    "id": "sQ-w0ZDVPM5H"
   }
  },
  {
   "metadata": {},
   "cell_type": "code",
   "outputs": [],
   "execution_count": null,
   "source": [
    "import pandas as pd\n",
    "from sklearn import linear_model\n",
    "import numpy as np"
   ]
  },
  {
   "cell_type": "code",
   "source": [
    "spotifydf = pd.read_csv('sample_data/spotify_2024.csv', encoding='latin')\n",
    "spotifydf.head()"
   ],
   "metadata": {
    "colab": {
     "base_uri": "https://localhost:8080/",
     "height": 429
    },
    "id": "1cCB-M34PL7G",
    "executionInfo": {
     "status": "ok",
     "timestamp": 1722387810880,
     "user_tz": 420,
     "elapsed": 242,
     "user": {
      "displayName": "Daniel Jaramillo",
      "userId": "05676542912155074596"
     }
    },
    "outputId": "5f4081b8-3711-4dc4-9839-e81bac92a752"
   },
   "outputs": [],
   "execution_count": null
  },
  {
   "cell_type": "code",
   "source": [
    "spotifydf.columns"
   ],
   "metadata": {
    "colab": {
     "base_uri": "https://localhost:8080/"
    },
    "id": "BS-3X1FyRFiG",
    "executionInfo": {
     "status": "ok",
     "timestamp": 1722387271047,
     "user_tz": 420,
     "elapsed": 302,
     "user": {
      "displayName": "Daniel Jaramillo",
      "userId": "05676542912155074596"
     }
    },
    "outputId": "ba243c37-62f3-4527-9994-2cb0eec9f24a"
   },
   "outputs": [],
   "execution_count": null
  },
  {
   "cell_type": "code",
   "source": [
    "spotifydf = spotifydf[[\n",
    "    'Track', 'Album Name', 'Artist', 'Release Date', 'All Time Rank',\n",
    "    'Spotify Streams', 'Spotify Playlist Count', 'Spotify Playlist Reach',\n",
    "    'Spotify Popularity', 'YouTube Views', 'YouTube Likes']].copy()\n",
    "spotifydf.head()"
   ],
   "metadata": {
    "colab": {
     "base_uri": "https://localhost:8080/",
     "height": 226
    },
    "id": "b93HKOLKRnNW",
    "executionInfo": {
     "status": "ok",
     "timestamp": 1722387814059,
     "user_tz": 420,
     "elapsed": 241,
     "user": {
      "displayName": "Daniel Jaramillo",
      "userId": "05676542912155074596"
     }
    },
    "outputId": "c435613c-6c4a-421b-e564-b9217d325ef2"
   },
   "outputs": [],
   "execution_count": null
  },
  {
   "cell_type": "markdown",
   "source": [
    "## Regression on levels\n",
    "\n",
    "We already saw how to run and interpret this type regression at the beginning of this lecture. It simple a regression of the variables $y$ on $x$ as they are (without modifying their units). We will run the following estimation:\n",
    "\n",
    "$$\n",
    "Spotify Streams_i = \\beta_0 + \\beta_1 YouTube Views_i + \\epsilon_i\n",
    "$$\n"
   ],
   "metadata": {
    "id": "9pDfYC-8SlWw"
   }
  },
  {
   "cell_type": "code",
   "source": [
    "# Convert strings to numbers\n",
    "numvars = [\n",
    "    'Spotify Streams', 'Spotify Playlist Count', 'Spotify Playlist Reach',\n",
    "    'YouTube Views', 'YouTube Likes'\n",
    "    ]\n",
    "\n",
    "for col in numvars:\n",
    "  spotifydf[col] = spotifydf[col].str.replace(',', '').map(float)\n",
    "\n",
    "# REmove missing values\n",
    "spotifydf = spotifydf.dropna(how='any')"
   ],
   "metadata": {
    "id": "TmPRwaOHTkVI",
    "executionInfo": {
     "status": "ok",
     "timestamp": 1722387816232,
     "user_tz": 420,
     "elapsed": 222,
     "user": {
      "displayName": "Daniel Jaramillo",
      "userId": "05676542912155074596"
     }
    }
   },
   "outputs": [],
   "execution_count": null
  },
  {
   "cell_type": "code",
   "source": [
    "spotifydf.head()"
   ],
   "metadata": {
    "colab": {
     "base_uri": "https://localhost:8080/",
     "height": 226
    },
    "id": "Pi_PbpJPUGyo",
    "executionInfo": {
     "status": "ok",
     "timestamp": 1722387901060,
     "user_tz": 420,
     "elapsed": 275,
     "user": {
      "displayName": "Daniel Jaramillo",
      "userId": "05676542912155074596"
     }
    },
    "outputId": "154b261a-2dd2-4fad-8d25-d2936d5a6fd3"
   },
   "outputs": [],
   "execution_count": null
  },
  {
   "cell_type": "code",
   "source": [
    "# Define the data\n",
    "X = spotifydf[['YouTube Views']].copy()\n",
    "y = spotifydf[['Spotify Streams']].copy()"
   ],
   "metadata": {
    "id": "h9fUokX0TSmQ",
    "executionInfo": {
     "status": "ok",
     "timestamp": 1722387904770,
     "user_tz": 420,
     "elapsed": 247,
     "user": {
      "displayName": "Daniel Jaramillo",
      "userId": "05676542912155074596"
     }
    }
   },
   "outputs": [],
   "execution_count": null
  },
  {
   "cell_type": "code",
   "source": [
    "levels_reg = linear_model.LinearRegression()\n",
    "levels_reg.fit(X, y)"
   ],
   "metadata": {
    "colab": {
     "base_uri": "https://localhost:8080/",
     "height": 95
    },
    "id": "iiRkXeeISVMe",
    "executionInfo": {
     "status": "ok",
     "timestamp": 1722388494364,
     "user_tz": 420,
     "elapsed": 262,
     "user": {
      "displayName": "Daniel Jaramillo",
      "userId": "05676542912155074596"
     }
    },
    "outputId": "c5cdf144-9c8c-4240-a2e7-5e3c2af0d5bf"
   },
   "outputs": [],
   "execution_count": null
  },
  {
   "cell_type": "code",
   "source": [
    "beta0 = levels_reg.intercept_[0]\n",
    "beta1 = levels_reg.coef_[0][0]\n",
    "\n",
    "print(f\"Fitted model: Spotify Streams = {beta0:.2f} + {beta1:.2f} YouTube Views\")"
   ],
   "metadata": {
    "colab": {
     "base_uri": "https://localhost:8080/"
    },
    "id": "c_oAfizzSWze",
    "executionInfo": {
     "status": "ok",
     "timestamp": 1722388062459,
     "user_tz": 420,
     "elapsed": 224,
     "user": {
      "displayName": "Daniel Jaramillo",
      "userId": "05676542912155074596"
     }
    },
    "outputId": "bbd9de61-246b-4b88-ab17-727244f5ff66"
   },
   "outputs": [],
   "execution_count": null
  },
  {
   "cell_type": "markdown",
   "source": [
    "**How would you interpret $\\beta_0$ and $\\beta_1$**?"
   ],
   "metadata": {
    "id": "pZ8pzz9BVD3J"
   }
  },
  {
   "cell_type": "markdown",
   "source": [
    "## Model 2: Models involving logarithms\n",
    "\n",
    "Here are are going to look at variables that their units are logarithms. We briefly discussed them at the beginning of the lecture, but here we are going to make more emphasis on them. This models are often presented as three possible forms:\n",
    "\n",
    "**Lin-Log:** $y = \\beta_0 + \\beta_1 log(x) + \\epsilon$ \\\\\n",
    "**Log-Lin:** $log(y) = \\beta_0 + \\beta_1 x + \\epsilon$ \\\\\n",
    "**Log-Log:** $log(y) = \\beta_0 + \\beta_1 log(x) + \\epsilon$\n",
    "\n",
    "Lets run these regressions and see how to interpret the coefficients\n"
   ],
   "metadata": {
    "id": "t3I_SY9jVMh5"
   }
  },
  {
   "cell_type": "code",
   "source": [
    "X"
   ],
   "metadata": {
    "colab": {
     "base_uri": "https://localhost:8080/",
     "height": 444
    },
    "id": "3RC34Z8PWNup",
    "executionInfo": {
     "status": "ok",
     "timestamp": 1722388377767,
     "user_tz": 420,
     "elapsed": 280,
     "user": {
      "displayName": "Daniel Jaramillo",
      "userId": "05676542912155074596"
     }
    },
    "outputId": "e4037c18-39a6-4791-9ff4-0a30e28408b6"
   },
   "outputs": [],
   "execution_count": null
  },
  {
   "cell_type": "code",
   "source": [
    "# First lets run the log-log model\n",
    "X['log_youtube'] = np.log(X['YouTube Views'])\n",
    "logy = np.log(y['Spotify Streams'])\n",
    "\n",
    "# Run the regression as usual\n",
    "loglog_reg = linear_model.LinearRegression()\n",
    "loglog_reg.fit(X[['log_youtube']], logy)"
   ],
   "metadata": {
    "colab": {
     "base_uri": "https://localhost:8080/",
     "height": 95
    },
    "id": "n4IN77TtU-V3",
    "executionInfo": {
     "status": "ok",
     "timestamp": 1722388516548,
     "user_tz": 420,
     "elapsed": 263,
     "user": {
      "displayName": "Daniel Jaramillo",
      "userId": "05676542912155074596"
     }
    },
    "outputId": "57fd49d8-0519-4d85-9afe-bdd13972caee"
   },
   "outputs": [],
   "execution_count": null
  },
  {
   "cell_type": "code",
   "source": [
    "beta0 = loglog_reg.intercept_\n",
    "beta1 = loglog_reg.coef_[0]\n",
    "\n",
    "print(f\"Fitted model: log(Spotify Streams) = {beta0:.2f} + {beta1:.2f} log(YouTube Views)\")"
   ],
   "metadata": {
    "colab": {
     "base_uri": "https://localhost:8080/"
    },
    "id": "LF9pWBdmWwyX",
    "executionInfo": {
     "status": "ok",
     "timestamp": 1722388754179,
     "user_tz": 420,
     "elapsed": 323,
     "user": {
      "displayName": "Daniel Jaramillo",
      "userId": "05676542912155074596"
     }
    },
    "outputId": "f578452c-0178-4605-ba38-2a3bcaa73f2f"
   },
   "outputs": [],
   "execution_count": null
  },
  {
   "cell_type": "markdown",
   "source": [
    "**What is the interpretation of $\\beta_1 = 0.43$?**"
   ],
   "metadata": {
    "id": "X1qL-T1pW8F5"
   }
  },
  {
   "cell_type": "markdown",
   "source": [
    "Lets run now a lin-log model"
   ],
   "metadata": {
    "id": "DxeefOy9XalZ"
   }
  },
  {
   "cell_type": "code",
   "source": [
    "# Initiate the model\n",
    "linlog_reg = linear_model.LinearRegression()\n",
    "linlog_reg.fit(X[['log_youtube']], y['Spotify Streams'])\n",
    "\n",
    "beta0 = linlog_reg.intercept_\n",
    "beta1 = linlog_reg.coef_[0]\n",
    "\n",
    "print(f\"Fitted model: Spotify Streams = {beta0:.2f} + {beta1:.2f} log(YouTube Views)\")"
   ],
   "metadata": {
    "colab": {
     "base_uri": "https://localhost:8080/"
    },
    "id": "J_jcLNd-W2Mv",
    "executionInfo": {
     "status": "ok",
     "timestamp": 1722388775561,
     "user_tz": 420,
     "elapsed": 260,
     "user": {
      "displayName": "Daniel Jaramillo",
      "userId": "05676542912155074596"
     }
    },
    "outputId": "c6450a86-29fe-4428-fabf-b9785281ad78"
   },
   "outputs": [],
   "execution_count": null
  },
  {
   "cell_type": "markdown",
   "source": [
    "Waht is the interpretation of $\\beta_1$ now"
   ],
   "metadata": {
    "id": "DTpR1zntX0k5"
   }
  },
  {
   "cell_type": "code",
   "source": [],
   "metadata": {
    "id": "voA0nFk_XtP_"
   },
   "outputs": [],
   "execution_count": null
  },
  {
   "cell_type": "markdown",
   "source": [
    "## Percentages as independent variables"
   ],
   "metadata": {
    "id": "GfyvN69jX4aw"
   }
  },
  {
   "cell_type": "code",
   "source": [],
   "metadata": {
    "id": "C6sY0wPBX8E6"
   },
   "outputs": [],
   "execution_count": null
  },
  {
   "cell_type": "code",
   "source": [],
   "metadata": {
    "id": "2zvyvU9uX8ox"
   },
   "outputs": [],
   "execution_count": null
  },
  {
   "cell_type": "code",
   "source": [],
   "metadata": {
    "id": "ZXU3q7tCX8jg"
   },
   "outputs": [],
   "execution_count": null
  },
  {
   "cell_type": "code",
   "source": [],
   "metadata": {
    "id": "3J9mc2JnX8dQ"
   },
   "outputs": [],
   "execution_count": null
  },
  {
   "cell_type": "markdown",
   "source": [
    "## Categorical variables as predictors"
   ],
   "metadata": {
    "id": "AEir3nZBX9SK"
   }
  }
 ]
}
